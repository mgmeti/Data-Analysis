{
  "nbformat": 4,
  "nbformat_minor": 0,
  "metadata": {
    "colab": {
      "provenance": [],
      "authorship_tag": "ABX9TyNNX4AHxwMifehujjZlYvmb",
      "include_colab_link": true
    },
    "kernelspec": {
      "name": "python3",
      "display_name": "Python 3"
    },
    "language_info": {
      "name": "python"
    }
  },
  "cells": [
    {
      "cell_type": "markdown",
      "metadata": {
        "id": "view-in-github",
        "colab_type": "text"
      },
      "source": [
        "<a href=\"https://colab.research.google.com/github/mgmeti/Data-Analysis/blob/main/Pet_Ownership_Analysis_in_Southfield.ipynb\" target=\"_parent\"><img src=\"https://colab.research.google.com/assets/colab-badge.svg\" alt=\"Open In Colab\"/></a>"
      ]
    },
    {
      "cell_type": "code",
      "execution_count": 1,
      "metadata": {
        "id": "g1m_4gqxrJz-"
      },
      "outputs": [],
      "source": [
        "import pandas as pd\n"
      ]
    },
    {
      "cell_type": "code",
      "source": [
        "# Load 'owners.csv' into a DataFrame\n",
        "owners_df = pd.read_csv('owners.csv')\n",
        "\n",
        "# Load 'pets.csv' into a DataFrame\n",
        "pets_df = pd.read_csv('pets.csv')\n",
        "\n",
        "# Load 'procedure_details.csv' into a DataFrame\n",
        "procedure_details_df = pd.read_csv('procedure_details.csv')\n",
        "\n",
        "# Load 'procedures.csv' into a DataFrame\n",
        "procedures_df = pd.read_csv('procedures.csv')\n"
      ],
      "metadata": {
        "id": "0MQQ09qsulCQ"
      },
      "execution_count": 2,
      "outputs": []
    },
    {
      "cell_type": "code",
      "source": [
        "# Display the first few rows of each DataFrame\n",
        "print(\"Owners DataFrame:\")\n",
        "print(owners_df.head())\n",
        "\n",
        "print(\"\\nPets DataFrame:\")\n",
        "print(pets_df.head())\n",
        "\n",
        "print(\"\\nProcedure Details DataFrame:\")\n",
        "print(procedure_details_df.head())\n",
        "\n",
        "print(\"\\nProcedures DataFrame:\")\n",
        "print(procedures_df.head())\n"
      ],
      "metadata": {
        "colab": {
          "base_uri": "https://localhost:8080/"
        },
        "id": "TppwykxGuowq",
        "outputId": "376ab3f8-addb-4f9d-c268-4c798330b021"
      },
      "execution_count": 3,
      "outputs": [
        {
          "output_type": "stream",
          "name": "stdout",
          "text": [
            "Owners DataFrame:\n",
            "   OwnerID     Name     Surname          StreetAddress                 City  \\\n",
            "0     6049   Debbie    Metivier        315 Goff Avenue         Grand Rapids   \n",
            "1     2863     John   Sebastian      3221 Perry Street              Davison   \n",
            "2     3518   Connie      Pauley  1539 Cunningham Court  Bloomfield Township   \n",
            "3     3663     Lena  Haliburton   4217 Twin Oaks Drive        Traverse City   \n",
            "4     1070  Jessica   Velazquez   3861 Woodbridge Lane           Southfield   \n",
            "\n",
            "  State StateFull  ZipCode  \n",
            "0    MI  Michigan    49503  \n",
            "1    MI  Michigan    48423  \n",
            "2    MI  Michigan    48302  \n",
            "3    MI  Michigan    49684  \n",
            "4    MI  Michigan    48034  \n",
            "\n",
            "Pets DataFrame:\n",
            "     PetID     Name    Kind  Gender  Age  OwnerID\n",
            "0  J6-8562   Brandy     Dog    male   11     5168\n",
            "1  Q0-2001   Roomba     Cat    male    9     5508\n",
            "2  M0-2904    Simba     Cat    male    1     3086\n",
            "3  R3-7551   Keller  Parrot  female    2     7908\n",
            "4  P2-7342  Cuddles     Dog    male   13     4378\n",
            "\n",
            "Procedure Details DataFrame:\n",
            "  ProcedureType  ProcedureSubCode  Description  Price\n",
            "0   OFFICE FEES                 1  Office Call     32\n",
            "1   OFFICE FEES                 2    Emergency    100\n",
            "2   OFFICE FEES                 3         Reck     24\n",
            "3      GROOMING                 1         Bath     15\n",
            "4      GROOMING                 2     Flea Dip     15\n",
            "\n",
            "Procedures DataFrame:\n",
            "     PetID   Date ProcedureType  ProcedureSubCode\n",
            "0  T0-3277  42391  VACCINATIONS                 5\n",
            "1  G6-6501  42398  VACCINATIONS                 5\n",
            "2  P9-3625  42399    ORTHOPEDIC                 7\n",
            "3  F1-1855  42402  VACCINATIONS                 5\n",
            "4  S1-2243  42404  VACCINATIONS                 5\n"
          ]
        }
      ]
    },
    {
      "cell_type": "markdown",
      "source": [
        "Q1 ) What is the name of the oldest dog in Southfield?"
      ],
      "metadata": {
        "id": "RQew6VlwJ7An"
      }
    },
    {
      "cell_type": "markdown",
      "source": [
        "Step 1: Merge the Pets DataFrame with the Owners DataFrame based on the common column OwnerID.\n",
        "\n",
        "Step 2: Filter the rows where the Kind is 'Dog' and City is 'Southfield'.\n",
        "\n",
        "Step 3: Find the dog with the maximum age.\n",
        "\n",
        "Step 4: Get the name of the oldest dog."
      ],
      "metadata": {
        "id": "8NM3zfmPwp1s"
      }
    },
    {
      "cell_type": "code",
      "source": [
        "# Step 1: Merge the Pets DataFrame with the Owners DataFrame\n",
        "merged_df = pd.merge(pets_df, owners_df, on='OwnerID')\n",
        "\n",
        "# Step 2: Filter rows for dogs in Southfield\n",
        "oldest_dog_southfield = merged_df[(merged_df['Kind'] == 'Dog') & (merged_df['City'] == 'Southfield')]\n",
        "\n",
        "# Step 3: Find the dog with the maximum age\n",
        "oldest_dog = oldest_dog_southfield[oldest_dog_southfield['Age'] == oldest_dog_southfield['Age'].max()]\n",
        "\n",
        "\n",
        "# Step 4: Get the name of the oldest dog\n",
        "oldest_dog_name = oldest_dog['Name_x'].values[0]\n",
        "\n",
        "print(\"The name of the oldest dog in Southfield is:\", oldest_dog_name)\n"
      ],
      "metadata": {
        "colab": {
          "base_uri": "https://localhost:8080/"
        },
        "id": "1fUkDycuurt7",
        "outputId": "bc331d53-b124-4b20-de84-1d1497d5cb4d"
      },
      "execution_count": 7,
      "outputs": [
        {
          "output_type": "stream",
          "name": "stdout",
          "text": [
            "The name of the oldest dog in Southfield is: Crockett\n"
          ]
        }
      ]
    },
    {
      "cell_type": "markdown",
      "source": [
        "Q2 ) What is the average (mean) number of pets per city?"
      ],
      "metadata": {
        "id": "UhGwqjt8KO9g"
      }
    },
    {
      "cell_type": "markdown",
      "source": [
        "\n",
        "\n",
        "1. Merge the 'Owners' DataFrame with the 'Pets' DataFrame using the common column'OwnerID' as the key to associate each pet with its owner and their city.\n",
        "2. Group the merged DataFrame by 'City'.\n",
        "3. Calculate the average number of pets in each city.\n",
        "\n",
        "\n",
        "\n"
      ],
      "metadata": {
        "id": "sl3omQOExbIK"
      }
    },
    {
      "cell_type": "code",
      "source": [
        "# Step 1: Merge 'Owners' DataFrame with 'Pets' DataFrame\n",
        "merged_df = pd.merge(owners_df, pets_df, on='OwnerID')\n",
        "\n",
        "# Step 2: Group by 'City' and count the number of pets in each city\n",
        "average_pets_per_city = merged_df.groupby('City')['PetID'].count()\n",
        "\n",
        "# Step 3: Calculate the mean (average) number of pets per city\n",
        "mean_pets_per_city = average_pets_per_city.mean()\n",
        "\n",
        "print(\"Average number of pets per city:\", mean_pets_per_city)\n"
      ],
      "metadata": {
        "colab": {
          "base_uri": "https://localhost:8080/"
        },
        "id": "KqMm41gNvaMs",
        "outputId": "3adf3e3e-994f-4077-adc5-953831e09d5e"
      },
      "execution_count": 10,
      "outputs": [
        {
          "output_type": "stream",
          "name": "stdout",
          "text": [
            "Average number of pets per city: 2.5\n"
          ]
        }
      ]
    },
    {
      "cell_type": "markdown",
      "source": [
        "Q3 ) Which owner spent the most on procedures for their pet(s)?\n",
        "\n",
        "Q4 ) How many owners spent 20 dollars or more on procedures for their pets?"
      ],
      "metadata": {
        "id": "c_cMAcyJKS1i"
      }
    },
    {
      "cell_type": "code",
      "source": [
        "# Merge the 'procedures_df' with 'procedure_details_df' to get the price of each procedure\n",
        "merged_procedures_df = pd.merge(procedures_df, procedure_details_df, on=['ProcedureType', 'ProcedureSubCode'])\n",
        "\n",
        "# Merge the 'pets_df' with 'merged_procedures_df' to get the price of each procedure for each pet\n",
        "merged_df = pd.merge(pets_df, merged_procedures_df, on='PetID')\n",
        "\n",
        "# Calculate the total cost of procedures for each pet\n",
        "merged_df['TotalProcedureCost'] = merged_df['Price']\n",
        "\n",
        "# Group by 'OwnerID' and calculate the total procedure cost for each owner\n",
        "owner_procedure_costs = merged_df.groupby('OwnerID')['TotalProcedureCost'].sum()\n",
        "\n",
        "# Find the OwnerID with the maximum total procedure cost\n",
        "max_spending_owner_id = owner_procedure_costs.idxmax()\n",
        "\n",
        "# Retrieve the owner's details from the 'owners_df' using the found OwnerID\n",
        "max_spending_owner_details = owners_df.loc[owners_df['OwnerID'] == max_spending_owner_id]\n",
        "\n",
        "# Print the result\n",
        "print(\"Owner who spent the most on procedures:\")\n",
        "print(max_spending_owner_details[['Name', 'Surname', 'City', 'State']])\n",
        "\n",
        "\n",
        "# Filter the merged DataFrame to include only those owners who spent $20 or more on procedures\n",
        "owners_spent_20_or_more = merged_df.groupby('OwnerID')['TotalProcedureCost'].sum() >= 20\n",
        "\n",
        "# Count the number of owners who meet the condition (spent $20 or more)\n",
        "num_owners_spent_20_or_more = owners_spent_20_or_more.sum()\n",
        "\n",
        "# Print the result\n",
        "print(\"Number of owners who spent $20 or more on procedures for their pets:\", num_owners_spent_20_or_more)\n",
        "\n"
      ],
      "metadata": {
        "colab": {
          "base_uri": "https://localhost:8080/"
        },
        "id": "EiPiyW8DyZFb",
        "outputId": "6bf7003b-5be2-4b31-e2d3-c5f8f50b702e"
      },
      "execution_count": 18,
      "outputs": [
        {
          "output_type": "stream",
          "name": "stdout",
          "text": [
            "Owner who spent the most on procedures:\n",
            "      Name Surname          City State\n",
            "70  Daniel     Fay  Grand Rapids    MI\n",
            "Number of owners who spent $20 or more on procedures for their pets: 12\n",
            "Number of owners with at least two different kinds of pets: 1\n"
          ]
        }
      ]
    },
    {
      "cell_type": "markdown",
      "source": [
        "Q5 ) How many owners have at least two different kinds of pets (e.g., a dog and a cat)?"
      ],
      "metadata": {
        "id": "0j5JxNFYKcjJ"
      }
    },
    {
      "cell_type": "code",
      "source": [
        "# Step 1: Merge the DataFrames\n",
        "merged_df = pd.merge(owners_df, pets_df, on='OwnerID', how='inner')\n",
        "\n",
        "# Step 2: Group and Filter Data\n",
        "owners_with_multiple_pets = merged_df.groupby('OwnerID')['Kind'].nunique() >= 2\n",
        "\n",
        "# Step 3: Count the Owners\n",
        "num_owners_with_multiple_pets = owners_with_multiple_pets.sum()\n",
        "\n",
        "# Step 4: Calculate and Print the Result\n",
        "print(\"Number of owners with at least two different kinds of pets:\", num_owners_with_multiple_pets)\n"
      ],
      "metadata": {
        "colab": {
          "base_uri": "https://localhost:8080/"
        },
        "id": "xumaNEMmDyUZ",
        "outputId": "b274dff2-fb92-4ad5-bf7b-6e1f9f4044c1"
      },
      "execution_count": 19,
      "outputs": [
        {
          "output_type": "stream",
          "name": "stdout",
          "text": [
            "Number of owners with at least two different kinds of pets: 4\n"
          ]
        }
      ]
    },
    {
      "cell_type": "markdown",
      "source": [
        "Q6 ) How many owners have pets where the first letter of their name (OwnerName) matches the first letter of their pet's name (PetName)? E.g., Cookie and Charles."
      ],
      "metadata": {
        "id": "AuuEmD93KgL9"
      }
    },
    {
      "cell_type": "code",
      "source": [
        "# Step 1: Merge the 'owners_df' and 'pets_df' DataFrames on 'OwnerID' and 'OwnerID' columns\n",
        "merged_df = owners_df.merge(pets_df, left_on='OwnerID', right_on='OwnerID', suffixes=('_owner', '_pet'))\n",
        "\n",
        "# Step 2: Create a new column to store whether the first letter of the owner's name matches the first letter of the pet's name\n",
        "merged_df['NameMatch'] = merged_df.apply(lambda row: row['Name_owner'][0] == row['Name_pet'][0], axis=1)\n",
        "\n",
        "# Step 3: Count the number of occurrences where the first letter matches\n",
        "matching_owners_count = merged_df[merged_df['NameMatch']].shape[0]\n",
        "\n",
        "print(\"Number of owners with pets where the first letter of their name matches the first letter of their pet's name:\", matching_owners_count)\n"
      ],
      "metadata": {
        "colab": {
          "base_uri": "https://localhost:8080/"
        },
        "id": "m-hRT_c4FQxB",
        "outputId": "3aba025d-d6e4-4ef9-8543-74ccc10f20f9"
      },
      "execution_count": 23,
      "outputs": [
        {
          "output_type": "stream",
          "name": "stdout",
          "text": [
            "Number of owners with pets where the first letter of their name matches the first letter of their pet's name: 8\n"
          ]
        }
      ]
    },
    {
      "cell_type": "markdown",
      "source": [
        "Q7 )  What percentage of pets received a vaccination?"
      ],
      "metadata": {
        "id": "863AS0JvKi42"
      }
    },
    {
      "cell_type": "code",
      "source": [
        "# Calculate the total number of unique pets\n",
        "total_unique_pets = procedures_df['PetID'].nunique()\n",
        "\n",
        "# Filter the DataFrame to include only vaccinations\n",
        "vaccinations_df = procedures_df[procedures_df['ProcedureType'] == 'VACCINATIONS']\n",
        "\n",
        "# Calculate the number of pets that received vaccinations\n",
        "pets_received_vaccinations = vaccinations_df['PetID'].nunique()\n",
        "\n",
        "# Calculate the percentage of pets that received vaccinations\n",
        "percentage_received_vaccinations = (pets_received_vaccinations / total_unique_pets) * 100\n",
        "\n",
        "print(\"Percentage of pets that received a vaccination: {:.2f}%\".format(percentage_received_vaccinations))"
      ],
      "metadata": {
        "colab": {
          "base_uri": "https://localhost:8080/"
        },
        "id": "bSHS6LDuFtZL",
        "outputId": "12a881a1-8ec6-4c6a-f5f4-fc82cf38be1e"
      },
      "execution_count": 24,
      "outputs": [
        {
          "output_type": "stream",
          "name": "stdout",
          "text": [
            "Percentage of pets that received a vaccination: 70.59%\n"
          ]
        }
      ]
    },
    {
      "cell_type": "markdown",
      "source": [
        "Q8 )  What percentage of cities have more male pets than female pets?"
      ],
      "metadata": {
        "id": "qj5nrTmGKlDU"
      }
    },
    {
      "cell_type": "code",
      "source": [
        "# Merge owners_df and pets_df on OwnerID\n",
        "merged_df = pd.merge(owners_df, pets_df, on='OwnerID')\n",
        "\n",
        "# Group by City and Gender, and calculate the count of each gender in each city\n",
        "gender_count_by_city = merged_df.groupby(['City', 'Gender']).size().unstack(fill_value=0)\n",
        "\n",
        "# Calculate the percentage of cities with more male pets than female pets\n",
        "cities_with_more_male_pets = gender_count_by_city[gender_count_by_city['male'] > gender_count_by_city['female']]\n",
        "percentage_cities_more_male_pets = (len(cities_with_more_male_pets) / len(merged_df['City'].unique())) * 100\n",
        "\n",
        "print(f\"Percentage of cities with more male pets than female pets: {percentage_cities_more_male_pets:.2f}%\")"
      ],
      "metadata": {
        "colab": {
          "base_uri": "https://localhost:8080/"
        },
        "id": "wfgL_thzHSae",
        "outputId": "00bc2d73-2b4c-444b-8eab-e3b06c1b4efc"
      },
      "execution_count": 28,
      "outputs": [
        {
          "output_type": "stream",
          "name": "stdout",
          "text": [
            "Percentage of cities with more male pets than female pets: 57.50%\n"
          ]
        }
      ]
    },
    {
      "cell_type": "markdown",
      "source": [
        "Q9 )  Which city's pet sample is made up of exactly 70% dogs?"
      ],
      "metadata": {
        "id": "RV_EzQVYKm_J"
      }
    },
    {
      "cell_type": "code",
      "source": [
        "# Step 1: Merge the Pets DataFrame with the Owners DataFrame\n",
        "merged_df = pd.merge(pets_df, owners_df, on='OwnerID')\n",
        "\n",
        "# Step 2: Calculate the total number of pets and the number of dogs for each city\n",
        "city_pets_count = merged_df.groupby('City')['Kind'].value_counts().unstack().fillna(0)\n",
        "city_pets_count['Total'] = city_pets_count.sum(axis=1)\n",
        "city_pets_count['Percentage_Dogs'] = (city_pets_count['Dog'] / city_pets_count['Total']) * 100\n",
        "\n",
        "# Step 4: Identify the city where the percentage of dogs is exactly 70%\n",
        "city_with_70_percent_dogs = city_pets_count[city_pets_count['Percentage_Dogs'] == 70.0]\n",
        "\n",
        "print(\"City's pet sample with exactly 70% dogs:\")\n",
        "print(city_with_70_percent_dogs.index[0])\n"
      ],
      "metadata": {
        "colab": {
          "base_uri": "https://localhost:8080/"
        },
        "id": "y_MO7F_wIjgb",
        "outputId": "1e90dc1a-f3c8-435f-9f66-09fe241e8f54"
      },
      "execution_count": 32,
      "outputs": [
        {
          "output_type": "stream",
          "name": "stdout",
          "text": [
            "City's pet sample with exactly 70% dogs:\n",
            "Grand Rapids\n"
          ]
        }
      ]
    },
    {
      "cell_type": "code",
      "source": [],
      "metadata": {
        "id": "9cVPje45JMup"
      },
      "execution_count": null,
      "outputs": []
    }
  ]
}