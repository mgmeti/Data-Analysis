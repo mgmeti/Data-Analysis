{
  "nbformat": 4,
  "nbformat_minor": 0,
  "metadata": {
    "colab": {
      "provenance": [],
      "authorship_tag": "ABX9TyO8FYDzalN2yqQgnQBx4rbj",
      "include_colab_link": true
    },
    "kernelspec": {
      "name": "python3",
      "display_name": "Python 3"
    },
    "language_info": {
      "name": "python"
    }
  },
  "cells": [
    {
      "cell_type": "markdown",
      "metadata": {
        "id": "view-in-github",
        "colab_type": "text"
      },
      "source": [
        "<a href=\"https://colab.research.google.com/github/mgmeti/Data-Analysis/blob/main/Pet_Ownership_Analysis_in_Southfield.ipynb\" target=\"_parent\"><img src=\"https://colab.research.google.com/assets/colab-badge.svg\" alt=\"Open In Colab\"/></a>"
      ]
    },
    {
      "cell_type": "code",
      "execution_count": 3,
      "metadata": {
        "id": "g1m_4gqxrJz-"
      },
      "outputs": [],
      "source": [
        "import pandas as pd\n"
      ]
    },
    {
      "cell_type": "code",
      "source": [
        "# Load 'owners.csv' into a DataFrame\n",
        "owners_df = pd.read_csv('owners.csv')\n",
        "\n",
        "# Load 'pets.csv' into a DataFrame\n",
        "pets_df = pd.read_csv('pets.csv')\n",
        "\n",
        "# Load 'procedure_details.csv' into a DataFrame\n",
        "procedure_details_df = pd.read_csv('procedure_details.csv')\n",
        "\n",
        "# Load 'procedures.csv' into a DataFrame\n",
        "procedures_df = pd.read_csv('procedures.csv')\n"
      ],
      "metadata": {
        "id": "0MQQ09qsulCQ"
      },
      "execution_count": 4,
      "outputs": []
    },
    {
      "cell_type": "code",
      "source": [
        "# Display the first few rows of each DataFrame\n",
        "print(\"Owners DataFrame:\")\n",
        "print(owners_df.head())\n",
        "\n",
        "print(\"\\nPets DataFrame:\")\n",
        "print(pets_df.head())\n",
        "\n",
        "print(\"\\nProcedure Details DataFrame:\")\n",
        "print(procedure_details_df.head())\n",
        "\n",
        "print(\"\\nProcedures DataFrame:\")\n",
        "print(procedures_df.head())\n"
      ],
      "metadata": {
        "colab": {
          "base_uri": "https://localhost:8080/"
        },
        "id": "TppwykxGuowq",
        "outputId": "b6bd4e39-8155-4d3f-bf4f-76256c881920"
      },
      "execution_count": 5,
      "outputs": [
        {
          "output_type": "stream",
          "name": "stdout",
          "text": [
            "Owners DataFrame:\n",
            "   OwnerID     Name     Surname          StreetAddress                 City  \\\n",
            "0     6049   Debbie    Metivier        315 Goff Avenue         Grand Rapids   \n",
            "1     2863     John   Sebastian      3221 Perry Street              Davison   \n",
            "2     3518   Connie      Pauley  1539 Cunningham Court  Bloomfield Township   \n",
            "3     3663     Lena  Haliburton   4217 Twin Oaks Drive        Traverse City   \n",
            "4     1070  Jessica   Velazquez   3861 Woodbridge Lane           Southfield   \n",
            "\n",
            "  State StateFull  ZipCode  \n",
            "0    MI  Michigan    49503  \n",
            "1    MI  Michigan    48423  \n",
            "2    MI  Michigan    48302  \n",
            "3    MI  Michigan    49684  \n",
            "4    MI  Michigan    48034  \n",
            "\n",
            "Pets DataFrame:\n",
            "     PetID     Name    Kind  Gender  Age  OwnerID\n",
            "0  J6-8562   Brandy     Dog    male   11     5168\n",
            "1  Q0-2001   Roomba     Cat    male    9     5508\n",
            "2  M0-2904    Simba     Cat    male    1     3086\n",
            "3  R3-7551   Keller  Parrot  female    2     7908\n",
            "4  P2-7342  Cuddles     Dog    male   13     4378\n",
            "\n",
            "Procedure Details DataFrame:\n",
            "  ProcedureType  ProcedureSubCode  Description  Price\n",
            "0   OFFICE FEES                 1  Office Call     32\n",
            "1   OFFICE FEES                 2    Emergency    100\n",
            "2   OFFICE FEES                 3         Reck     24\n",
            "3      GROOMING                 1         Bath     15\n",
            "4      GROOMING                 2     Flea Dip     15\n",
            "\n",
            "Procedures DataFrame:\n",
            "     PetID   Date ProcedureType  ProcedureSubCode\n",
            "0  T0-3277  42391  VACCINATIONS                 5\n",
            "1  G6-6501  42398  VACCINATIONS                 5\n",
            "2  P9-3625  42399    ORTHOPEDIC                 7\n",
            "3  F1-1855  42402  VACCINATIONS                 5\n",
            "4  S1-2243  42404  VACCINATIONS                 5\n"
          ]
        }
      ]
    },
    {
      "cell_type": "markdown",
      "source": [
        "Q1 ) What is the name of the oldest dog in Southfield?"
      ],
      "metadata": {
        "id": "RQew6VlwJ7An"
      }
    },
    {
      "cell_type": "markdown",
      "source": [
        "Step 1: Merge the Pets DataFrame with the Owners DataFrame based on the common column OwnerID.\n",
        "\n",
        "Step 2: Filter the rows where the Kind is 'Dog' and City is 'Southfield'.\n",
        "\n",
        "Step 3: Find the dog with the maximum age.\n",
        "\n",
        "Step 4: Get the name of the oldest dog."
      ],
      "metadata": {
        "id": "8NM3zfmPwp1s"
      }
    },
    {
      "cell_type": "code",
      "source": [
        "# Step 1: Merge the Pets DataFrame with the Owners DataFrame\n",
        "merged_df = pd.merge(pets_df, owners_df, on='OwnerID')\n",
        "\n",
        "# Step 2: Filter rows for dogs in Southfield\n",
        "oldest_dog_southfield = merged_df[(merged_df['Kind'] == 'Dog') & (merged_df['City'] == 'Southfield')]\n",
        "\n",
        "# Step 3: Find the dog with the maximum age\n",
        "oldest_dog = oldest_dog_southfield[oldest_dog_southfield['Age'] == oldest_dog_southfield['Age'].max()]\n",
        "\n",
        "\n",
        "# Step 4: Get the name of the oldest dog\n",
        "oldest_dog_name = oldest_dog['Name_x'].values[0]\n",
        "\n",
        "print(\"The name of the oldest dog in Southfield is:\", oldest_dog_name)\n"
      ],
      "metadata": {
        "colab": {
          "base_uri": "https://localhost:8080/"
        },
        "id": "1fUkDycuurt7",
        "outputId": "f6dbb7ca-b761-4629-f209-c7ebc898099d"
      },
      "execution_count": 6,
      "outputs": [
        {
          "output_type": "stream",
          "name": "stdout",
          "text": [
            "The name of the oldest dog in Southfield is: Crockett\n"
          ]
        }
      ]
    },
    {
      "cell_type": "markdown",
      "source": [
        "Q2 ) What is the average (mean) number of pets per city?"
      ],
      "metadata": {
        "id": "UhGwqjt8KO9g"
      }
    },
    {
      "cell_type": "markdown",
      "source": [
        "\n",
        "\n",
        "1. Merge the 'Owners' DataFrame with the 'Pets' DataFrame using the common column'OwnerID' as the key to associate each pet with its owner and their city.\n",
        "2. Group the merged DataFrame by 'City'.\n",
        "3. Calculate the average number of pets in each city.\n",
        "\n",
        "\n",
        "\n"
      ],
      "metadata": {
        "id": "sl3omQOExbIK"
      }
    },
    {
      "cell_type": "code",
      "source": [
        "# Step 1: Merge 'Owners' DataFrame with 'Pets' DataFrame\n",
        "merged_df = pd.merge(owners_df, pets_df, on='OwnerID')\n",
        "\n",
        "# Step 2: Group by 'City' and count the number of pets in each city\n",
        "average_pets_per_city = merged_df.groupby('City')['PetID'].count()\n",
        "\n",
        "# Step 3: Calculate the mean (average) number of pets per city\n",
        "mean_pets_per_city = average_pets_per_city.mean()\n",
        "\n",
        "print(\"Average number of pets per city:\", mean_pets_per_city)\n"
      ],
      "metadata": {
        "colab": {
          "base_uri": "https://localhost:8080/"
        },
        "id": "KqMm41gNvaMs",
        "outputId": "2b9e0b78-6621-49d1-d6bb-8da5c3fa3de6"
      },
      "execution_count": 7,
      "outputs": [
        {
          "output_type": "stream",
          "name": "stdout",
          "text": [
            "Average number of pets per city: 2.5\n"
          ]
        }
      ]
    },
    {
      "cell_type": "markdown",
      "source": [
        "Q3 ) Which owner spent the most on procedures for their pet(s)?\n",
        "\n",
        "Q4 ) How many owners spent 20 dollars or more on procedures for their pets?"
      ],
      "metadata": {
        "id": "c_cMAcyJKS1i"
      }
    },
    {
      "cell_type": "code",
      "source": [
        "# Merge the 'procedures_df' with 'procedure_details_df' to get the price of each procedure\n",
        "merged_procedures_df = pd.merge(procedures_df, procedure_details_df, on=['ProcedureType', 'ProcedureSubCode'])\n",
        "\n",
        "# Merge the 'pets_df' with 'merged_procedures_df' to get the price of each procedure for each pet\n",
        "merged_df = pd.merge(pets_df, merged_procedures_df, on='PetID')\n",
        "\n",
        "# Calculate the total cost of procedures for each pet\n",
        "merged_df['TotalProcedureCost'] = merged_df['Price']\n",
        "\n",
        "# Group by 'OwnerID' and calculate the total procedure cost for each owner\n",
        "owner_procedure_costs = merged_df.groupby('OwnerID')['TotalProcedureCost'].sum()\n",
        "\n",
        "# Find the OwnerID with the maximum total procedure cost\n",
        "max_spending_owner_id = owner_procedure_costs.idxmax()\n",
        "\n",
        "# Retrieve the owner's details from the 'owners_df' using the found OwnerID\n",
        "max_spending_owner_details = owners_df.loc[owners_df['OwnerID'] == max_spending_owner_id]\n",
        "\n",
        "# Print the result\n",
        "print(\"Owner who spent the most on procedures:\")\n",
        "print(max_spending_owner_details[['Name', 'Surname', 'City', 'State']])\n",
        "\n",
        "\n",
        "# Filter the merged DataFrame to include only those owners who spent $20 or more on procedures\n",
        "owners_spent_20_or_more = merged_df.groupby('OwnerID')['TotalProcedureCost'].sum() >= 20\n",
        "\n",
        "# Count the number of owners who meet the condition (spent $20 or more)\n",
        "num_owners_spent_20_or_more = owners_spent_20_or_more.sum()\n",
        "\n",
        "# Print the result\n",
        "print(\"Number of owners who spent $20 or more on procedures for their pets:\", num_owners_spent_20_or_more)\n",
        "\n"
      ],
      "metadata": {
        "colab": {
          "base_uri": "https://localhost:8080/"
        },
        "id": "EiPiyW8DyZFb",
        "outputId": "17853eb7-0cba-4a2f-d934-fe93e6b46ba6"
      },
      "execution_count": 8,
      "outputs": [
        {
          "output_type": "stream",
          "name": "stdout",
          "text": [
            "Owner who spent the most on procedures:\n",
            "      Name Surname          City State\n",
            "70  Daniel     Fay  Grand Rapids    MI\n",
            "Number of owners who spent $20 or more on procedures for their pets: 12\n"
          ]
        }
      ]
    },
    {
      "cell_type": "markdown",
      "source": [
        "Q5 ) How many owners have at least two different kinds of pets (e.g., a dog and a cat)?"
      ],
      "metadata": {
        "id": "0j5JxNFYKcjJ"
      }
    },
    {
      "cell_type": "code",
      "source": [
        "# Step 1: Merge the DataFrames\n",
        "merged_df = pd.merge(owners_df, pets_df, on='OwnerID', how='inner')\n",
        "\n",
        "# Step 2: Group and Filter Data\n",
        "owners_with_multiple_pets = merged_df.groupby('OwnerID')['Kind'].nunique() >= 2\n",
        "\n",
        "# Step 3: Count the Owners\n",
        "num_owners_with_multiple_pets = owners_with_multiple_pets.sum()\n",
        "\n",
        "# Step 4: Calculate and Print the Result\n",
        "print(\"Number of owners with at least two different kinds of pets:\", num_owners_with_multiple_pets)\n"
      ],
      "metadata": {
        "colab": {
          "base_uri": "https://localhost:8080/"
        },
        "id": "xumaNEMmDyUZ",
        "outputId": "d87f766c-232e-4690-92bc-ea648f3cd072"
      },
      "execution_count": 9,
      "outputs": [
        {
          "output_type": "stream",
          "name": "stdout",
          "text": [
            "Number of owners with at least two different kinds of pets: 4\n"
          ]
        }
      ]
    },
    {
      "cell_type": "markdown",
      "source": [
        "Q6 ) How many owners have pets where the first letter of their name (OwnerName) matches the first letter of their pet's name (PetName)? E.g., Cookie and Charles."
      ],
      "metadata": {
        "id": "AuuEmD93KgL9"
      }
    },
    {
      "cell_type": "code",
      "source": [
        "# Step 1: Merge the 'owners_df' and 'pets_df' DataFrames on 'OwnerID' and 'OwnerID' columns\n",
        "merged_df = owners_df.merge(pets_df, left_on='OwnerID', right_on='OwnerID', suffixes=('_owner', '_pet'))\n",
        "\n",
        "# Step 2: Create a new column to store whether the first letter of the owner's name matches the first letter of the pet's name\n",
        "merged_df['NameMatch'] = merged_df.apply(lambda row: row['Name_owner'][0] == row['Name_pet'][0], axis=1)\n",
        "\n",
        "# Step 3: Count the number of occurrences where the first letter matches\n",
        "matching_owners_count = merged_df[merged_df['NameMatch']].shape[0]\n",
        "\n",
        "print(\"Number of owners with pets where the first letter of their name matches the first letter of their pet's name:\", matching_owners_count)\n"
      ],
      "metadata": {
        "colab": {
          "base_uri": "https://localhost:8080/"
        },
        "id": "m-hRT_c4FQxB",
        "outputId": "6bdf1bff-fd88-4eae-f2c6-f13c0e7153d9"
      },
      "execution_count": 10,
      "outputs": [
        {
          "output_type": "stream",
          "name": "stdout",
          "text": [
            "Number of owners with pets where the first letter of their name matches the first letter of their pet's name: 8\n"
          ]
        }
      ]
    },
    {
      "cell_type": "markdown",
      "source": [
        "Q7 )  What percentage of pets received a vaccination?"
      ],
      "metadata": {
        "id": "863AS0JvKi42"
      }
    },
    {
      "cell_type": "code",
      "source": [
        "# Count the total number of pets that received a vaccination\n",
        "vaccinated_pets_count = (procedure_details_df['ProcedureType'] == 'VACCINATIONS').sum()\n",
        "\n",
        "# Calculate the total number of pets in the dataset\n",
        "total_pets_count = len(procedure_details_df)\n",
        "\n",
        "# Calculate the percentage of pets that received a vaccination\n",
        "percentage_vaccinated_pets = (vaccinated_pets_count / total_pets_count) * 100\n",
        "\n",
        "print(\"Percentage of pets that received a vaccination: {:.2f}%\".format(percentage_vaccinated_pets))"
      ],
      "metadata": {
        "colab": {
          "base_uri": "https://localhost:8080/"
        },
        "id": "bSHS6LDuFtZL",
        "outputId": "30403826-8406-416e-e71f-1cbfaffb6d2f"
      },
      "execution_count": 19,
      "outputs": [
        {
          "output_type": "stream",
          "name": "stdout",
          "text": [
            "Percentage of pets that received a vaccination: 14.63%\n"
          ]
        }
      ]
    },
    {
      "cell_type": "markdown",
      "source": [
        "Q8 )  What percentage of cities have more male pets than female pets?"
      ],
      "metadata": {
        "id": "qj5nrTmGKlDU"
      }
    },
    {
      "cell_type": "code",
      "source": [
        "# Merge owners_df and pets_df on OwnerID\n",
        "merged_df = pd.merge(owners_df, pets_df, on='OwnerID')\n",
        "\n",
        "# Group by City and Gender, and calculate the count of each gender in each city\n",
        "gender_count_by_city = merged_df.groupby(['City', 'Gender']).size().unstack(fill_value=0)\n",
        "\n",
        "# Calculate the percentage of cities with more male pets than female pets\n",
        "cities_with_more_male_pets = gender_count_by_city[gender_count_by_city['male'] > gender_count_by_city['female']]\n",
        "percentage_cities_more_male_pets = (len(cities_with_more_male_pets) / len(merged_df['City'].unique())) * 100\n",
        "\n",
        "print(f\"Percentage of cities with more male pets than female pets: {percentage_cities_more_male_pets:.2f}%\")"
      ],
      "metadata": {
        "colab": {
          "base_uri": "https://localhost:8080/"
        },
        "id": "wfgL_thzHSae",
        "outputId": "45b95af0-1dc9-449e-e4ba-2dbfd67d7779"
      },
      "execution_count": 12,
      "outputs": [
        {
          "output_type": "stream",
          "name": "stdout",
          "text": [
            "Percentage of cities with more male pets than female pets: 57.50%\n"
          ]
        }
      ]
    },
    {
      "cell_type": "markdown",
      "source": [
        "Q9 )  Which city's pet sample is made up of exactly 70% dogs?"
      ],
      "metadata": {
        "id": "RV_EzQVYKm_J"
      }
    },
    {
      "cell_type": "code",
      "source": [
        "# Step 1: Merge the Pets DataFrame with the Owners DataFrame\n",
        "merged_df = pd.merge(pets_df, owners_df, on='OwnerID')\n",
        "\n",
        "# Step 2: Calculate the total number of pets and the number of dogs for each city\n",
        "city_pets_count = merged_df.groupby('City')['Kind'].value_counts().unstack().fillna(0)\n",
        "city_pets_count['Total'] = city_pets_count.sum(axis=1)\n",
        "city_pets_count['Percentage_Dogs'] = (city_pets_count['Dog'] / city_pets_count['Total']) * 100\n",
        "\n",
        "# Step 4: Identify the city where the percentage of dogs is exactly 70%\n",
        "city_with_70_percent_dogs = city_pets_count[city_pets_count['Percentage_Dogs'] == 70.0]\n",
        "\n",
        "print(\"City's pet sample with exactly 70% dogs:\")\n",
        "print(city_with_70_percent_dogs.index[0])\n"
      ],
      "metadata": {
        "colab": {
          "base_uri": "https://localhost:8080/"
        },
        "id": "y_MO7F_wIjgb",
        "outputId": "0ba8c896-b609-4ab4-8d9a-177a07c9cfd6"
      },
      "execution_count": 13,
      "outputs": [
        {
          "output_type": "stream",
          "name": "stdout",
          "text": [
            "City's pet sample with exactly 70% dogs:\n",
            "Grand Rapids\n"
          ]
        }
      ]
    },
    {
      "cell_type": "code",
      "source": [
        "# Step 1: Merge the procedures_df and procedure_details_df DataFrames\n",
        "merged_df = pd.merge(procedures_df, procedure_details_df, on=['ProcedureType', 'ProcedureSubCode'])\n",
        "\n",
        "print(merged_df)\n",
        "# Step 2: Filter the merged DataFrame to include only rows where the ProcedureType is 'VACCINATIONS'\n",
        "vaccinations_df = merged_df[merged_df['ProcedureType'] == 'VACCINATIONS']\n",
        "\n",
        "# Step 3: Count the total number of vaccinations performed\n",
        "total_vaccinations_count = len(vaccinations_df)\n",
        "\n",
        "# Step 4: Calculate the total number of pets in the procedures_df DataFrame\n",
        "total_pets_count = len(procedures_df)\n",
        "\n",
        "# Step 5: Calculate the percentage of pets that received a vaccination\n",
        "percentage_vaccinated_pets = (total_vaccinations_count / total_pets_count) * 100\n",
        "\n",
        "print(\"Percentage of pets that received a vaccination: {:.2f}%\".format(percentage_vaccinated_pets))"
      ],
      "metadata": {
        "id": "9SGKAWjDxeQ9"
      },
      "execution_count": null,
      "outputs": []
    },
    {
      "cell_type": "code",
      "source": [
        "# Count the occurrences of each unique value in the 'ProcedureType' column\n",
        "procedure_type_counts = merged_df['ProcedureType'].value_counts()\n",
        "\n",
        "print(\"Count of each ProcedureType:\")\n",
        "print(procedure_type_counts)"
      ],
      "metadata": {
        "colab": {
          "base_uri": "https://localhost:8080/"
        },
        "id": "3-J6XXO9yJbY",
        "outputId": "13420b52-1a08-43cb-ca58-329ef412456c"
      },
      "execution_count": 23,
      "outputs": [
        {
          "output_type": "stream",
          "name": "stdout",
          "text": [
            "Count of each ProcedureType:\n",
            "VACCINATIONS         29\n",
            "ORTHOPEDIC            4\n",
            "GROOMING              4\n",
            "GENERAL SURGERIES     4\n",
            "Name: ProcedureType, dtype: int64\n"
          ]
        }
      ]
    },
    {
      "cell_type": "code",
      "source": [
        "# Count the occurrences of each unique value in the 'ProcedureType' column\n",
        "procedure_type_counts = procedure_details_df['ProcedureType'].value_counts()\n",
        "\n",
        "print(\"Count of each ProcedureType:\")\n",
        "print(procedure_type_counts)"
      ],
      "metadata": {
        "colab": {
          "base_uri": "https://localhost:8080/"
        },
        "id": "QNp61OVeyRKk",
        "outputId": "8e32c4c1-0df0-4362-958c-490e3ec2179a"
      },
      "execution_count": 25,
      "outputs": [
        {
          "output_type": "stream",
          "name": "stdout",
          "text": [
            "Count of each ProcedureType:\n",
            "GENERAL SURGERIES    19\n",
            "ORTHOPEDIC            9\n",
            "VACCINATIONS          6\n",
            "OFFICE FEES           3\n",
            "GROOMING              3\n",
            "HOSPITALIZATION       1\n",
            "Name: ProcedureType, dtype: int64\n"
          ]
        }
      ]
    },
    {
      "cell_type": "code",
      "source": [],
      "metadata": {
        "id": "5_roEPwcyUXB"
      },
      "execution_count": null,
      "outputs": []
    }
  ]
}