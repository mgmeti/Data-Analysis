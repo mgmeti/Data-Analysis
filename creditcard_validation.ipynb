{
  "nbformat": 4,
  "nbformat_minor": 0,
  "metadata": {
    "colab": {
      "provenance": [],
      "authorship_tag": "ABX9TyPos81sCPs+SxcxiSe3OOB0",
      "include_colab_link": true
    },
    "kernelspec": {
      "name": "python3",
      "display_name": "Python 3"
    },
    "language_info": {
      "name": "python"
    }
  },
  "cells": [
    {
      "cell_type": "markdown",
      "metadata": {
        "id": "view-in-github",
        "colab_type": "text"
      },
      "source": [
        "<a href=\"https://colab.research.google.com/github/mgmeti/Data-Analysis/blob/main/creditcard_validation.ipynb\" target=\"_parent\"><img src=\"https://colab.research.google.com/assets/colab-badge.svg\" alt=\"Open In Colab\"/></a>"
      ]
    },
    {
      "cell_type": "code",
      "execution_count": 24,
      "metadata": {
        "id": "W9GsaX30lFSx"
      },
      "outputs": [],
      "source": [
        "def double_every_second_digit(card_number):\n",
        "    reversed_card_number = card_number[::-1]\n",
        "    doubled_digits = []\n",
        "\n",
        "    for i, digit in enumerate(reversed_card_number):\n",
        "        digit = int(digit)\n",
        "        if i+2 % 2 == 1:\n",
        "            doubled_digit = digit * 2\n",
        "            print(doubled_digit)\n",
        "            if doubled_digit > 9:\n",
        "                doubled_digit = doubled_digit - 9\n",
        "            doubled_digits.append(doubled_digit)\n",
        "        else:\n",
        "            doubled_digits.append(digit)\n",
        "    print(doubled_digits)\n",
        "\n",
        "    return ''.join(map(str, doubled_digits[::-1]))\n",
        "\n",
        "def sum_step1(doubled_card_number):\n",
        "    return sum(int(digit) for digit in doubled_card_number)\n",
        "\n",
        "def sum_step3(card_number):\n",
        "    odd_place_digits = [int(digit) for i, digit in enumerate(card_number[::-1]) if i % 2 != 0]\n",
        "    return sum(odd_place_digits)\n",
        "\n",
        "def is_valid_credit_card(card_number):\n",
        "    cleaned_card_number = ''.join(filter(str.isdigit, card_number))\n",
        "\n",
        "    if len(cleaned_card_number) < 13 or len(cleaned_card_number) > 16:\n",
        "        return False\n",
        "\n",
        "    doubled_card_number = double_every_second_digit(cleaned_card_number)\n",
        "    step1_sum = sum_step1(doubled_card_number)\n",
        "    step3_sum = sum_step3(cleaned_card_number)\n",
        "    step4_sum = step1_sum + step3_sum\n",
        "\n",
        "    return step4_sum % 10 == 0"
      ]
    },
    {
      "cell_type": "code",
      "source": [
        "def main():\n",
        "    filename = \"/content/numbers.txt\"\n",
        "\n",
        "    # Read the file and process each line\n",
        "    with open(filename, \"r\") as file:\n",
        "        for line in file:\n",
        "            card_number = line.strip()\n",
        "            if is_valid_credit_card(card_number):\n",
        "                print(\"valid\")\n",
        "            else:\n",
        "                print(\"invalid\")"
      ],
      "metadata": {
        "id": "ichrLPvClZ63"
      },
      "execution_count": 4,
      "outputs": []
    },
    {
      "cell_type": "code",
      "source": [
        "if __name__ == \"__main__\":\n",
        "    main()"
      ],
      "metadata": {
        "id": "28qMkDtgld3Q"
      },
      "execution_count": null,
      "outputs": []
    },
    {
      "cell_type": "code",
      "source": [
        "is_valid_credit_card(\"4388576018402626\")"
      ],
      "metadata": {
        "colab": {
          "base_uri": "https://localhost:8080/"
        },
        "id": "N3Uw8hLDlhic",
        "outputId": "629b114a-80db-4ba5-d647-398729997fa9"
      },
      "execution_count": 11,
      "outputs": [
        {
          "output_type": "execute_result",
          "data": {
            "text/plain": [
              "False"
            ]
          },
          "metadata": {},
          "execution_count": 11
        }
      ]
    },
    {
      "cell_type": "code",
      "source": [
        "double_every_second_digit(\"4388576018402626\")"
      ],
      "metadata": {
        "colab": {
          "base_uri": "https://localhost:8080/",
          "height": 72
        },
        "id": "9rZJOqxVoY-R",
        "outputId": "e3bb247f-c2a5-481b-f921-a4b716a8fb15"
      },
      "execution_count": 25,
      "outputs": [
        {
          "output_type": "stream",
          "name": "stdout",
          "text": [
            "4\n",
            "[6, 4, 6, 2, 0, 4, 8, 1, 0, 6, 7, 5, 8, 8, 3, 4]\n"
          ]
        },
        {
          "output_type": "execute_result",
          "data": {
            "text/plain": [
              "'4388576018402646'"
            ],
            "application/vnd.google.colaboratory.intrinsic+json": {
              "type": "string"
            }
          },
          "metadata": {},
          "execution_count": 25
        }
      ]
    },
    {
      "cell_type": "code",
      "source": [
        "sum_step1(double_every_second_digit(\"4388576018402626\"))"
      ],
      "metadata": {
        "colab": {
          "base_uri": "https://localhost:8080/"
        },
        "id": "dhBdfli2npDb",
        "outputId": "4ec12e34-65d2-4494-8c1b-42f1bd90d3cf"
      },
      "execution_count": 26,
      "outputs": [
        {
          "output_type": "stream",
          "name": "stdout",
          "text": [
            "4\n",
            "[6, 4, 6, 2, 0, 4, 8, 1, 0, 6, 7, 5, 8, 8, 3, 4]\n"
          ]
        },
        {
          "output_type": "execute_result",
          "data": {
            "text/plain": [
              "72"
            ]
          },
          "metadata": {},
          "execution_count": 26
        }
      ]
    },
    {
      "cell_type": "code",
      "source": [
        "card_number = \"4388576018410707\"\n"
      ],
      "metadata": {
        "id": "SR8Kmau9nyVa"
      },
      "execution_count": 45,
      "outputs": []
    },
    {
      "cell_type": "code",
      "source": [
        "reversed_card_number = card_number[::-1]\n",
        "doubled_digits = []\n",
        "sum_second=0\n",
        "sum_odd=0\n",
        "for i, digit in enumerate(reversed_card_number):\n",
        "  digit = int(digit)\n",
        "\n",
        "  if i % 2 == 1:\n",
        "    if digit*2 > 9:\n",
        "      digit = (digit*2) - 9\n",
        "      print(digit)\n",
        "      sum_second+=digit\n",
        "    else:\n",
        "      print(digit*2)\n",
        "      sum_second+=digit*2\n",
        "  else:\n",
        "    sum_odd+=digit\n",
        "\n",
        "\n",
        "print(sum_second,sum_odd, sum_second+sum_odd, (sum_second+sum_odd)% 10 == 0)"
      ],
      "metadata": {
        "colab": {
          "base_uri": "https://localhost:8080/"
        },
        "id": "dDdSIXdbqY_v",
        "outputId": "d8869e94-9ca3-43e3-aff2-f7920aefd42e"
      },
      "execution_count": 46,
      "outputs": [
        {
          "output_type": "stream",
          "name": "stdout",
          "text": [
            "0\n",
            "0\n",
            "8\n",
            "2\n",
            "3\n",
            "1\n",
            "7\n",
            "8\n",
            "29 41 70 True\n"
          ]
        }
      ]
    },
    {
      "cell_type": "code",
      "source": [
        "def double_every_second_digit(card_number):\n",
        "    reversed_card_number = card_number[::-1]\n",
        "    sum_second = 0\n",
        "    sum_odd = 0\n",
        "\n",
        "    for i, digit in enumerate(reversed_card_number):\n",
        "        digit = int(digit)\n",
        "\n",
        "        if i % 2 == 1:\n",
        "            doubled_digit = digit * 2\n",
        "            if doubled_digit > 9:\n",
        "                doubled_digit = doubled_digit - 9\n",
        "            sum_second += doubled_digit\n",
        "        else:\n",
        "            sum_odd += digit\n",
        "\n",
        "    return sum_second, sum_odd\n",
        "\n",
        "def is_valid_credit_card(card_number):\n",
        "    cleaned_card_number = ''.join(filter(str.isdigit, card_number))\n",
        "\n",
        "    if len(cleaned_card_number) < 13 or len(cleaned_card_number) > 16:\n",
        "        return False\n",
        "\n",
        "    sum_second, sum_odd = double_every_second_digit(cleaned_card_number)\n",
        "    step4_sum = sum_second + sum_odd\n",
        "\n",
        "    return step4_sum % 10 == 0\n",
        "\n",
        "def main():\n",
        "    filename = \"/content/numbers.txt\"\n",
        "\n",
        "    with open(filename, 'r') as file:\n",
        "        for line in file:\n",
        "            card_number = line.strip()\n",
        "            if is_valid_credit_card(card_number):\n",
        "                print(\"valid\")\n",
        "            else:\n",
        "                print(\"invalid\")\n",
        "\n",
        "if __name__ == \"__main__\":\n",
        "    main()\n"
      ],
      "metadata": {
        "colab": {
          "base_uri": "https://localhost:8080/"
        },
        "id": "7303EbYVqY0R",
        "outputId": "e2306617-e08e-45fa-8d41-010d16dd462d"
      },
      "execution_count": 48,
      "outputs": [
        {
          "output_type": "stream",
          "name": "stdout",
          "text": [
            "invalid\n",
            "valid\n",
            "valid\n",
            "valid\n",
            "valid\n",
            "valid\n",
            "invalid\n",
            "invalid\n",
            "invalid\n",
            "invalid\n",
            "valid\n",
            "valid\n",
            "valid\n",
            "valid\n",
            "valid\n",
            "invalid\n",
            "invalid\n",
            "valid\n",
            "valid\n"
          ]
        }
      ]
    },
    {
      "cell_type": "code",
      "source": [
        "def double_every_second_digit(card_number):\n",
        "    reversed_card_number = card_number[::-1]\n",
        "    sum_second = 0\n",
        "    sum_odd = 0\n",
        "\n",
        "    for i, digit in enumerate(reversed_card_number):\n",
        "        digit = int(digit)\n",
        "\n",
        "        if i % 2 == 1:\n",
        "            doubled_digit = digit * 2\n",
        "            if doubled_digit > 9:\n",
        "                doubled_digit = doubled_digit - 9\n",
        "            sum_second += doubled_digit\n",
        "        else:\n",
        "            sum_odd += digit\n",
        "\n",
        "    return sum_second, sum_odd\n",
        "\n",
        "def get_card_type(card_number):\n",
        "    cleaned_card_number = ''.join(filter(str.isdigit, card_number))\n",
        "\n",
        "    if len(cleaned_card_number) < 13 or len(cleaned_card_number) > 16:\n",
        "        return \"Invalid\"\n",
        "\n",
        "    if cleaned_card_number.startswith(\"4\"):\n",
        "        return \"Visa\"\n",
        "    elif cleaned_card_number.startswith(\"5\"):\n",
        "        return \"MasterCard\"\n",
        "    elif cleaned_card_number.startswith(\"37\"):\n",
        "        return \"American Express\"\n",
        "    elif cleaned_card_number.startswith(\"6\"):\n",
        "        return \"Discover\"\n",
        "    else:\n",
        "        return \"Unknown\"\n",
        "\n",
        "def is_valid_credit_card(card_number):\n",
        "    cleaned_card_number = ''.join(filter(str.isdigit, card_number))\n",
        "\n",
        "    if len(cleaned_card_number) < 13 or len(cleaned_card_number) > 16:\n",
        "        return \"Invalid\"\n",
        "\n",
        "    sum_second, sum_odd = double_every_second_digit(cleaned_card_number)\n",
        "    step4_sum = sum_second + sum_odd\n",
        "\n",
        "    return \"Valid\" if step4_sum % 10 == 0 else \"Invalid\"\n",
        "\n",
        "def main():\n",
        "    filename = \"/content/numbers.txt\"\n",
        "\n",
        "    with open(filename, 'r') as file:\n",
        "        for line in file:\n",
        "            card_number = line.strip()\n",
        "            card_type = get_card_type(card_number)\n",
        "            card_validity = is_valid_credit_card(card_number)\n",
        "            print(f\"{card_number}, {card_type}, {card_validity}\")\n",
        "\n",
        "if __name__ == \"__main__\":\n",
        "    main()\n"
      ],
      "metadata": {
        "colab": {
          "base_uri": "https://localhost:8080/"
        },
        "id": "ukWgSVIPuqcd",
        "outputId": "2ef145b2-b24f-4dc4-e5c4-d63fd1d02841"
      },
      "execution_count": 49,
      "outputs": [
        {
          "output_type": "stream",
          "name": "stdout",
          "text": [
            "4388576018402626, Visa, Invalid\n",
            "4388576018410707, Visa, Valid\n",
            "4012888888881881, Visa, Valid\n",
            "4552720412345677, Visa, Valid\n",
            "4539992043491562, Visa, Valid\n",
            "4992739871600, Visa, Valid\n",
            "4992739870017, Visa, Invalid\n",
            "80840123456789, Unknown, Invalid\n",
            "5588320123456789, MasterCard, Invalid\n",
            "5491946915444923, MasterCard, Invalid\n",
            "5490123456789128, MasterCard, Valid\n",
            "378282246310005, American Express, Valid\n",
            "371449635398431, American Express, Valid\n",
            "371449635398431, American Express, Valid\n",
            "378734493671000, American Express, Valid\n",
            "378734493671001, American Express, Invalid\n",
            "6041273990139424, Discover, Invalid\n",
            "6011111111111117, Discover, Valid\n",
            "6011000990139424, Discover, Valid\n"
          ]
        }
      ]
    }
  ]
}