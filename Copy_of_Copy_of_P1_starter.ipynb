{
  "nbformat": 4,
  "nbformat_minor": 0,
  "metadata": {
    "kernelspec": {
      "display_name": "Python 3",
      "language": "python",
      "name": "python3"
    },
    "language_info": {
      "codemirror_mode": {
        "name": "ipython",
        "version": 3
      },
      "file_extension": ".py",
      "mimetype": "text/x-python",
      "name": "python",
      "nbconvert_exporter": "python",
      "pygments_lexer": "ipython3",
      "version": "3.6.5"
    },
    "colab": {
      "provenance": [],
      "include_colab_link": true
    },
    "accelerator": "GPU"
  },
  "cells": [
    {
      "cell_type": "markdown",
      "metadata": {
        "id": "view-in-github",
        "colab_type": "text"
      },
      "source": [
        "<a href=\"https://colab.research.google.com/github/mgmeti/Data-Analysis/blob/main/Copy_of_Copy_of_P1_starter.ipynb\" target=\"_parent\"><img src=\"https://colab.research.google.com/assets/colab-badge.svg\" alt=\"Open In Colab\"/></a>"
      ]
    },
    {
      "cell_type": "markdown",
      "metadata": {
        "id": "Whf_8TEO-6qX"
      },
      "source": [
        "# CAP 6619 - Deep Learning - Dr Marques\n",
        "## Project 1\n",
        "## Image Classifiers Using Neural Networks and the MNIST and Fashion MNIST Datasets"
      ]
    },
    {
      "cell_type": "markdown",
      "source": [
        "**Include your name here:** (enter your name)\n",
        "\n",
        "**Include 'shared link' to 'your' final version of this NB here:** (enter link from above right here)"
      ],
      "metadata": {
        "id": "dOGJOhMgmu4o"
      }
    },
    {
      "cell_type": "markdown",
      "metadata": {
        "id": "32AXUOrLxvoD"
      },
      "source": [
        "Useful references and sources:\n",
        "\n",
        "**MNIST**\n",
        "\n",
        "- https://www.tensorflow.org/datasets/catalog/mnist\n",
        "\n",
        "- https://en.wikipedia.org/wiki/MNIST_database \n",
        "\n",
        "- https://github.com/the-deep-learners/deep-learning-illustrated/blob/master/notebooks/shallow_net_in_keras.ipynb \n",
        "\n",
        "**Fashion MNIST**\n",
        "\n",
        "- https://www.tensorflow.org/datasets/catalog/fashion_mnist\n",
        "\n",
        "- https://en.wikipedia.org/wiki/Fashion_MNIST\n",
        "\n",
        "- https://keras.io/api/datasets/fashion_mnist/"
      ]
    },
    {
      "cell_type": "markdown",
      "metadata": {
        "id": "BEn1cfWJ-6rH"
      },
      "source": [
        "## PART 1 - *MNIST classifier using MLP*\n",
        "\n",
        "\n"
      ]
    },
    {
      "cell_type": "markdown",
      "metadata": {
        "id": "2u-hfaHC-6qb"
      },
      "source": [
        "### Import Needed Resources / Libraries"
      ]
    },
    {
      "cell_type": "code",
      "metadata": {
        "id": "1H7CSr4a-6qb"
      },
      "source": [
        "from tensorflow import keras\n",
        "from keras.datasets import mnist\n",
        "from keras.models import Sequential\n",
        "from keras.layers import Dense\n",
        "from keras.optimizers import SGD\n",
        "\n",
        "from keras import layers\n",
        "\n",
        "from matplotlib import pyplot as plt\n",
        "\n",
        "import numpy as np\n",
        "import tensorflow as tf\n",
        "\n",
        "import pandas as pd \n",
        "import seaborn as sns\n",
        "\n",
        "from sklearn.metrics import confusion_matrix, classification_report\n",
        "from sklearn.metrics import accuracy_score, precision_score, recall_score, f1_score\n"
      ],
      "execution_count": 87,
      "outputs": []
    },
    {
      "cell_type": "markdown",
      "metadata": {
        "id": "dxNd2jV5-6qg"
      },
      "source": [
        "### Load and prepare the data"
      ]
    },
    {
      "cell_type": "code",
      "metadata": {
        "id": "AL5uSsG5EoEw",
        "colab": {
          "base_uri": "https://localhost:8080/",
          "height": 0
        },
        "outputId": "83a052c8-bade-4f0d-bc0e-0c882b314f1b"
      },
      "source": [
        "# Model / data parameters\n",
        "num_classes = 10\n",
        "input_shape = (28, 28, 1)\n",
        "\n",
        "# the data, split between train and validation sets\n",
        "(X_train, y_train), (X_valid, y_valid) = mnist.load_data()"
      ],
      "execution_count": 2,
      "outputs": [
        {
          "output_type": "stream",
          "name": "stdout",
          "text": [
            "Downloading data from https://storage.googleapis.com/tensorflow/tf-keras-datasets/mnist.npz\n",
            "11490434/11490434 [==============================] - 0s 0us/step\n"
          ]
        }
      ]
    },
    {
      "cell_type": "markdown",
      "source": [
        "### Examine Data"
      ],
      "metadata": {
        "id": "NUJlQmcuS1-b"
      }
    },
    {
      "cell_type": "code",
      "metadata": {
        "id": "x2jsR31jEqYn",
        "colab": {
          "base_uri": "https://localhost:8080/",
          "height": 0
        },
        "outputId": "4f17e8d9-b38d-4e1c-a08f-1c7e612b6c05"
      },
      "source": [
        "X_train.shape"
      ],
      "execution_count": 3,
      "outputs": [
        {
          "output_type": "execute_result",
          "data": {
            "text/plain": [
              "(60000, 28, 28)"
            ]
          },
          "metadata": {},
          "execution_count": 3
        }
      ]
    },
    {
      "cell_type": "code",
      "metadata": {
        "id": "EOXe9zdD-6qp",
        "colab": {
          "base_uri": "https://localhost:8080/",
          "height": 0
        },
        "outputId": "fd37a15f-dbde-4720-f884-8fe22f15f1fe"
      },
      "source": [
        "y_train.shape"
      ],
      "execution_count": 4,
      "outputs": [
        {
          "output_type": "execute_result",
          "data": {
            "text/plain": [
              "(60000,)"
            ]
          },
          "metadata": {},
          "execution_count": 4
        }
      ]
    },
    {
      "cell_type": "code",
      "metadata": {
        "id": "99XuEIZf-6qr",
        "colab": {
          "base_uri": "https://localhost:8080/",
          "height": 0
        },
        "outputId": "be3ca895-609b-4d43-c76a-bc65c936af94"
      },
      "source": [
        "y_train[0:12]"
      ],
      "execution_count": 5,
      "outputs": [
        {
          "output_type": "execute_result",
          "data": {
            "text/plain": [
              "array([5, 0, 4, 1, 9, 2, 1, 3, 1, 4, 3, 5], dtype=uint8)"
            ]
          },
          "metadata": {},
          "execution_count": 5
        }
      ]
    },
    {
      "cell_type": "code",
      "metadata": {
        "id": "Rcidoo4X-6qt",
        "colab": {
          "base_uri": "https://localhost:8080/",
          "height": 447
        },
        "outputId": "bbaad6b2-4cda-4a59-8614-ce852e9d9733"
      },
      "source": [
        "plt.figure(figsize=(5,5))\n",
        "for k in range(12):\n",
        "    plt.subplot(3, 4, k+1)\n",
        "    plt.imshow(X_train[k], cmap='Greys')\n",
        "    plt.axis('off')\n",
        "plt.tight_layout()\n",
        "plt.show()"
      ],
      "execution_count": 6,
      "outputs": [
        {
          "output_type": "display_data",
          "data": {
            "text/plain": [
              "<Figure size 500x500 with 12 Axes>"
            ],
            "image/png": "[encoded data removed]"
          },
          "metadata": {}
        }
      ]
    },
    {
      "cell_type": "code",
      "metadata": {
        "id": "xL2vkR3jO2md",
        "colab": {
          "base_uri": "https://localhost:8080/",
          "height": 0
        },
        "outputId": "1e3b5158-2e2b-461a-c1b7-cb815dcd14ba"
      },
      "source": [
        "X_valid.shape"
      ],
      "execution_count": 7,
      "outputs": [
        {
          "output_type": "execute_result",
          "data": {
            "text/plain": [
              "(10000, 28, 28)"
            ]
          },
          "metadata": {},
          "execution_count": 7
        }
      ]
    },
    {
      "cell_type": "code",
      "metadata": {
        "id": "GKtAwVhYO34o",
        "colab": {
          "base_uri": "https://localhost:8080/",
          "height": 0
        },
        "outputId": "59aa2d61-e922-46a8-ed10-00af3624b97e"
      },
      "source": [
        "y_valid.shape"
      ],
      "execution_count": 8,
      "outputs": [
        {
          "output_type": "execute_result",
          "data": {
            "text/plain": [
              "(10000,)"
            ]
          },
          "metadata": {},
          "execution_count": 8
        }
      ]
    },
    {
      "cell_type": "code",
      "metadata": {
        "id": "rITLTiol7eZH",
        "colab": {
          "base_uri": "https://localhost:8080/",
          "height": 0
        },
        "outputId": "d2c42b81-998f-4f71-e6ce-4e7df781c1ae"
      },
      "source": [
        "y_valid[0]"
      ],
      "execution_count": 9,
      "outputs": [
        {
          "output_type": "execute_result",
          "data": {
            "text/plain": [
              "7"
            ]
          },
          "metadata": {},
          "execution_count": 9
        }
      ]
    },
    {
      "cell_type": "code",
      "metadata": {
        "id": "v7wsvxTt7iZO",
        "colab": {
          "base_uri": "https://localhost:8080/",
          "height": 406
        },
        "outputId": "ed4248b6-23d9-44ea-8bf3-01dc41afa737"
      },
      "source": [
        "plt.imshow(X_valid[0], cmap='Greys')\n",
        "plt.axis('off')\n",
        "plt.show()"
      ],
      "execution_count": 10,
      "outputs": [
        {
          "output_type": "display_data",
          "data": {
            "text/plain": [
              "<Figure size 640x480 with 1 Axes>"
            ],
            "image/png": "[encoded data removed]"
          },
          "metadata": {}
        }
      ]
    },
    {
      "cell_type": "code",
      "metadata": {
        "id": "lKSraXzh-6qw",
        "colab": {
          "base_uri": "https://localhost:8080/",
          "height": 0
        },
        "outputId": "c2a19e8a-78e8-4803-f37a-2aa6df86c950"
      },
      "source": [
        "# Reshape (flatten) images \n",
        "X_train_reshaped = X_train.reshape(60000, 784).astype('float32')\n",
        "X_valid_reshaped = X_valid.reshape(10000, 784).astype('float32')\n",
        "\n",
        "# Scale images to the [0, 1] range\n",
        "X_train_scaled_reshaped = X_train_reshaped / 255\n",
        "X_valid_scaled_reshaped = X_valid_reshaped / 255\n",
        "\n",
        "# Renaming for conciseness\n",
        "X_training = X_train_scaled_reshaped\n",
        "X_validation = X_valid_scaled_reshaped\n",
        "\n",
        "print(\"X_training shape (after reshaping + scaling):\", X_training.shape)\n",
        "print(X_training.shape[0], \"train samples\")\n",
        "print(\"X_validation shape (after reshaping + scaling):\", X_validation.shape)\n",
        "print(X_validation.shape[0], \"validation samples\")"
      ],
      "execution_count": 11,
      "outputs": [
        {
          "output_type": "stream",
          "name": "stdout",
          "text": [
            "X_training shape (after reshaping + scaling): (60000, 784)\n",
            "60000 train samples\n",
            "X_validation shape (after reshaping + scaling): (10000, 784)\n",
            "10000 validation samples\n"
          ]
        }
      ]
    },
    {
      "cell_type": "code",
      "metadata": {
        "id": "amUBlLnG-6qz"
      },
      "source": [
        "# convert class vectors to binary class matrices\n",
        "y_training = keras.utils.to_categorical(y_train, num_classes)\n",
        "y_validation = keras.utils.to_categorical(y_valid, num_classes)"
      ],
      "execution_count": 12,
      "outputs": []
    },
    {
      "cell_type": "code",
      "metadata": {
        "id": "QRX6auItPqtX",
        "colab": {
          "base_uri": "https://localhost:8080/",
          "height": 0
        },
        "outputId": "8d7e8b0b-c45f-4b5d-db3d-5c10bd3ad333"
      },
      "source": [
        "print(y_valid[0])\n",
        "print(y_validation[0])"
      ],
      "execution_count": 13,
      "outputs": [
        {
          "output_type": "stream",
          "name": "stdout",
          "text": [
            "7\n",
            "[0. 0. 0. 0. 0. 0. 0. 1. 0. 0.]\n"
          ]
        }
      ]
    },
    {
      "cell_type": "markdown",
      "metadata": {
        "id": "eflqPyf9-6rW"
      },
      "source": [
        "### Configure model"
      ]
    },
    {
      "cell_type": "code",
      "metadata": {
        "id": "r7CsGuzIKvZd"
      },
      "source": [
        "model = Sequential()\n",
        "model.add(Dense(64, activation='sigmoid', input_shape=(784,)))\n",
        "model.add(Dense(10, activation='softmax'))"
      ],
      "execution_count": 14,
      "outputs": []
    },
    {
      "cell_type": "code",
      "metadata": {
        "id": "wQTQzXvJ-6rJ",
        "colab": {
          "base_uri": "https://localhost:8080/",
          "height": 0
        },
        "outputId": "ac6abcae-530c-4a32-b612-1d55c4b0f447"
      },
      "source": [
        "model.summary()"
      ],
      "execution_count": 15,
      "outputs": [
        {
          "output_type": "stream",
          "name": "stdout",
          "text": [
            "Model: \"sequential\"\n",
            "_________________________________________________________________\n",
            " Layer (type)                Output Shape              Param #   \n",
            "=================================================================\n",
            " dense (Dense)               (None, 64)                50240     \n",
            "                                                                 \n",
            " dense_1 (Dense)             (None, 10)                650       \n",
            "                                                                 \n",
            "=================================================================\n",
            "Total params: 50,890\n",
            "Trainable params: 50,890\n",
            "Non-trainable params: 0\n",
            "_________________________________________________________________\n"
          ]
        }
      ]
    },
    {
      "cell_type": "code",
      "metadata": {
        "id": "p0KPx8Di-6rO",
        "colab": {
          "base_uri": "https://localhost:8080/",
          "height": 0
        },
        "outputId": "dacf375c-0e10-460c-961e-979474640829"
      },
      "source": [
        "(64*784)"
      ],
      "execution_count": 16,
      "outputs": [
        {
          "output_type": "execute_result",
          "data": {
            "text/plain": [
              "50176"
            ]
          },
          "metadata": {},
          "execution_count": 16
        }
      ]
    },
    {
      "cell_type": "code",
      "metadata": {
        "id": "e7KDBMCS-6rQ",
        "colab": {
          "base_uri": "https://localhost:8080/",
          "height": 0
        },
        "outputId": "1cfe75b8-0cf9-4565-e2b3-ee1e4d219e2d"
      },
      "source": [
        "(64*784)+64"
      ],
      "execution_count": 17,
      "outputs": [
        {
          "output_type": "execute_result",
          "data": {
            "text/plain": [
              "50240"
            ]
          },
          "metadata": {},
          "execution_count": 17
        }
      ]
    },
    {
      "cell_type": "code",
      "metadata": {
        "id": "ls_u6Lne-6rU",
        "colab": {
          "base_uri": "https://localhost:8080/",
          "height": 0
        },
        "outputId": "fd03e367-6aea-4b19-e961-d1853abb2b94"
      },
      "source": [
        "(10*64)+10"
      ],
      "execution_count": 18,
      "outputs": [
        {
          "output_type": "execute_result",
          "data": {
            "text/plain": [
              "650"
            ]
          },
          "metadata": {},
          "execution_count": 18
        }
      ]
    },
    {
      "cell_type": "code",
      "metadata": {
        "id": "ZxAxL41M-6rX"
      },
      "source": [
        "model.compile(\n",
        "    loss='mean_squared_error', \n",
        "    optimizer=SGD(learning_rate=0.01), \n",
        "    metrics=['accuracy']\n",
        ")"
      ],
      "execution_count": 19,
      "outputs": []
    },
    {
      "cell_type": "markdown",
      "metadata": {
        "id": "DId95CJ_-6rY"
      },
      "source": [
        "### Train!"
      ]
    },
    {
      "cell_type": "code",
      "metadata": {
        "id": "OGws4yu8-6rZ",
        "colab": {
          "base_uri": "https://localhost:8080/",
          "height": 0
        },
        "outputId": "37f34b25-38cb-4353-ac46-f0e3b4fb92d4"
      },
      "source": [
        "batch_size=128\n",
        "epochs=200\n",
        "\n",
        "history = model.fit(\n",
        "  X_training, # training data\n",
        "  y_training, # training targets\n",
        "  epochs=epochs,\n",
        "  batch_size=batch_size,\n",
        "  verbose=1,\n",
        "  validation_data=(X_validation, y_validation)\n",
        ")"
      ],
      "execution_count": 20,
      "outputs": [
        {
          "output_type": "stream",
          "name": "stdout",
          "text": [
            "Epoch 1/200\n",
            "469/469 [==============================] - 5s 3ms/step - loss: 0.0944 - accuracy: 0.1043 - val_loss: 0.0929 - val_accuracy: 0.1140\n",
            "Epoch 2/200\n",
            "469/469 [==============================] - 1s 3ms/step - loss: 0.0922 - accuracy: 0.1246 - val_loss: 0.0914 - val_accuracy: 0.1314\n",
            "Epoch 3/200\n",
            "469/469 [==============================] - 1s 3ms/step - loss: 0.0910 - accuracy: 0.1419 - val_loss: 0.0905 - val_accuracy: 0.1451\n",
            "Epoch 4/200\n",
            "469/469 [==============================] - 2s 4ms/step - loss: 0.0903 - accuracy: 0.1524 - val_loss: 0.0899 - val_accuracy: 0.1545\n",
            "Epoch 5/200\n",
            "469/469 [==============================] - 2s 3ms/step - loss: 0.0897 - accuracy: 0.1610 - val_loss: 0.0894 - val_accuracy: 0.1685\n",
            "Epoch 6/200\n",
            "469/469 [==============================] - 2s 3ms/step - loss: 0.0893 - accuracy: 0.1833 - val_loss: 0.0890 - val_accuracy: 0.2127\n",
            "Epoch 7/200\n",
            "469/469 [==============================] - 1s 3ms/step - loss: 0.0889 - accuracy: 0.2270 - val_loss: 0.0886 - val_accuracy: 0.2568\n",
            "Epoch 8/200\n",
            "469/469 [==============================] - 1s 3ms/step - loss: 0.0886 - accuracy: 0.2604 - val_loss: 0.0883 - val_accuracy: 0.2787\n",
            "Epoch 9/200\n",
            "469/469 [==============================] - 1s 3ms/step - loss: 0.0883 - accuracy: 0.2733 - val_loss: 0.0880 - val_accuracy: 0.2874\n",
            "Epoch 10/200\n",
            "469/469 [==============================] - 1s 3ms/step - loss: 0.0880 - accuracy: 0.2811 - val_loss: 0.0877 - val_accuracy: 0.2948\n",
            "Epoch 11/200\n",
            "469/469 [==============================] - 1s 3ms/step - loss: 0.0877 - accuracy: 0.2873 - val_loss: 0.0874 - val_accuracy: 0.3005\n",
            "Epoch 12/200\n",
            "469/469 [==============================] - 2s 4ms/step - loss: 0.0874 - accuracy: 0.2940 - val_loss: 0.0871 - val_accuracy: 0.3082\n",
            "Epoch 13/200\n",
            "469/469 [==============================] - 2s 4ms/step - loss: 0.0871 - accuracy: 0.3040 - val_loss: 0.0868 - val_accuracy: 0.3194\n",
            "Epoch 14/200\n",
            "469/469 [==============================] - 1s 3ms/step - loss: 0.0868 - accuracy: 0.3174 - val_loss: 0.0865 - val_accuracy: 0.3296\n",
            "Epoch 15/200\n",
            "469/469 [==============================] - 1s 3ms/step - loss: 0.0864 - accuracy: 0.3277 - val_loss: 0.0861 - val_accuracy: 0.3448\n",
            "Epoch 16/200\n",
            "469/469 [==============================] - 1s 3ms/step - loss: 0.0861 - accuracy: 0.3438 - val_loss: 0.0858 - val_accuracy: 0.3597\n",
            "Epoch 17/200\n",
            "469/469 [==============================] - 1s 3ms/step - loss: 0.0858 - accuracy: 0.3573 - val_loss: 0.0855 - val_accuracy: 0.3746\n",
            "Epoch 18/200\n",
            "469/469 [==============================] - 1s 3ms/step - loss: 0.0855 - accuracy: 0.3707 - val_loss: 0.0851 - val_accuracy: 0.3849\n",
            "Epoch 19/200\n",
            "469/469 [==============================] - 1s 3ms/step - loss: 0.0851 - accuracy: 0.3834 - val_loss: 0.0848 - val_accuracy: 0.3951\n",
            "Epoch 20/200\n",
            "469/469 [==============================] - 1s 3ms/step - loss: 0.0848 - accuracy: 0.3933 - val_loss: 0.0844 - val_accuracy: 0.4052\n",
            "Epoch 21/200\n",
            "469/469 [==============================] - 2s 4ms/step - loss: 0.0844 - accuracy: 0.4018 - val_loss: 0.0840 - val_accuracy: 0.4139\n",
            "Epoch 22/200\n",
            "469/469 [==============================] - 2s 3ms/step - loss: 0.0840 - accuracy: 0.4104 - val_loss: 0.0836 - val_accuracy: 0.4217\n",
            "Epoch 23/200\n",
            "469/469 [==============================] - 1s 3ms/step - loss: 0.0837 - accuracy: 0.4176 - val_loss: 0.0832 - val_accuracy: 0.4271\n",
            "Epoch 24/200\n",
            "469/469 [==============================] - 1s 3ms/step - loss: 0.0833 - accuracy: 0.4232 - val_loss: 0.0828 - val_accuracy: 0.4347\n",
            "Epoch 25/200\n",
            "469/469 [==============================] - 1s 3ms/step - loss: 0.0829 - accuracy: 0.4277 - val_loss: 0.0824 - val_accuracy: 0.4404\n",
            "Epoch 26/200\n",
            "469/469 [==============================] - 1s 3ms/step - loss: 0.0825 - accuracy: 0.4345 - val_loss: 0.0820 - val_accuracy: 0.4462\n",
            "Epoch 27/200\n",
            "469/469 [==============================] - 2s 4ms/step - loss: 0.0820 - accuracy: 0.4392 - val_loss: 0.0816 - val_accuracy: 0.4527\n",
            "Epoch 28/200\n",
            "469/469 [==============================] - 2s 4ms/step - loss: 0.0816 - accuracy: 0.4436 - val_loss: 0.0811 - val_accuracy: 0.4586\n",
            "Epoch 29/200\n",
            "469/469 [==============================] - 2s 4ms/step - loss: 0.0812 - accuracy: 0.4482 - val_loss: 0.0807 - val_accuracy: 0.4624\n",
            "Epoch 30/200\n",
            "469/469 [==============================] - 2s 3ms/step - loss: 0.0807 - accuracy: 0.4544 - val_loss: 0.0802 - val_accuracy: 0.4660\n",
            "Epoch 31/200\n",
            "469/469 [==============================] - 1s 3ms/step - loss: 0.0803 - accuracy: 0.4593 - val_loss: 0.0798 - val_accuracy: 0.4727\n",
            "Epoch 32/200\n",
            "469/469 [==============================] - 1s 3ms/step - loss: 0.0798 - accuracy: 0.4643 - val_loss: 0.0793 - val_accuracy: 0.4776\n",
            "Epoch 33/200\n",
            "469/469 [==============================] - 1s 3ms/step - loss: 0.0794 - accuracy: 0.4687 - val_loss: 0.0788 - val_accuracy: 0.4831\n",
            "Epoch 34/200\n",
            "469/469 [==============================] - 1s 3ms/step - loss: 0.0789 - accuracy: 0.4756 - val_loss: 0.0784 - val_accuracy: 0.4878\n",
            "Epoch 35/200\n",
            "469/469 [==============================] - 1s 3ms/step - loss: 0.0785 - accuracy: 0.4814 - val_loss: 0.0779 - val_accuracy: 0.4925\n",
            "Epoch 36/200\n",
            "469/469 [==============================] - 1s 3ms/step - loss: 0.0780 - accuracy: 0.4880 - val_loss: 0.0774 - val_accuracy: 0.4972\n",
            "Epoch 37/200\n",
            "469/469 [==============================] - 1s 3ms/step - loss: 0.0775 - accuracy: 0.4941 - val_loss: 0.0769 - val_accuracy: 0.5028\n",
            "Epoch 38/200\n",
            "469/469 [==============================] - 2s 4ms/step - loss: 0.0770 - accuracy: 0.5008 - val_loss: 0.0764 - val_accuracy: 0.5093\n",
            "Epoch 39/200\n",
            "469/469 [==============================] - 1s 3ms/step - loss: 0.0766 - accuracy: 0.5067 - val_loss: 0.0759 - val_accuracy: 0.5145\n",
            "Epoch 40/200\n",
            "469/469 [==============================] - 1s 3ms/step - loss: 0.0761 - accuracy: 0.5118 - val_loss: 0.0755 - val_accuracy: 0.5190\n",
            "Epoch 41/200\n",
            "469/469 [==============================] - 1s 3ms/step - loss: 0.0756 - accuracy: 0.5185 - val_loss: 0.0750 - val_accuracy: 0.5244\n",
            "Epoch 42/200\n",
            "469/469 [==============================] - 1s 3ms/step - loss: 0.0751 - accuracy: 0.5240 - val_loss: 0.0745 - val_accuracy: 0.5306\n",
            "Epoch 43/200\n",
            "469/469 [==============================] - 1s 3ms/step - loss: 0.0746 - accuracy: 0.5301 - val_loss: 0.0740 - val_accuracy: 0.5352\n",
            "Epoch 44/200\n",
            "469/469 [==============================] - 1s 3ms/step - loss: 0.0741 - accuracy: 0.5357 - val_loss: 0.0735 - val_accuracy: 0.5401\n",
            "Epoch 45/200\n",
            "469/469 [==============================] - 1s 3ms/step - loss: 0.0736 - accuracy: 0.5417 - val_loss: 0.0730 - val_accuracy: 0.5468\n",
            "Epoch 46/200\n",
            "469/469 [==============================] - 2s 4ms/step - loss: 0.0731 - accuracy: 0.5467 - val_loss: 0.0725 - val_accuracy: 0.5520\n",
            "Epoch 47/200\n",
            "469/469 [==============================] - 2s 4ms/step - loss: 0.0726 - accuracy: 0.5519 - val_loss: 0.0720 - val_accuracy: 0.5585\n",
            "Epoch 48/200\n",
            "469/469 [==============================] - 1s 3ms/step - loss: 0.0721 - accuracy: 0.5569 - val_loss: 0.0714 - val_accuracy: 0.5630\n",
            "Epoch 49/200\n",
            "469/469 [==============================] - 1s 3ms/step - loss: 0.0716 - accuracy: 0.5622 - val_loss: 0.0709 - val_accuracy: 0.5690\n",
            "Epoch 50/200\n",
            "469/469 [==============================] - 1s 3ms/step - loss: 0.0711 - accuracy: 0.5671 - val_loss: 0.0704 - val_accuracy: 0.5750\n",
            "Epoch 51/200\n",
            "469/469 [==============================] - 1s 3ms/step - loss: 0.0706 - accuracy: 0.5725 - val_loss: 0.0699 - val_accuracy: 0.5795\n",
            "Epoch 52/200\n",
            "469/469 [==============================] - 1s 3ms/step - loss: 0.0701 - accuracy: 0.5775 - val_loss: 0.0694 - val_accuracy: 0.5845\n",
            "Epoch 53/200\n",
            "469/469 [==============================] - 1s 3ms/step - loss: 0.0696 - accuracy: 0.5821 - val_loss: 0.0689 - val_accuracy: 0.5885\n",
            "Epoch 54/200\n",
            "469/469 [==============================] - 1s 3ms/step - loss: 0.0691 - accuracy: 0.5870 - val_loss: 0.0684 - val_accuracy: 0.5927\n",
            "Epoch 55/200\n",
            "469/469 [==============================] - 2s 4ms/step - loss: 0.0686 - accuracy: 0.5914 - val_loss: 0.0679 - val_accuracy: 0.5966\n",
            "Epoch 56/200\n",
            "469/469 [==============================] - 1s 3ms/step - loss: 0.0681 - accuracy: 0.5952 - val_loss: 0.0674 - val_accuracy: 0.6007\n",
            "Epoch 57/200\n",
            "469/469 [==============================] - 1s 3ms/step - loss: 0.0676 - accuracy: 0.5996 - val_loss: 0.0669 - val_accuracy: 0.6048\n",
            "Epoch 58/200\n",
            "469/469 [==============================] - 1s 3ms/step - loss: 0.0671 - accuracy: 0.6034 - val_loss: 0.0664 - val_accuracy: 0.6090\n",
            "Epoch 59/200\n",
            "469/469 [==============================] - 1s 3ms/step - loss: 0.0666 - accuracy: 0.6078 - val_loss: 0.0659 - val_accuracy: 0.6127\n",
            "Epoch 60/200\n",
            "469/469 [==============================] - 1s 3ms/step - loss: 0.0661 - accuracy: 0.6121 - val_loss: 0.0654 - val_accuracy: 0.6169\n",
            "Epoch 61/200\n",
            "469/469 [==============================] - 1s 3ms/step - loss: 0.0656 - accuracy: 0.6155 - val_loss: 0.0649 - val_accuracy: 0.6204\n",
            "Epoch 62/200\n",
            "469/469 [==============================] - 1s 3ms/step - loss: 0.0651 - accuracy: 0.6194 - val_loss: 0.0644 - val_accuracy: 0.6253\n",
            "Epoch 63/200\n",
            "469/469 [==============================] - 2s 4ms/step - loss: 0.0647 - accuracy: 0.6228 - val_loss: 0.0639 - val_accuracy: 0.6292\n",
            "Epoch 64/200\n",
            "469/469 [==============================] - 2s 4ms/step - loss: 0.0642 - accuracy: 0.6261 - val_loss: 0.0634 - val_accuracy: 0.6327\n",
            "Epoch 65/200\n",
            "469/469 [==============================] - 1s 3ms/step - loss: 0.0637 - accuracy: 0.6298 - val_loss: 0.0629 - val_accuracy: 0.6353\n",
            "Epoch 66/200\n",
            "469/469 [==============================] - 1s 3ms/step - loss: 0.0632 - accuracy: 0.6327 - val_loss: 0.0624 - val_accuracy: 0.6382\n",
            "Epoch 67/200\n",
            "469/469 [==============================] - 1s 3ms/step - loss: 0.0627 - accuracy: 0.6357 - val_loss: 0.0619 - val_accuracy: 0.6413\n",
            "Epoch 68/200\n",
            "469/469 [==============================] - 1s 3ms/step - loss: 0.0622 - accuracy: 0.6389 - val_loss: 0.0614 - val_accuracy: 0.6439\n",
            "Epoch 69/200\n",
            "469/469 [==============================] - 1s 3ms/step - loss: 0.0617 - accuracy: 0.6415 - val_loss: 0.0610 - val_accuracy: 0.6458\n",
            "Epoch 70/200\n",
            "469/469 [==============================] - 1s 3ms/step - loss: 0.0613 - accuracy: 0.6444 - val_loss: 0.0605 - val_accuracy: 0.6488\n",
            "Epoch 71/200\n",
            "469/469 [==============================] - 1s 3ms/step - loss: 0.0608 - accuracy: 0.6469 - val_loss: 0.0600 - val_accuracy: 0.6517\n",
            "Epoch 72/200\n",
            "469/469 [==============================] - 2s 4ms/step - loss: 0.0603 - accuracy: 0.6494 - val_loss: 0.0595 - val_accuracy: 0.6544\n",
            "Epoch 73/200\n",
            "469/469 [==============================] - 1s 3ms/step - loss: 0.0599 - accuracy: 0.6519 - val_loss: 0.0591 - val_accuracy: 0.6568\n",
            "Epoch 74/200\n",
            "469/469 [==============================] - 1s 3ms/step - loss: 0.0594 - accuracy: 0.6543 - val_loss: 0.0586 - val_accuracy: 0.6586\n",
            "Epoch 75/200\n",
            "469/469 [==============================] - 1s 3ms/step - loss: 0.0589 - accuracy: 0.6568 - val_loss: 0.0581 - val_accuracy: 0.6618\n",
            "Epoch 76/200\n",
            "469/469 [==============================] - 1s 3ms/step - loss: 0.0585 - accuracy: 0.6588 - val_loss: 0.0577 - val_accuracy: 0.6641\n",
            "Epoch 77/200\n",
            "469/469 [==============================] - 1s 3ms/step - loss: 0.0580 - accuracy: 0.6610 - val_loss: 0.0572 - val_accuracy: 0.6665\n",
            "Epoch 78/200\n",
            "469/469 [==============================] - 1s 3ms/step - loss: 0.0576 - accuracy: 0.6634 - val_loss: 0.0568 - val_accuracy: 0.6684\n",
            "Epoch 79/200\n",
            "469/469 [==============================] - 1s 3ms/step - loss: 0.0571 - accuracy: 0.6653 - val_loss: 0.0563 - val_accuracy: 0.6708\n",
            "Epoch 80/200\n",
            "469/469 [==============================] - 2s 4ms/step - loss: 0.0567 - accuracy: 0.6673 - val_loss: 0.0559 - val_accuracy: 0.6729\n",
            "Epoch 81/200\n",
            "469/469 [==============================] - 2s 4ms/step - loss: 0.0563 - accuracy: 0.6688 - val_loss: 0.0554 - val_accuracy: 0.6758\n",
            "Epoch 82/200\n",
            "469/469 [==============================] - 1s 3ms/step - loss: 0.0558 - accuracy: 0.6707 - val_loss: 0.0550 - val_accuracy: 0.6777\n",
            "Epoch 83/200\n",
            "469/469 [==============================] - 1s 3ms/step - loss: 0.0554 - accuracy: 0.6729 - val_loss: 0.0546 - val_accuracy: 0.6797\n",
            "Epoch 84/200\n",
            "469/469 [==============================] - 1s 3ms/step - loss: 0.0550 - accuracy: 0.6750 - val_loss: 0.0541 - val_accuracy: 0.6820\n",
            "Epoch 85/200\n",
            "469/469 [==============================] - 1s 3ms/step - loss: 0.0545 - accuracy: 0.6769 - val_loss: 0.0537 - val_accuracy: 0.6849\n",
            "Epoch 86/200\n",
            "469/469 [==============================] - 1s 3ms/step - loss: 0.0541 - accuracy: 0.6786 - val_loss: 0.0533 - val_accuracy: 0.6881\n",
            "Epoch 87/200\n",
            "469/469 [==============================] - 1s 3ms/step - loss: 0.0537 - accuracy: 0.6807 - val_loss: 0.0529 - val_accuracy: 0.6898\n",
            "Epoch 88/200\n",
            "469/469 [==============================] - 1s 3ms/step - loss: 0.0533 - accuracy: 0.6825 - val_loss: 0.0524 - val_accuracy: 0.6910\n",
            "Epoch 89/200\n",
            "469/469 [==============================] - 2s 4ms/step - loss: 0.0529 - accuracy: 0.6841 - val_loss: 0.0520 - val_accuracy: 0.6935\n",
            "Epoch 90/200\n",
            "469/469 [==============================] - 2s 3ms/step - loss: 0.0525 - accuracy: 0.6860 - val_loss: 0.0516 - val_accuracy: 0.6954\n",
            "Epoch 91/200\n",
            "469/469 [==============================] - 1s 3ms/step - loss: 0.0521 - accuracy: 0.6879 - val_loss: 0.0512 - val_accuracy: 0.6974\n",
            "Epoch 92/200\n",
            "469/469 [==============================] - 1s 3ms/step - loss: 0.0517 - accuracy: 0.6900 - val_loss: 0.0508 - val_accuracy: 0.6993\n",
            "Epoch 93/200\n",
            "469/469 [==============================] - 1s 3ms/step - loss: 0.0513 - accuracy: 0.6920 - val_loss: 0.0505 - val_accuracy: 0.7014\n",
            "Epoch 94/200\n",
            "469/469 [==============================] - 1s 3ms/step - loss: 0.0509 - accuracy: 0.6941 - val_loss: 0.0501 - val_accuracy: 0.7036\n",
            "Epoch 95/200\n",
            "469/469 [==============================] - 1s 3ms/step - loss: 0.0506 - accuracy: 0.6963 - val_loss: 0.0497 - val_accuracy: 0.7061\n",
            "Epoch 96/200\n",
            "469/469 [==============================] - 1s 3ms/step - loss: 0.0502 - accuracy: 0.6990 - val_loss: 0.0493 - val_accuracy: 0.7081\n",
            "Epoch 97/200\n",
            "469/469 [==============================] - 2s 4ms/step - loss: 0.0498 - accuracy: 0.7012 - val_loss: 0.0489 - val_accuracy: 0.7103\n",
            "Epoch 98/200\n",
            "469/469 [==============================] - 2s 3ms/step - loss: 0.0495 - accuracy: 0.7036 - val_loss: 0.0486 - val_accuracy: 0.7130\n",
            "Epoch 99/200\n",
            "469/469 [==============================] - 1s 3ms/step - loss: 0.0491 - accuracy: 0.7063 - val_loss: 0.0482 - val_accuracy: 0.7155\n",
            "Epoch 100/200\n",
            "469/469 [==============================] - 1s 3ms/step - loss: 0.0487 - accuracy: 0.7093 - val_loss: 0.0478 - val_accuracy: 0.7192\n",
            "Epoch 101/200\n",
            "469/469 [==============================] - 1s 3ms/step - loss: 0.0484 - accuracy: 0.7128 - val_loss: 0.0475 - val_accuracy: 0.7224\n",
            "Epoch 102/200\n",
            "469/469 [==============================] - 1s 3ms/step - loss: 0.0480 - accuracy: 0.7158 - val_loss: 0.0471 - val_accuracy: 0.7255\n",
            "Epoch 103/200\n",
            "469/469 [==============================] - 1s 3ms/step - loss: 0.0477 - accuracy: 0.7191 - val_loss: 0.0468 - val_accuracy: 0.7284\n",
            "Epoch 104/200\n",
            "469/469 [==============================] - 1s 3ms/step - loss: 0.0473 - accuracy: 0.7225 - val_loss: 0.0464 - val_accuracy: 0.7331\n",
            "Epoch 105/200\n",
            "469/469 [==============================] - 2s 3ms/step - loss: 0.0470 - accuracy: 0.7258 - val_loss: 0.0461 - val_accuracy: 0.7377\n",
            "Epoch 106/200\n",
            "469/469 [==============================] - 2s 4ms/step - loss: 0.0467 - accuracy: 0.7292 - val_loss: 0.0457 - val_accuracy: 0.7416\n",
            "Epoch 107/200\n",
            "469/469 [==============================] - 1s 3ms/step - loss: 0.0463 - accuracy: 0.7328 - val_loss: 0.0454 - val_accuracy: 0.7448\n",
            "Epoch 108/200\n",
            "469/469 [==============================] - 1s 3ms/step - loss: 0.0460 - accuracy: 0.7362 - val_loss: 0.0451 - val_accuracy: 0.7480\n",
            "Epoch 109/200\n",
            "469/469 [==============================] - 1s 3ms/step - loss: 0.0457 - accuracy: 0.7397 - val_loss: 0.0448 - val_accuracy: 0.7513\n",
            "Epoch 110/200\n",
            "469/469 [==============================] - 1s 3ms/step - loss: 0.0454 - accuracy: 0.7440 - val_loss: 0.0444 - val_accuracy: 0.7560\n",
            "Epoch 111/200\n",
            "469/469 [==============================] - 1s 3ms/step - loss: 0.0451 - accuracy: 0.7483 - val_loss: 0.0441 - val_accuracy: 0.7605\n",
            "Epoch 112/200\n",
            "469/469 [==============================] - 1s 3ms/step - loss: 0.0447 - accuracy: 0.7524 - val_loss: 0.0438 - val_accuracy: 0.7637\n",
            "Epoch 113/200\n",
            "469/469 [==============================] - 1s 3ms/step - loss: 0.0444 - accuracy: 0.7563 - val_loss: 0.0435 - val_accuracy: 0.7681\n",
            "Epoch 114/200\n",
            "469/469 [==============================] - 2s 4ms/step - loss: 0.0441 - accuracy: 0.7606 - val_loss: 0.0432 - val_accuracy: 0.7715\n",
            "Epoch 115/200\n",
            "469/469 [==============================] - 1s 3ms/step - loss: 0.0438 - accuracy: 0.7639 - val_loss: 0.0429 - val_accuracy: 0.7755\n",
            "Epoch 116/200\n",
            "469/469 [==============================] - 1s 3ms/step - loss: 0.0435 - accuracy: 0.7682 - val_loss: 0.0426 - val_accuracy: 0.7791\n",
            "Epoch 117/200\n",
            "469/469 [==============================] - 1s 3ms/step - loss: 0.0432 - accuracy: 0.7712 - val_loss: 0.0423 - val_accuracy: 0.7833\n",
            "Epoch 118/200\n",
            "469/469 [==============================] - 1s 3ms/step - loss: 0.0429 - accuracy: 0.7750 - val_loss: 0.0420 - val_accuracy: 0.7867\n",
            "Epoch 119/200\n",
            "469/469 [==============================] - 1s 3ms/step - loss: 0.0427 - accuracy: 0.7784 - val_loss: 0.0417 - val_accuracy: 0.7892\n",
            "Epoch 120/200\n",
            "469/469 [==============================] - 1s 3ms/step - loss: 0.0424 - accuracy: 0.7822 - val_loss: 0.0414 - val_accuracy: 0.7915\n",
            "Epoch 121/200\n",
            "469/469 [==============================] - 1s 3ms/step - loss: 0.0421 - accuracy: 0.7854 - val_loss: 0.0411 - val_accuracy: 0.7953\n",
            "Epoch 122/200\n",
            "469/469 [==============================] - 2s 4ms/step - loss: 0.0418 - accuracy: 0.7880 - val_loss: 0.0408 - val_accuracy: 0.7984\n",
            "Epoch 123/200\n",
            "469/469 [==============================] - 2s 4ms/step - loss: 0.0415 - accuracy: 0.7916 - val_loss: 0.0406 - val_accuracy: 0.8012\n",
            "Epoch 124/200\n",
            "469/469 [==============================] - 1s 3ms/step - loss: 0.0413 - accuracy: 0.7942 - val_loss: 0.0403 - val_accuracy: 0.8042\n",
            "Epoch 125/200\n",
            "469/469 [==============================] - 1s 3ms/step - loss: 0.0410 - accuracy: 0.7959 - val_loss: 0.0400 - val_accuracy: 0.8061\n",
            "Epoch 126/200\n",
            "469/469 [==============================] - 1s 3ms/step - loss: 0.0407 - accuracy: 0.7983 - val_loss: 0.0397 - val_accuracy: 0.8080\n",
            "Epoch 127/200\n",
            "469/469 [==============================] - 1s 3ms/step - loss: 0.0405 - accuracy: 0.8006 - val_loss: 0.0395 - val_accuracy: 0.8097\n",
            "Epoch 128/200\n",
            "469/469 [==============================] - 1s 3ms/step - loss: 0.0402 - accuracy: 0.8023 - val_loss: 0.0392 - val_accuracy: 0.8130\n",
            "Epoch 129/200\n",
            "469/469 [==============================] - 1s 3ms/step - loss: 0.0400 - accuracy: 0.8048 - val_loss: 0.0390 - val_accuracy: 0.8158\n",
            "Epoch 130/200\n",
            "469/469 [==============================] - 1s 3ms/step - loss: 0.0397 - accuracy: 0.8077 - val_loss: 0.0387 - val_accuracy: 0.8173\n",
            "Epoch 131/200\n",
            "469/469 [==============================] - 2s 4ms/step - loss: 0.0395 - accuracy: 0.8092 - val_loss: 0.0384 - val_accuracy: 0.8188\n",
            "Epoch 132/200\n",
            "469/469 [==============================] - 1s 3ms/step - loss: 0.0392 - accuracy: 0.8109 - val_loss: 0.0382 - val_accuracy: 0.8201\n",
            "Epoch 133/200\n",
            "469/469 [==============================] - 1s 3ms/step - loss: 0.0390 - accuracy: 0.8132 - val_loss: 0.0379 - val_accuracy: 0.8221\n",
            "Epoch 134/200\n",
            "469/469 [==============================] - 1s 3ms/step - loss: 0.0387 - accuracy: 0.8145 - val_loss: 0.0377 - val_accuracy: 0.8229\n",
            "Epoch 135/200\n",
            "469/469 [==============================] - 1s 3ms/step - loss: 0.0385 - accuracy: 0.8159 - val_loss: 0.0375 - val_accuracy: 0.8250\n",
            "Epoch 136/200\n",
            "469/469 [==============================] - 1s 3ms/step - loss: 0.0382 - accuracy: 0.8176 - val_loss: 0.0372 - val_accuracy: 0.8259\n",
            "Epoch 137/200\n",
            "469/469 [==============================] - 1s 3ms/step - loss: 0.0380 - accuracy: 0.8198 - val_loss: 0.0370 - val_accuracy: 0.8268\n",
            "Epoch 138/200\n",
            "469/469 [==============================] - 1s 3ms/step - loss: 0.0378 - accuracy: 0.8209 - val_loss: 0.0368 - val_accuracy: 0.8276\n",
            "Epoch 139/200\n",
            "469/469 [==============================] - 2s 4ms/step - loss: 0.0376 - accuracy: 0.8225 - val_loss: 0.0365 - val_accuracy: 0.8287\n",
            "Epoch 140/200\n",
            "469/469 [==============================] - 2s 3ms/step - loss: 0.0373 - accuracy: 0.8241 - val_loss: 0.0363 - val_accuracy: 0.8308\n",
            "Epoch 141/200\n",
            "469/469 [==============================] - 1s 3ms/step - loss: 0.0371 - accuracy: 0.8254 - val_loss: 0.0361 - val_accuracy: 0.8314\n",
            "Epoch 142/200\n",
            "469/469 [==============================] - 1s 3ms/step - loss: 0.0369 - accuracy: 0.8268 - val_loss: 0.0359 - val_accuracy: 0.8331\n",
            "Epoch 143/200\n",
            "469/469 [==============================] - 1s 3ms/step - loss: 0.0367 - accuracy: 0.8280 - val_loss: 0.0356 - val_accuracy: 0.8343\n",
            "Epoch 144/200\n",
            "469/469 [==============================] - 1s 3ms/step - loss: 0.0365 - accuracy: 0.8286 - val_loss: 0.0354 - val_accuracy: 0.8353\n",
            "Epoch 145/200\n",
            "469/469 [==============================] - 1s 3ms/step - loss: 0.0363 - accuracy: 0.8296 - val_loss: 0.0352 - val_accuracy: 0.8369\n",
            "Epoch 146/200\n",
            "469/469 [==============================] - 1s 3ms/step - loss: 0.0360 - accuracy: 0.8305 - val_loss: 0.0350 - val_accuracy: 0.8384\n",
            "Epoch 147/200\n",
            "469/469 [==============================] - 2s 3ms/step - loss: 0.0358 - accuracy: 0.8318 - val_loss: 0.0348 - val_accuracy: 0.8391\n",
            "Epoch 148/200\n",
            "469/469 [==============================] - 2s 4ms/step - loss: 0.0356 - accuracy: 0.8328 - val_loss: 0.0346 - val_accuracy: 0.8402\n",
            "Epoch 149/200\n",
            "469/469 [==============================] - 1s 3ms/step - loss: 0.0354 - accuracy: 0.8339 - val_loss: 0.0344 - val_accuracy: 0.8409\n",
            "Epoch 150/200\n",
            "469/469 [==============================] - 1s 3ms/step - loss: 0.0352 - accuracy: 0.8349 - val_loss: 0.0342 - val_accuracy: 0.8415\n",
            "Epoch 151/200\n",
            "469/469 [==============================] - 1s 3ms/step - loss: 0.0350 - accuracy: 0.8357 - val_loss: 0.0340 - val_accuracy: 0.8424\n",
            "Epoch 152/200\n",
            "469/469 [==============================] - 1s 3ms/step - loss: 0.0349 - accuracy: 0.8368 - val_loss: 0.0338 - val_accuracy: 0.8425\n",
            "Epoch 153/200\n",
            "469/469 [==============================] - 1s 3ms/step - loss: 0.0347 - accuracy: 0.8376 - val_loss: 0.0336 - val_accuracy: 0.8431\n",
            "Epoch 154/200\n",
            "469/469 [==============================] - 1s 3ms/step - loss: 0.0345 - accuracy: 0.8386 - val_loss: 0.0334 - val_accuracy: 0.8452\n",
            "Epoch 155/200\n",
            "469/469 [==============================] - 1s 3ms/step - loss: 0.0343 - accuracy: 0.8394 - val_loss: 0.0332 - val_accuracy: 0.8454\n",
            "Epoch 156/200\n",
            "469/469 [==============================] - 2s 4ms/step - loss: 0.0341 - accuracy: 0.8398 - val_loss: 0.0331 - val_accuracy: 0.8455\n",
            "Epoch 157/200\n",
            "469/469 [==============================] - 2s 4ms/step - loss: 0.0339 - accuracy: 0.8404 - val_loss: 0.0329 - val_accuracy: 0.8470\n",
            "Epoch 158/200\n",
            "469/469 [==============================] - 1s 3ms/step - loss: 0.0338 - accuracy: 0.8413 - val_loss: 0.0327 - val_accuracy: 0.8479\n",
            "Epoch 159/200\n",
            "469/469 [==============================] - 1s 3ms/step - loss: 0.0336 - accuracy: 0.8417 - val_loss: 0.0325 - val_accuracy: 0.8488\n",
            "Epoch 160/200\n",
            "469/469 [==============================] - 1s 3ms/step - loss: 0.0334 - accuracy: 0.8425 - val_loss: 0.0323 - val_accuracy: 0.8491\n",
            "Epoch 161/200\n",
            "469/469 [==============================] - 1s 3ms/step - loss: 0.0332 - accuracy: 0.8432 - val_loss: 0.0322 - val_accuracy: 0.8505\n",
            "Epoch 162/200\n",
            "469/469 [==============================] - 1s 3ms/step - loss: 0.0331 - accuracy: 0.8438 - val_loss: 0.0320 - val_accuracy: 0.8509\n",
            "Epoch 163/200\n",
            "469/469 [==============================] - 1s 3ms/step - loss: 0.0329 - accuracy: 0.8442 - val_loss: 0.0318 - val_accuracy: 0.8517\n",
            "Epoch 164/200\n",
            "469/469 [==============================] - 2s 4ms/step - loss: 0.0327 - accuracy: 0.8451 - val_loss: 0.0317 - val_accuracy: 0.8523\n",
            "Epoch 165/200\n",
            "469/469 [==============================] - 2s 3ms/step - loss: 0.0326 - accuracy: 0.8457 - val_loss: 0.0315 - val_accuracy: 0.8525\n",
            "Epoch 166/200\n",
            "469/469 [==============================] - 1s 3ms/step - loss: 0.0324 - accuracy: 0.8461 - val_loss: 0.0313 - val_accuracy: 0.8529\n",
            "Epoch 167/200\n",
            "469/469 [==============================] - 1s 3ms/step - loss: 0.0322 - accuracy: 0.8466 - val_loss: 0.0312 - val_accuracy: 0.8533\n",
            "Epoch 168/200\n",
            "469/469 [==============================] - 1s 3ms/step - loss: 0.0321 - accuracy: 0.8472 - val_loss: 0.0310 - val_accuracy: 0.8538\n",
            "Epoch 169/200\n",
            "469/469 [==============================] - 1s 3ms/step - loss: 0.0319 - accuracy: 0.8479 - val_loss: 0.0309 - val_accuracy: 0.8547\n",
            "Epoch 170/200\n",
            "469/469 [==============================] - 1s 3ms/step - loss: 0.0318 - accuracy: 0.8483 - val_loss: 0.0307 - val_accuracy: 0.8548\n",
            "Epoch 171/200\n",
            "469/469 [==============================] - 1s 3ms/step - loss: 0.0316 - accuracy: 0.8490 - val_loss: 0.0306 - val_accuracy: 0.8552\n",
            "Epoch 172/200\n",
            "469/469 [==============================] - 2s 4ms/step - loss: 0.0315 - accuracy: 0.8496 - val_loss: 0.0304 - val_accuracy: 0.8560\n",
            "Epoch 173/200\n",
            "469/469 [==============================] - 2s 3ms/step - loss: 0.0313 - accuracy: 0.8499 - val_loss: 0.0303 - val_accuracy: 0.8566\n",
            "Epoch 174/200\n",
            "469/469 [==============================] - 2s 3ms/step - loss: 0.0312 - accuracy: 0.8501 - val_loss: 0.0301 - val_accuracy: 0.8574\n",
            "Epoch 175/200\n",
            "469/469 [==============================] - 1s 3ms/step - loss: 0.0310 - accuracy: 0.8508 - val_loss: 0.0300 - val_accuracy: 0.8574\n",
            "Epoch 176/200\n",
            "469/469 [==============================] - 2s 3ms/step - loss: 0.0309 - accuracy: 0.8512 - val_loss: 0.0298 - val_accuracy: 0.8579\n",
            "Epoch 177/200\n",
            "469/469 [==============================] - 1s 3ms/step - loss: 0.0308 - accuracy: 0.8515 - val_loss: 0.0297 - val_accuracy: 0.8581\n",
            "Epoch 178/200\n",
            "469/469 [==============================] - 1s 3ms/step - loss: 0.0306 - accuracy: 0.8519 - val_loss: 0.0295 - val_accuracy: 0.8583\n",
            "Epoch 179/200\n",
            "469/469 [==============================] - 1s 3ms/step - loss: 0.0305 - accuracy: 0.8525 - val_loss: 0.0294 - val_accuracy: 0.8591\n",
            "Epoch 180/200\n",
            "469/469 [==============================] - 2s 4ms/step - loss: 0.0304 - accuracy: 0.8529 - val_loss: 0.0293 - val_accuracy: 0.8593\n",
            "Epoch 181/200\n",
            "469/469 [==============================] - 2s 3ms/step - loss: 0.0302 - accuracy: 0.8532 - val_loss: 0.0291 - val_accuracy: 0.8603\n",
            "Epoch 182/200\n",
            "469/469 [==============================] - 1s 3ms/step - loss: 0.0301 - accuracy: 0.8535 - val_loss: 0.0290 - val_accuracy: 0.8608\n",
            "Epoch 183/200\n",
            "469/469 [==============================] - 1s 3ms/step - loss: 0.0300 - accuracy: 0.8538 - val_loss: 0.0289 - val_accuracy: 0.8611\n",
            "Epoch 184/200\n",
            "469/469 [==============================] - 2s 3ms/step - loss: 0.0298 - accuracy: 0.8541 - val_loss: 0.0288 - val_accuracy: 0.8618\n",
            "Epoch 185/200\n",
            "469/469 [==============================] - 1s 3ms/step - loss: 0.0297 - accuracy: 0.8546 - val_loss: 0.0286 - val_accuracy: 0.8625\n",
            "Epoch 186/200\n",
            "469/469 [==============================] - 2s 3ms/step - loss: 0.0296 - accuracy: 0.8552 - val_loss: 0.0285 - val_accuracy: 0.8626\n",
            "Epoch 187/200\n",
            "469/469 [==============================] - 1s 3ms/step - loss: 0.0295 - accuracy: 0.8552 - val_loss: 0.0284 - val_accuracy: 0.8633\n",
            "Epoch 188/200\n",
            "469/469 [==============================] - 2s 4ms/step - loss: 0.0293 - accuracy: 0.8557 - val_loss: 0.0283 - val_accuracy: 0.8637\n",
            "Epoch 189/200\n",
            "469/469 [==============================] - 2s 3ms/step - loss: 0.0292 - accuracy: 0.8560 - val_loss: 0.0281 - val_accuracy: 0.8639\n",
            "Epoch 190/200\n",
            "469/469 [==============================] - 1s 3ms/step - loss: 0.0291 - accuracy: 0.8565 - val_loss: 0.0280 - val_accuracy: 0.8644\n",
            "Epoch 191/200\n",
            "469/469 [==============================] - 1s 3ms/step - loss: 0.0290 - accuracy: 0.8567 - val_loss: 0.0279 - val_accuracy: 0.8643\n",
            "Epoch 192/200\n",
            "469/469 [==============================] - 1s 3ms/step - loss: 0.0289 - accuracy: 0.8572 - val_loss: 0.0278 - val_accuracy: 0.8647\n",
            "Epoch 193/200\n",
            "469/469 [==============================] - 1s 3ms/step - loss: 0.0288 - accuracy: 0.8575 - val_loss: 0.0277 - val_accuracy: 0.8648\n",
            "Epoch 194/200\n",
            "469/469 [==============================] - 1s 3ms/step - loss: 0.0286 - accuracy: 0.8579 - val_loss: 0.0276 - val_accuracy: 0.8653\n",
            "Epoch 195/200\n",
            "469/469 [==============================] - 1s 3ms/step - loss: 0.0285 - accuracy: 0.8584 - val_loss: 0.0274 - val_accuracy: 0.8655\n",
            "Epoch 196/200\n",
            "469/469 [==============================] - 2s 4ms/step - loss: 0.0284 - accuracy: 0.8586 - val_loss: 0.0273 - val_accuracy: 0.8657\n",
            "Epoch 197/200\n",
            "469/469 [==============================] - 2s 3ms/step - loss: 0.0283 - accuracy: 0.8589 - val_loss: 0.0272 - val_accuracy: 0.8663\n",
            "Epoch 198/200\n",
            "469/469 [==============================] - 1s 3ms/step - loss: 0.0282 - accuracy: 0.8593 - val_loss: 0.0271 - val_accuracy: 0.8669\n",
            "Epoch 199/200\n",
            "469/469 [==============================] - 1s 3ms/step - loss: 0.0281 - accuracy: 0.8596 - val_loss: 0.0270 - val_accuracy: 0.8673\n",
            "Epoch 200/200\n",
            "469/469 [==============================] - 1s 3ms/step - loss: 0.0280 - accuracy: 0.8598 - val_loss: 0.0269 - val_accuracy: 0.8677\n"
          ]
        }
      ]
    },
    {
      "cell_type": "markdown",
      "metadata": {
        "id": "8AJ6owdTR1UA"
      },
      "source": [
        "### Plot learning curves"
      ]
    },
    {
      "cell_type": "code",
      "metadata": {
        "id": "QF8qu8ByR314",
        "colab": {
          "base_uri": "https://localhost:8080/",
          "height": 945
        },
        "outputId": "ed0a93bf-68a5-4f36-a261-c1f6cc502f6f"
      },
      "source": [
        "# list all data in history\n",
        "print(history.history.keys())\n",
        "\n",
        "# summarize history for accuracy\n",
        "plt.plot(history.history['accuracy'])\n",
        "plt.plot(history.history['val_accuracy'])\n",
        "plt.title('model accuracy')\n",
        "plt.ylabel('accuracy')\n",
        "plt.xlabel('epoch')\n",
        "plt.legend(['train', 'validation'], loc='upper left')\n",
        "plt.show()\n",
        "\n",
        "# summarize history for loss\n",
        "plt.plot(history.history['loss'])\n",
        "plt.plot(history.history['val_loss'])\n",
        "plt.title('model loss')\n",
        "plt.ylabel('loss')\n",
        "plt.xlabel('epoch')\n",
        "plt.legend(['train', 'validation'], loc='upper left')\n",
        "plt.show()"
      ],
      "execution_count": 21,
      "outputs": [
        {
          "output_type": "stream",
          "name": "stdout",
          "text": [
            "dict_keys(['loss', 'accuracy', 'val_loss', 'val_accuracy'])\n"
          ]
        },
        {
          "output_type": "display_data",
          "data": {
            "text/plain": [
              "<Figure size 640x480 with 1 Axes>"
            ],
            "image/png": "[encoded data removed]"
          },
          "metadata": {}
        },
        {
          "output_type": "display_data",
          "data": {
            "text/plain": [
              "<Figure size 640x480 with 1 Axes>"
            ],
            "image/png": "[encoded data removed]"
          },
          "metadata": {}
        }
      ]
    },
    {
      "cell_type": "markdown",
      "metadata": {
        "id": "763bQLbzQmw4"
      },
      "source": [
        "### Evaluate the model"
      ]
    },
    {
      "cell_type": "code",
      "metadata": {
        "id": "2siGhXrm-6rb",
        "colab": {
          "base_uri": "https://localhost:8080/",
          "height": 0
        },
        "outputId": "4f658665-55a9-496b-d9c4-eaa233d4a18c"
      },
      "source": [
        "model.evaluate(X_validation, y_validation)"
      ],
      "execution_count": 22,
      "outputs": [
        {
          "output_type": "stream",
          "name": "stdout",
          "text": [
            "313/313 [==============================] - 1s 2ms/step - loss: 0.0269 - accuracy: 0.8677\n"
          ]
        },
        {
          "output_type": "execute_result",
          "data": {
            "text/plain": [
              "[0.026904979720711708, 0.8676999807357788]"
            ]
          },
          "metadata": {},
          "execution_count": 22
        }
      ]
    },
    {
      "cell_type": "markdown",
      "source": [
        "## **PART 1** - *Your Turn* "
      ],
      "metadata": {
        "id": "cFfmkCZ-N1lM"
      }
    },
    {
      "cell_type": "markdown",
      "source": [
        "### **Part 1 - Tasks:**  *(40 pts)*\n",
        "1. Write code to display the confusion matrix for your classifier and comment on the insights such confusion matrix provides. See [this](https://scikit-learn.org/stable/auto_examples/classification/plot_digits_classification.html) for an example.\n",
        "\n",
        "2. Write code to display 10 cases where the classifier makes mistakes. Make sure to display both the true value as well as the predicted value."
      ],
      "metadata": {
        "id": "lRWMcw5HOJDr"
      }
    },
    {
      "cell_type": "markdown",
      "source": [
        "#### 1.a. Confusion Matrix *(10 pts)*"
      ],
      "metadata": {
        "id": "eUQnhnk4bsuk"
      }
    },
    {
      "cell_type": "code",
      "source": [
        "# Your Confusion Matrix code here and in additional cells as needed\n",
        "y_validation_predictions = model.predict(X_validation)\n",
        "\n",
        "\n",
        "y_pred=np.argmax(y_validation_predictions, axis=1)\n",
        "y_test=np.argmax(y_validation, axis=1)\n",
        "cm = confusion_matrix(y_test, y_pred)\n"
      ],
      "metadata": {
        "id": "zAtq58hePWPy"
      },
      "execution_count": null,
      "outputs": []
    },
    {
      "cell_type": "code",
      "source": [
        "number_classes = [0, 1, 2, 3, 4, 5, 6, 7, 8, 9]\n",
        "\n",
        "# Creating a dataframe for a array-formatted Confusion matrix,so it will be easy for plotting.\n",
        "cm_df = pd.DataFrame(cm,\n",
        "                     index =number_classes, \n",
        "                     columns =number_classes)\n",
        "\n",
        "\n",
        "#Plotting the confusion matrix\n",
        "plt.figure(figsize=(10,8))\n",
        "sns.heatmap(cm_df, annot=True, fmt='d',  cmap=\"Greens\",  linecolor=\"gray\" )\n",
        "plt.title('Confusion Matrix')\n",
        "plt.ylabel('Actal Values')\n",
        "plt.xlabel('Predicted Values')\n",
        "plt.show()"
      ],
      "metadata": {
        "id": "U1ngXuout5iP",
        "colab": {
          "base_uri": "https://localhost:8080/",
          "height": 718
        },
        "outputId": "8f5ba750-5c87-4764-c782-ccf1e0b7d423"
      },
      "execution_count": 57,
      "outputs": [
        {
          "output_type": "display_data",
          "data": {
            "text/plain": [
              "<Figure size 1000x800 with 2 Axes>"
            ],
            "image/png": "[encoded data removed]"
          },
          "metadata": {}
        }
      ]
    },
    {
      "cell_type": "markdown",
      "source": [
        "#### 1.b. Comment on the insights confusion matrix provides *(10 pts)*"
      ],
      "metadata": {
        "id": "IPh2wMtAb00B"
      }
    },
    {
      "cell_type": "markdown",
      "source": [
        "\n",
        "\n",
        "The confusion matrix provides valuable insights into the performance of a classification model. Here's an analysis of the provided confusion matrix for the MNIST number classification task:\n",
        "\n",
        "**Accuracy and Misclassifications:**\n",
        "\n",
        ">Overall, the model achieves high accuracy, as indicated by the high values on\n",
        "the diagonal of the matrix. The diagonal represents the correctly predicted instances for each class.\n",
        "\n",
        ">The highest accuracy is observed for the number 1, with 1103 correct predictions.\n",
        "\n",
        ">The lowest accuracy is observed for the numbers 5 and 8, with 624 and 774 correct predictions, respectively.\n",
        "\n",
        ">The model tends to misclassify some instances, leading to off-diagonal values. For example, there are instances of number 2 classified as number 6 (30 instances) and number 8 classified as number 4 (42 instances).\n",
        "\n",
        "\n",
        "**Confusion Between Similar Digits:**\n",
        "\n",
        ">The confusion matrix reveals that the model often confuses similar-looking digits, such as 4 and 9. This is evident from the relatively high number of instances where number 4 is misclassified as number 9 (41 instances).\n",
        "Similarly, there are instances of number 7 being misclassified as number 9 (40 instances).\n",
        "\n",
        "**Class Imbalance:**\n",
        "\n",
        ">The matrix indicates that the dataset is relatively balanced, with similar numbers of instances for each class.\n",
        "However, some slight variations in class distribution can be observed. For example, the number 5 has a relatively higher number of misclassifications compared to other digits.\n",
        "\n",
        "\n",
        "**Performance Variation:**\n",
        "\n",
        ">The matrix reveals variations in the model's performance across different digits.\n",
        ">Some digits, such as 0 and 1, are generally well-predicted with high accuracy.\n",
        ">Other digits, such as 8 and 9, exhibit relatively lower accuracy, indicating a greater difficulty in distinguishing these digits from others.\n",
        "\n",
        "**Specific Errors:**\n",
        "\n",
        ">The matrix provides insights into specific types of misclassifications. For instance, there are instances of number 3 being misclassified as number 8 (30 instances) and number 8 being misclassified as number 3 (42 instances).\n",
        "\n"
      ],
      "metadata": {
        "id": "iN8Brv58b-RL"
      }
    },
    {
      "cell_type": "markdown",
      "source": [
        "#### 2.Display 10 cases where the classifier makes mistakes. *(20 pts)*"
      ],
      "metadata": {
        "id": "w-3gs_uqcHll"
      }
    },
    {
      "cell_type": "code",
      "source": [
        "# Your code here and in additional cells as needed\n",
        "\n",
        "# Find indices where predictions and ground truth labels do not match\n",
        "incorrect_indices = np.where(y_pred != y_test)[0]\n",
        "\n",
        "\n",
        "# Display 10 cases where the classifier makes mistakes\n",
        "num_cases = 10\n",
        "fig, axes = plt.subplots(2, 5, figsize=(12, 6))\n",
        "axes = axes.ravel()\n",
        "\n",
        "for i in range(num_cases):\n",
        "    index = incorrect_indices[i]\n",
        "\n",
        "    # Display the image\n",
        "    axes[i].imshow(X_validation[index].reshape(28, 28), cmap='gray')\n",
        "    axes[i].set_title(f\"Predicted: {y_pred[index]}, \\nTrue: {y_true[index]}\")\n",
        "    axes[i].axis('off')\n",
        "\n",
        "plt.tight_layout()\n",
        "plt.show()\n"
      ],
      "metadata": {
        "id": "h2qgIuivcQpQ",
        "colab": {
          "base_uri": "https://localhost:8080/",
          "height": 582
        },
        "outputId": "61acbc90-a778-4576-f384-9bf2d1a35d4d"
      },
      "execution_count": 61,
      "outputs": [
        {
          "output_type": "display_data",
          "data": {
            "text/plain": [
              "<Figure size 1200x600 with 10 Axes>"
            ],
            "image/png": "[encoded data removed]"
          },
          "metadata": {}
        }
      ]
    },
    {
      "cell_type": "markdown",
      "metadata": {
        "id": "a7O3lpDxUsmT"
      },
      "source": [
        "## PART 2 - *Fashion MNIST*\n",
        "\n",
        "\n"
      ]
    },
    {
      "cell_type": "markdown",
      "metadata": {
        "id": "Lmobz-vfUsmu"
      },
      "source": [
        "### Load and prepare the data"
      ]
    },
    {
      "cell_type": "code",
      "source": [
        "# Model / data parameters\n",
        "num_classes = 10\n",
        "input_shape = [28 ,28]"
      ],
      "metadata": {
        "id": "7tiUAea0YgGn"
      },
      "execution_count": 63,
      "outputs": []
    },
    {
      "cell_type": "code",
      "source": [
        "# Loading and Spliting Data in Test and Train \n",
        "(X_train, y_train), (X_valid, y_valid) = tf.keras.datasets.fashion_mnist.load_data()\n",
        "assert X_train.shape == (60000, 28, 28)\n",
        "assert X_valid.shape == (10000, 28, 28)\n",
        "assert y_train.shape == (60000,)\n",
        "assert y_valid.shape == (10000,)"
      ],
      "metadata": {
        "id": "9WuYpbzKVb52",
        "colab": {
          "base_uri": "https://localhost:8080/",
          "height": 0
        },
        "outputId": "6c2ed6d6-0a98-4db9-c018-4a62c13fb499"
      },
      "execution_count": 64,
      "outputs": [
        {
          "output_type": "stream",
          "name": "stdout",
          "text": [
            "Downloading data from https://storage.googleapis.com/tensorflow/tf-keras-datasets/train-labels-idx1-ubyte.gz\n",
            "29515/29515 [==============================] - 0s 0us/step\n",
            "Downloading data from https://storage.googleapis.com/tensorflow/tf-keras-datasets/train-images-idx3-ubyte.gz\n",
            "26421880/26421880 [==============================] - 0s 0us/step\n",
            "Downloading data from https://storage.googleapis.com/tensorflow/tf-keras-datasets/t10k-labels-idx1-ubyte.gz\n",
            "5148/5148 [==============================] - 0s 0us/step\n",
            "Downloading data from https://storage.googleapis.com/tensorflow/tf-keras-datasets/t10k-images-idx3-ubyte.gz\n",
            "4422102/4422102 [==============================] - 0s 0us/step\n"
          ]
        }
      ]
    },
    {
      "cell_type": "markdown",
      "source": [
        "### Defining Classes"
      ],
      "metadata": {
        "id": "SJLgwT4BVsXJ"
      }
    },
    {
      "cell_type": "code",
      "source": [
        "classes_names = ['T-shirt/top' ,  'Trouser' ,'Pullover' , 'Dress', 'Coat','Sandal','Shirt','Sneaker', 'Bag','Ankle Boot'] "
      ],
      "metadata": {
        "id": "_Vtsr209Vs7I"
      },
      "execution_count": 65,
      "outputs": []
    },
    {
      "cell_type": "markdown",
      "source": [
        "### Examine Data"
      ],
      "metadata": {
        "id": "mk5jfFGpUsm4"
      }
    },
    {
      "cell_type": "code",
      "metadata": {
        "colab": {
          "base_uri": "https://localhost:8080/",
          "height": 0
        },
        "outputId": "2002c166-5293-4c85-8e28-fd4a21b1961d",
        "id": "bqDnQHxBUsmv"
      },
      "source": [
        "X_train.shape"
      ],
      "execution_count": 66,
      "outputs": [
        {
          "output_type": "execute_result",
          "data": {
            "text/plain": [
              "(60000, 28, 28)"
            ]
          },
          "metadata": {},
          "execution_count": 66
        }
      ]
    },
    {
      "cell_type": "code",
      "metadata": {
        "colab": {
          "base_uri": "https://localhost:8080/",
          "height": 0
        },
        "outputId": "ed469a64-c59c-4ff0-b200-8eb9ea0cd2a7",
        "id": "f3-vq-ddUsmw"
      },
      "source": [
        "y_valid.shape"
      ],
      "execution_count": 67,
      "outputs": [
        {
          "output_type": "execute_result",
          "data": {
            "text/plain": [
              "(10000,)"
            ]
          },
          "metadata": {},
          "execution_count": 67
        }
      ]
    },
    {
      "cell_type": "code",
      "metadata": {
        "colab": {
          "base_uri": "https://localhost:8080/",
          "height": 0
        },
        "outputId": "9347a6be-48d7-47db-a91d-29da8ea360a9",
        "id": "7bm5DzZ5Usmx"
      },
      "source": [
        "y_train[0:12]"
      ],
      "execution_count": 68,
      "outputs": [
        {
          "output_type": "execute_result",
          "data": {
            "text/plain": [
              "array([9, 0, 0, 3, 0, 2, 7, 2, 5, 5, 0, 9], dtype=uint8)"
            ]
          },
          "metadata": {},
          "execution_count": 68
        }
      ]
    },
    {
      "cell_type": "code",
      "metadata": {
        "colab": {
          "base_uri": "https://localhost:8080/",
          "height": 447
        },
        "outputId": "35c0fc28-d7c2-472c-fdf0-c841ffc21740",
        "id": "vBSF0061Usmy"
      },
      "source": [
        "plt.figure(figsize=(5,5))\n",
        "for k in range(12):\n",
        "    plt.subplot(3, 4, k+1)\n",
        "    plt.imshow(X_train[k], cmap='Greys')\n",
        "    plt.axis('off')\n",
        "plt.tight_layout()\n",
        "plt.show()"
      ],
      "execution_count": 69,
      "outputs": [
        {
          "output_type": "display_data",
          "data": {
            "text/plain": [
              "<Figure size 500x500 with 12 Axes>"
            ],
            "image/png": "[encoded data removed]"
          },
          "metadata": {}
        }
      ]
    },
    {
      "cell_type": "code",
      "metadata": {
        "colab": {
          "base_uri": "https://localhost:8080/",
          "height": 0
        },
        "outputId": "2a177cea-bb32-4dff-d2ab-605eef17ab71",
        "id": "4ZFhStimUsmz"
      },
      "source": [
        "X_valid.shape"
      ],
      "execution_count": 70,
      "outputs": [
        {
          "output_type": "execute_result",
          "data": {
            "text/plain": [
              "(10000, 28, 28)"
            ]
          },
          "metadata": {},
          "execution_count": 70
        }
      ]
    },
    {
      "cell_type": "code",
      "metadata": {
        "colab": {
          "base_uri": "https://localhost:8080/",
          "height": 0
        },
        "outputId": "ce53acae-b96f-4421-bf96-0eeaae8397be",
        "id": "fkcVKlIdUsm0"
      },
      "source": [
        "y_valid.shape"
      ],
      "execution_count": 71,
      "outputs": [
        {
          "output_type": "execute_result",
          "data": {
            "text/plain": [
              "(10000,)"
            ]
          },
          "metadata": {},
          "execution_count": 71
        }
      ]
    },
    {
      "cell_type": "code",
      "metadata": {
        "colab": {
          "base_uri": "https://localhost:8080/",
          "height": 0
        },
        "outputId": "2c208422-7692-4e5b-e751-208e8907c79b",
        "id": "Z2pxEjaSUsm0"
      },
      "source": [
        "y_valid[0]"
      ],
      "execution_count": 72,
      "outputs": [
        {
          "output_type": "execute_result",
          "data": {
            "text/plain": [
              "9"
            ]
          },
          "metadata": {},
          "execution_count": 72
        }
      ]
    },
    {
      "cell_type": "code",
      "metadata": {
        "colab": {
          "base_uri": "https://localhost:8080/",
          "height": 406
        },
        "outputId": "999bbb44-bcb9-4c59-e5b5-12160b092a12",
        "id": "pBxa15BlUsm1"
      },
      "source": [
        "plt.imshow(X_valid[0], cmap='Greys')\n",
        "plt.axis('off')\n",
        "plt.show()"
      ],
      "execution_count": 73,
      "outputs": [
        {
          "output_type": "display_data",
          "data": {
            "text/plain": [
              "<Figure size 640x480 with 1 Axes>"
            ],
            "image/png": "[encoded data removed]"
          },
          "metadata": {}
        }
      ]
    },
    {
      "cell_type": "code",
      "source": [
        "# Reshape (flatten) images \n",
        "X_train_reshaped = X_train.reshape(60000, 784).astype('float32')\n",
        "X_valid_reshaped = X_valid.reshape(10000, 784).astype('float32')\n",
        "\n",
        "# Scale images to the [0, 1] range\n",
        "X_train_scaled_reshaped = X_train_reshaped / 255\n",
        "X_valid_scaled_reshaped = X_valid_reshaped / 255\n",
        "\n",
        "# Renaming for conciseness\n",
        "X_training = X_train_scaled_reshaped\n",
        "X_validation = X_valid_scaled_reshaped\n",
        "\n",
        "print(\"X_training shape (after reshaping + scaling):\", X_training.shape)\n",
        "print(X_training.shape[0], \"train samples\")\n",
        "print(\"X_validation shape (after reshaping + scaling):\", X_validation.shape)\n",
        "print(X_validation.shape[0], \"validation samples\")"
      ],
      "metadata": {
        "colab": {
          "base_uri": "https://localhost:8080/",
          "height": 0
        },
        "id": "Y1uqe2qNvzTX",
        "outputId": "538878a0-3192-4bc9-c137-fde4f081c93f"
      },
      "execution_count": 74,
      "outputs": [
        {
          "output_type": "stream",
          "name": "stdout",
          "text": [
            "X_training shape (after reshaping + scaling): (60000, 784)\n",
            "60000 train samples\n",
            "X_validation shape (after reshaping + scaling): (10000, 784)\n",
            "10000 validation samples\n"
          ]
        }
      ]
    },
    {
      "cell_type": "code",
      "metadata": {
        "id": "j77kPrf9Usm3"
      },
      "source": [
        "# convert class vectors to binary class matrices\n",
        "y_training = keras.utils.to_categorical(y_train, num_classes)\n",
        "y_validation = keras.utils.to_categorical(y_valid, num_classes)"
      ],
      "execution_count": 75,
      "outputs": []
    },
    {
      "cell_type": "code",
      "metadata": {
        "colab": {
          "base_uri": "https://localhost:8080/",
          "height": 0
        },
        "outputId": "bced5a12-1d70-4a3c-9a47-359e18ce671f",
        "id": "7K4nOvY8Usm3"
      },
      "source": [
        "print(y_valid[0])\n",
        "print(y_validation[0])"
      ],
      "execution_count": 76,
      "outputs": [
        {
          "output_type": "stream",
          "name": "stdout",
          "text": [
            "9\n",
            "[0. 0. 0. 0. 0. 0. 0. 0. 0. 1.]\n"
          ]
        }
      ]
    },
    {
      "cell_type": "markdown",
      "source": [
        "## **PART 2** - *Your Turn*"
      ],
      "metadata": {
        "id": "tTPfK-zFOAfi"
      }
    },
    {
      "cell_type": "markdown",
      "source": [
        "### **Part 2 - Tasks:** *(60 pts)*\n",
        "Build a NN solution identical to the one before: *(20 pts)*\n",
        "> a. Plot learning curves *(10 pts)*\n",
        "\n",
        "> b. Display the confusion matrix for your classifier *(10 pts)*\n",
        "\n",
        "> c. Evaluate the model, identify accuracy, etc. *(10 pts)*\n",
        "\n",
        "> d. Discuss why the results are not as good. *(10 pts)*\n",
        "\n",
        "\n",
        "\n"
      ],
      "metadata": {
        "id": "37Jfa71GO-o3"
      }
    },
    {
      "cell_type": "markdown",
      "source": [
        "#### NN solution *(20 pts)*"
      ],
      "metadata": {
        "id": "wfynsAmuRHhR"
      }
    },
    {
      "cell_type": "markdown",
      "source": [
        "Configure the Model *(10 pts)*"
      ],
      "metadata": {
        "id": "0S1JKBzLkHCq"
      }
    },
    {
      "cell_type": "code",
      "source": [
        "# Your Configure the Model code here and in additional code cells as needed\n",
        "# use same model and hyperparameters as was used for MNIST above\n",
        "model = Sequential()\n",
        "model.add(Dense(64, activation='sigmoid', input_shape=(784,)))\n",
        "model.add(Dense(10, activation='softmax'))"
      ],
      "metadata": {
        "id": "ebaDH_ltkQ4K"
      },
      "execution_count": 77,
      "outputs": []
    },
    {
      "cell_type": "code",
      "metadata": {
        "id": "1KTYPXLLTiYD",
        "colab": {
          "base_uri": "https://localhost:8080/",
          "height": 0
        },
        "outputId": "e1d4151f-962a-49d0-f449-4d37e833dcc4"
      },
      "source": [
        "model.summary()"
      ],
      "execution_count": 78,
      "outputs": [
        {
          "output_type": "stream",
          "name": "stdout",
          "text": [
            "Model: \"sequential_1\"\n",
            "_________________________________________________________________\n",
            " Layer (type)                Output Shape              Param #   \n",
            "=================================================================\n",
            " dense_2 (Dense)             (None, 64)                50240     \n",
            "                                                                 \n",
            " dense_3 (Dense)             (None, 10)                650       \n",
            "                                                                 \n",
            "=================================================================\n",
            "Total params: 50,890\n",
            "Trainable params: 50,890\n",
            "Non-trainable params: 0\n",
            "_________________________________________________________________\n"
          ]
        }
      ]
    },
    {
      "cell_type": "code",
      "metadata": {
        "id": "u63OSdzETiYF"
      },
      "source": [],
      "execution_count": 78,
      "outputs": []
    },
    {
      "cell_type": "code",
      "metadata": {
        "id": "mumOr8frTiYH"
      },
      "source": [
        "model.compile(\n",
        "    loss='mean_squared_error', \n",
        "    optimizer=SGD(learning_rate=0.01), \n",
        "    metrics=['accuracy']\n",
        ")"
      ],
      "execution_count": 79,
      "outputs": []
    },
    {
      "cell_type": "markdown",
      "source": [
        "Train the Model  *(10 pts)*"
      ],
      "metadata": {
        "id": "0wVjOdUhkETu"
      }
    },
    {
      "cell_type": "code",
      "source": [
        "# Your Train the Model code here and in additional code cells as needed\n",
        "# same as was used in MNIST above\n",
        "batch_size=128\n",
        "epochs=200\n",
        "\n",
        "history = model.fit(\n",
        "  X_training, # training data\n",
        "  y_training, # training targets\n",
        "  epochs=epochs,\n",
        "  batch_size=batch_size,\n",
        "  verbose=1,\n",
        "  validation_data=(X_validation, y_validation)\n",
        ")"
      ],
      "metadata": {
        "id": "r265wxucPLZQ",
        "colab": {
          "base_uri": "https://localhost:8080/",
          "height": 0
        },
        "outputId": "23301138-4a60-444b-fcec-5b422fca1c1f"
      },
      "execution_count": 80,
      "outputs": [
        {
          "output_type": "stream",
          "name": "stdout",
          "text": [
            "Epoch 1/200\n",
            "469/469 [==============================] - 2s 4ms/step - loss: 0.0957 - accuracy: 0.1086 - val_loss: 0.0942 - val_accuracy: 0.1226\n",
            "Epoch 2/200\n",
            "469/469 [==============================] - 2s 4ms/step - loss: 0.0933 - accuracy: 0.1354 - val_loss: 0.0925 - val_accuracy: 0.1553\n",
            "Epoch 3/200\n",
            "469/469 [==============================] - 1s 3ms/step - loss: 0.0919 - accuracy: 0.1759 - val_loss: 0.0913 - val_accuracy: 0.1929\n",
            "Epoch 4/200\n",
            "469/469 [==============================] - 1s 3ms/step - loss: 0.0908 - accuracy: 0.2114 - val_loss: 0.0904 - val_accuracy: 0.2222\n",
            "Epoch 5/200\n",
            "469/469 [==============================] - 1s 3ms/step - loss: 0.0899 - accuracy: 0.2382 - val_loss: 0.0895 - val_accuracy: 0.2484\n",
            "Epoch 6/200\n",
            "469/469 [==============================] - 1s 3ms/step - loss: 0.0891 - accuracy: 0.2678 - val_loss: 0.0888 - val_accuracy: 0.2861\n",
            "Epoch 7/200\n",
            "469/469 [==============================] - 1s 3ms/step - loss: 0.0884 - accuracy: 0.3126 - val_loss: 0.0881 - val_accuracy: 0.3364\n",
            "Epoch 8/200\n",
            "469/469 [==============================] - 1s 3ms/step - loss: 0.0878 - accuracy: 0.3686 - val_loss: 0.0875 - val_accuracy: 0.3845\n",
            "Epoch 9/200\n",
            "469/469 [==============================] - 1s 3ms/step - loss: 0.0871 - accuracy: 0.4138 - val_loss: 0.0869 - val_accuracy: 0.4207\n",
            "Epoch 10/200\n",
            "469/469 [==============================] - 2s 4ms/step - loss: 0.0865 - accuracy: 0.4451 - val_loss: 0.0862 - val_accuracy: 0.4475\n",
            "Epoch 11/200\n",
            "469/469 [==============================] - 2s 3ms/step - loss: 0.0858 - accuracy: 0.4649 - val_loss: 0.0856 - val_accuracy: 0.4670\n",
            "Epoch 12/200\n",
            "469/469 [==============================] - 1s 3ms/step - loss: 0.0852 - accuracy: 0.4767 - val_loss: 0.0849 - val_accuracy: 0.4771\n",
            "Epoch 13/200\n",
            "469/469 [==============================] - 1s 3ms/step - loss: 0.0845 - accuracy: 0.4812 - val_loss: 0.0842 - val_accuracy: 0.4795\n",
            "Epoch 14/200\n",
            "469/469 [==============================] - 1s 3ms/step - loss: 0.0838 - accuracy: 0.4796 - val_loss: 0.0835 - val_accuracy: 0.4771\n",
            "Epoch 15/200\n",
            "469/469 [==============================] - 1s 3ms/step - loss: 0.0831 - accuracy: 0.4764 - val_loss: 0.0828 - val_accuracy: 0.4722\n",
            "Epoch 16/200\n",
            "469/469 [==============================] - 1s 3ms/step - loss: 0.0824 - accuracy: 0.4733 - val_loss: 0.0821 - val_accuracy: 0.4716\n",
            "Epoch 17/200\n",
            "469/469 [==============================] - 1s 3ms/step - loss: 0.0817 - accuracy: 0.4716 - val_loss: 0.0814 - val_accuracy: 0.4720\n",
            "Epoch 18/200\n",
            "469/469 [==============================] - 2s 4ms/step - loss: 0.0809 - accuracy: 0.4733 - val_loss: 0.0807 - val_accuracy: 0.4793\n",
            "Epoch 19/200\n",
            "469/469 [==============================] - 2s 4ms/step - loss: 0.0802 - accuracy: 0.4784 - val_loss: 0.0799 - val_accuracy: 0.4873\n",
            "Epoch 20/200\n",
            "469/469 [==============================] - 1s 3ms/step - loss: 0.0795 - accuracy: 0.4889 - val_loss: 0.0792 - val_accuracy: 0.4953\n",
            "Epoch 21/200\n",
            "469/469 [==============================] - 2s 3ms/step - loss: 0.0787 - accuracy: 0.4951 - val_loss: 0.0784 - val_accuracy: 0.5031\n",
            "Epoch 22/200\n",
            "469/469 [==============================] - 1s 3ms/step - loss: 0.0780 - accuracy: 0.5033 - val_loss: 0.0777 - val_accuracy: 0.5084\n",
            "Epoch 23/200\n",
            "469/469 [==============================] - 1s 3ms/step - loss: 0.0772 - accuracy: 0.5062 - val_loss: 0.0769 - val_accuracy: 0.5133\n",
            "Epoch 24/200\n",
            "469/469 [==============================] - 1s 3ms/step - loss: 0.0764 - accuracy: 0.5098 - val_loss: 0.0762 - val_accuracy: 0.5160\n",
            "Epoch 25/200\n",
            "469/469 [==============================] - 1s 3ms/step - loss: 0.0757 - accuracy: 0.5139 - val_loss: 0.0755 - val_accuracy: 0.5197\n",
            "Epoch 26/200\n",
            "469/469 [==============================] - 1s 3ms/step - loss: 0.0749 - accuracy: 0.5170 - val_loss: 0.0747 - val_accuracy: 0.5231\n",
            "Epoch 27/200\n",
            "469/469 [==============================] - 2s 4ms/step - loss: 0.0742 - accuracy: 0.5198 - val_loss: 0.0740 - val_accuracy: 0.5245\n",
            "Epoch 28/200\n",
            "469/469 [==============================] - 1s 3ms/step - loss: 0.0735 - accuracy: 0.5238 - val_loss: 0.0732 - val_accuracy: 0.5260\n",
            "Epoch 29/200\n",
            "469/469 [==============================] - 1s 3ms/step - loss: 0.0727 - accuracy: 0.5269 - val_loss: 0.0725 - val_accuracy: 0.5287\n",
            "Epoch 30/200\n",
            "469/469 [==============================] - 1s 3ms/step - loss: 0.0720 - accuracy: 0.5299 - val_loss: 0.0718 - val_accuracy: 0.5327\n",
            "Epoch 31/200\n",
            "469/469 [==============================] - 1s 3ms/step - loss: 0.0713 - accuracy: 0.5335 - val_loss: 0.0711 - val_accuracy: 0.5340\n",
            "Epoch 32/200\n",
            "469/469 [==============================] - 1s 3ms/step - loss: 0.0706 - accuracy: 0.5384 - val_loss: 0.0704 - val_accuracy: 0.5385\n",
            "Epoch 33/200\n",
            "469/469 [==============================] - 1s 3ms/step - loss: 0.0699 - accuracy: 0.5429 - val_loss: 0.0698 - val_accuracy: 0.5421\n",
            "Epoch 34/200\n",
            "469/469 [==============================] - 1s 3ms/step - loss: 0.0693 - accuracy: 0.5493 - val_loss: 0.0691 - val_accuracy: 0.5443\n",
            "Epoch 35/200\n",
            "469/469 [==============================] - 2s 3ms/step - loss: 0.0686 - accuracy: 0.5548 - val_loss: 0.0685 - val_accuracy: 0.5526\n",
            "Epoch 36/200\n",
            "469/469 [==============================] - 2s 4ms/step - loss: 0.0680 - accuracy: 0.5606 - val_loss: 0.0678 - val_accuracy: 0.5597\n",
            "Epoch 37/200\n",
            "469/469 [==============================] - 1s 3ms/step - loss: 0.0673 - accuracy: 0.5674 - val_loss: 0.0672 - val_accuracy: 0.5685\n",
            "Epoch 38/200\n",
            "469/469 [==============================] - 1s 3ms/step - loss: 0.0667 - accuracy: 0.5749 - val_loss: 0.0666 - val_accuracy: 0.5758\n",
            "Epoch 39/200\n",
            "469/469 [==============================] - 1s 3ms/step - loss: 0.0661 - accuracy: 0.5842 - val_loss: 0.0661 - val_accuracy: 0.5823\n",
            "Epoch 40/200\n",
            "469/469 [==============================] - 1s 3ms/step - loss: 0.0655 - accuracy: 0.5911 - val_loss: 0.0655 - val_accuracy: 0.5897\n",
            "Epoch 41/200\n",
            "469/469 [==============================] - 1s 3ms/step - loss: 0.0650 - accuracy: 0.5995 - val_loss: 0.0649 - val_accuracy: 0.5967\n",
            "Epoch 42/200\n",
            "469/469 [==============================] - 1s 3ms/step - loss: 0.0644 - accuracy: 0.6060 - val_loss: 0.0644 - val_accuracy: 0.6043\n",
            "Epoch 43/200\n",
            "469/469 [==============================] - 1s 3ms/step - loss: 0.0639 - accuracy: 0.6119 - val_loss: 0.0638 - val_accuracy: 0.6106\n",
            "Epoch 44/200\n",
            "469/469 [==============================] - 2s 4ms/step - loss: 0.0633 - accuracy: 0.6190 - val_loss: 0.0633 - val_accuracy: 0.6168\n",
            "Epoch 45/200\n",
            "469/469 [==============================] - 1s 3ms/step - loss: 0.0628 - accuracy: 0.6244 - val_loss: 0.0628 - val_accuracy: 0.6243\n",
            "Epoch 46/200\n",
            "469/469 [==============================] - 1s 3ms/step - loss: 0.0623 - accuracy: 0.6307 - val_loss: 0.0623 - val_accuracy: 0.6295\n",
            "Epoch 47/200\n",
            "469/469 [==============================] - 1s 3ms/step - loss: 0.0618 - accuracy: 0.6355 - val_loss: 0.0618 - val_accuracy: 0.6353\n",
            "Epoch 48/200\n",
            "469/469 [==============================] - 2s 3ms/step - loss: 0.0613 - accuracy: 0.6407 - val_loss: 0.0613 - val_accuracy: 0.6389\n",
            "Epoch 49/200\n",
            "469/469 [==============================] - 2s 5ms/step - loss: 0.0608 - accuracy: 0.6452 - val_loss: 0.0608 - val_accuracy: 0.6438\n",
            "Epoch 50/200\n",
            "469/469 [==============================] - 3s 6ms/step - loss: 0.0603 - accuracy: 0.6496 - val_loss: 0.0603 - val_accuracy: 0.6488\n",
            "Epoch 51/200\n",
            "469/469 [==============================] - 3s 6ms/step - loss: 0.0598 - accuracy: 0.6544 - val_loss: 0.0599 - val_accuracy: 0.6530\n",
            "Epoch 52/200\n",
            "469/469 [==============================] - 1s 3ms/step - loss: 0.0593 - accuracy: 0.6586 - val_loss: 0.0594 - val_accuracy: 0.6556\n",
            "Epoch 53/200\n",
            "469/469 [==============================] - 1s 3ms/step - loss: 0.0589 - accuracy: 0.6617 - val_loss: 0.0589 - val_accuracy: 0.6598\n",
            "Epoch 54/200\n",
            "469/469 [==============================] - 2s 5ms/step - loss: 0.0584 - accuracy: 0.6654 - val_loss: 0.0585 - val_accuracy: 0.6632\n",
            "Epoch 55/200\n",
            "469/469 [==============================] - 2s 5ms/step - loss: 0.0580 - accuracy: 0.6689 - val_loss: 0.0581 - val_accuracy: 0.6648\n",
            "Epoch 56/200\n",
            "469/469 [==============================] - 2s 4ms/step - loss: 0.0575 - accuracy: 0.6712 - val_loss: 0.0576 - val_accuracy: 0.6683\n",
            "Epoch 57/200\n",
            "469/469 [==============================] - 2s 4ms/step - loss: 0.0571 - accuracy: 0.6752 - val_loss: 0.0572 - val_accuracy: 0.6705\n",
            "Epoch 58/200\n",
            "469/469 [==============================] - 1s 3ms/step - loss: 0.0567 - accuracy: 0.6772 - val_loss: 0.0568 - val_accuracy: 0.6739\n",
            "Epoch 59/200\n",
            "469/469 [==============================] - 1s 3ms/step - loss: 0.0563 - accuracy: 0.6795 - val_loss: 0.0564 - val_accuracy: 0.6750\n",
            "Epoch 60/200\n",
            "469/469 [==============================] - 1s 3ms/step - loss: 0.0559 - accuracy: 0.6822 - val_loss: 0.0560 - val_accuracy: 0.6764\n",
            "Epoch 61/200\n",
            "469/469 [==============================] - 1s 3ms/step - loss: 0.0555 - accuracy: 0.6841 - val_loss: 0.0556 - val_accuracy: 0.6790\n",
            "Epoch 62/200\n",
            "469/469 [==============================] - 1s 3ms/step - loss: 0.0551 - accuracy: 0.6861 - val_loss: 0.0552 - val_accuracy: 0.6799\n",
            "Epoch 63/200\n",
            "469/469 [==============================] - 1s 3ms/step - loss: 0.0547 - accuracy: 0.6881 - val_loss: 0.0549 - val_accuracy: 0.6817\n",
            "Epoch 64/200\n",
            "469/469 [==============================] - 1s 3ms/step - loss: 0.0543 - accuracy: 0.6903 - val_loss: 0.0545 - val_accuracy: 0.6830\n",
            "Epoch 65/200\n",
            "469/469 [==============================] - 3s 6ms/step - loss: 0.0539 - accuracy: 0.6916 - val_loss: 0.0541 - val_accuracy: 0.6849\n",
            "Epoch 66/200\n",
            "469/469 [==============================] - 2s 4ms/step - loss: 0.0536 - accuracy: 0.6934 - val_loss: 0.0538 - val_accuracy: 0.6870\n",
            "Epoch 67/200\n",
            "469/469 [==============================] - 1s 3ms/step - loss: 0.0532 - accuracy: 0.6948 - val_loss: 0.0534 - val_accuracy: 0.6893\n",
            "Epoch 68/200\n",
            "469/469 [==============================] - 1s 3ms/step - loss: 0.0529 - accuracy: 0.6968 - val_loss: 0.0531 - val_accuracy: 0.6898\n",
            "Epoch 69/200\n",
            "469/469 [==============================] - 1s 3ms/step - loss: 0.0525 - accuracy: 0.6981 - val_loss: 0.0527 - val_accuracy: 0.6915\n",
            "Epoch 70/200\n",
            "469/469 [==============================] - 1s 3ms/step - loss: 0.0522 - accuracy: 0.7000 - val_loss: 0.0524 - val_accuracy: 0.6923\n",
            "Epoch 71/200\n",
            "469/469 [==============================] - 1s 3ms/step - loss: 0.0519 - accuracy: 0.7013 - val_loss: 0.0521 - val_accuracy: 0.6936\n",
            "Epoch 72/200\n",
            "469/469 [==============================] - 1s 3ms/step - loss: 0.0515 - accuracy: 0.7021 - val_loss: 0.0518 - val_accuracy: 0.6952\n",
            "Epoch 73/200\n",
            "469/469 [==============================] - 2s 3ms/step - loss: 0.0512 - accuracy: 0.7035 - val_loss: 0.0515 - val_accuracy: 0.6970\n",
            "Epoch 74/200\n",
            "469/469 [==============================] - 2s 5ms/step - loss: 0.0509 - accuracy: 0.7047 - val_loss: 0.0512 - val_accuracy: 0.6982\n",
            "Epoch 75/200\n",
            "469/469 [==============================] - 1s 3ms/step - loss: 0.0506 - accuracy: 0.7059 - val_loss: 0.0509 - val_accuracy: 0.6998\n",
            "Epoch 76/200\n",
            "469/469 [==============================] - 1s 3ms/step - loss: 0.0503 - accuracy: 0.7071 - val_loss: 0.0506 - val_accuracy: 0.7009\n",
            "Epoch 77/200\n",
            "469/469 [==============================] - 1s 3ms/step - loss: 0.0500 - accuracy: 0.7081 - val_loss: 0.0503 - val_accuracy: 0.7025\n",
            "Epoch 78/200\n",
            "469/469 [==============================] - 2s 4ms/step - loss: 0.0497 - accuracy: 0.7089 - val_loss: 0.0500 - val_accuracy: 0.7038\n",
            "Epoch 79/200\n",
            "469/469 [==============================] - 2s 4ms/step - loss: 0.0494 - accuracy: 0.7101 - val_loss: 0.0497 - val_accuracy: 0.7050\n",
            "Epoch 80/200\n",
            "469/469 [==============================] - 3s 6ms/step - loss: 0.0492 - accuracy: 0.7108 - val_loss: 0.0494 - val_accuracy: 0.7055\n",
            "Epoch 81/200\n",
            "469/469 [==============================] - 2s 5ms/step - loss: 0.0489 - accuracy: 0.7118 - val_loss: 0.0492 - val_accuracy: 0.7064\n",
            "Epoch 82/200\n",
            "469/469 [==============================] - 2s 4ms/step - loss: 0.0486 - accuracy: 0.7127 - val_loss: 0.0489 - val_accuracy: 0.7071\n",
            "Epoch 83/200\n",
            "469/469 [==============================] - 2s 4ms/step - loss: 0.0484 - accuracy: 0.7134 - val_loss: 0.0487 - val_accuracy: 0.7082\n",
            "Epoch 84/200\n",
            "469/469 [==============================] - 2s 4ms/step - loss: 0.0481 - accuracy: 0.7144 - val_loss: 0.0484 - val_accuracy: 0.7093\n",
            "Epoch 85/200\n",
            "469/469 [==============================] - 2s 4ms/step - loss: 0.0479 - accuracy: 0.7156 - val_loss: 0.0482 - val_accuracy: 0.7096\n",
            "Epoch 86/200\n",
            "469/469 [==============================] - 2s 3ms/step - loss: 0.0476 - accuracy: 0.7163 - val_loss: 0.0479 - val_accuracy: 0.7103\n",
            "Epoch 87/200\n",
            "469/469 [==============================] - 2s 4ms/step - loss: 0.0474 - accuracy: 0.7171 - val_loss: 0.0477 - val_accuracy: 0.7115\n",
            "Epoch 88/200\n",
            "469/469 [==============================] - 1s 3ms/step - loss: 0.0471 - accuracy: 0.7181 - val_loss: 0.0475 - val_accuracy: 0.7119\n",
            "Epoch 89/200\n",
            "469/469 [==============================] - 1s 3ms/step - loss: 0.0469 - accuracy: 0.7187 - val_loss: 0.0472 - val_accuracy: 0.7125\n",
            "Epoch 90/200\n",
            "469/469 [==============================] - 1s 3ms/step - loss: 0.0467 - accuracy: 0.7196 - val_loss: 0.0470 - val_accuracy: 0.7126\n",
            "Epoch 91/200\n",
            "469/469 [==============================] - 1s 3ms/step - loss: 0.0464 - accuracy: 0.7204 - val_loss: 0.0468 - val_accuracy: 0.7129\n",
            "Epoch 92/200\n",
            "469/469 [==============================] - 1s 3ms/step - loss: 0.0462 - accuracy: 0.7208 - val_loss: 0.0466 - val_accuracy: 0.7139\n",
            "Epoch 93/200\n",
            "469/469 [==============================] - 1s 3ms/step - loss: 0.0460 - accuracy: 0.7217 - val_loss: 0.0464 - val_accuracy: 0.7150\n",
            "Epoch 94/200\n",
            "469/469 [==============================] - 1s 3ms/step - loss: 0.0458 - accuracy: 0.7226 - val_loss: 0.0462 - val_accuracy: 0.7159\n",
            "Epoch 95/200\n",
            "469/469 [==============================] - 2s 4ms/step - loss: 0.0456 - accuracy: 0.7231 - val_loss: 0.0460 - val_accuracy: 0.7165\n",
            "Epoch 96/200\n",
            "469/469 [==============================] - 2s 3ms/step - loss: 0.0454 - accuracy: 0.7238 - val_loss: 0.0458 - val_accuracy: 0.7176\n",
            "Epoch 97/200\n",
            "469/469 [==============================] - 1s 3ms/step - loss: 0.0452 - accuracy: 0.7242 - val_loss: 0.0456 - val_accuracy: 0.7177\n",
            "Epoch 98/200\n",
            "469/469 [==============================] - 1s 3ms/step - loss: 0.0450 - accuracy: 0.7247 - val_loss: 0.0454 - val_accuracy: 0.7176\n",
            "Epoch 99/200\n",
            "469/469 [==============================] - 1s 3ms/step - loss: 0.0448 - accuracy: 0.7252 - val_loss: 0.0452 - val_accuracy: 0.7183\n",
            "Epoch 100/200\n",
            "469/469 [==============================] - 1s 3ms/step - loss: 0.0446 - accuracy: 0.7260 - val_loss: 0.0450 - val_accuracy: 0.7192\n",
            "Epoch 101/200\n",
            "469/469 [==============================] - 1s 3ms/step - loss: 0.0444 - accuracy: 0.7264 - val_loss: 0.0448 - val_accuracy: 0.7197\n",
            "Epoch 102/200\n",
            "469/469 [==============================] - 1s 3ms/step - loss: 0.0442 - accuracy: 0.7269 - val_loss: 0.0446 - val_accuracy: 0.7207\n",
            "Epoch 103/200\n",
            "469/469 [==============================] - 2s 3ms/step - loss: 0.0440 - accuracy: 0.7276 - val_loss: 0.0444 - val_accuracy: 0.7221\n",
            "Epoch 104/200\n",
            "469/469 [==============================] - 2s 4ms/step - loss: 0.0439 - accuracy: 0.7280 - val_loss: 0.0443 - val_accuracy: 0.7226\n",
            "Epoch 105/200\n",
            "469/469 [==============================] - 1s 3ms/step - loss: 0.0437 - accuracy: 0.7283 - val_loss: 0.0441 - val_accuracy: 0.7226\n",
            "Epoch 106/200\n",
            "469/469 [==============================] - 1s 3ms/step - loss: 0.0435 - accuracy: 0.7288 - val_loss: 0.0439 - val_accuracy: 0.7238\n",
            "Epoch 107/200\n",
            "469/469 [==============================] - 1s 3ms/step - loss: 0.0433 - accuracy: 0.7294 - val_loss: 0.0438 - val_accuracy: 0.7242\n",
            "Epoch 108/200\n",
            "469/469 [==============================] - 1s 3ms/step - loss: 0.0432 - accuracy: 0.7300 - val_loss: 0.0436 - val_accuracy: 0.7250\n",
            "Epoch 109/200\n",
            "469/469 [==============================] - 1s 3ms/step - loss: 0.0430 - accuracy: 0.7305 - val_loss: 0.0434 - val_accuracy: 0.7251\n",
            "Epoch 110/200\n",
            "469/469 [==============================] - 1s 3ms/step - loss: 0.0428 - accuracy: 0.7311 - val_loss: 0.0433 - val_accuracy: 0.7265\n",
            "Epoch 111/200\n",
            "469/469 [==============================] - 1s 3ms/step - loss: 0.0427 - accuracy: 0.7316 - val_loss: 0.0431 - val_accuracy: 0.7267\n",
            "Epoch 112/200\n",
            "469/469 [==============================] - 2s 4ms/step - loss: 0.0425 - accuracy: 0.7319 - val_loss: 0.0430 - val_accuracy: 0.7274\n",
            "Epoch 113/200\n",
            "469/469 [==============================] - 2s 3ms/step - loss: 0.0424 - accuracy: 0.7324 - val_loss: 0.0428 - val_accuracy: 0.7283\n",
            "Epoch 114/200\n",
            "469/469 [==============================] - 1s 3ms/step - loss: 0.0422 - accuracy: 0.7336 - val_loss: 0.0427 - val_accuracy: 0.7285\n",
            "Epoch 115/200\n",
            "469/469 [==============================] - 1s 3ms/step - loss: 0.0421 - accuracy: 0.7338 - val_loss: 0.0425 - val_accuracy: 0.7289\n",
            "Epoch 116/200\n",
            "469/469 [==============================] - 1s 3ms/step - loss: 0.0419 - accuracy: 0.7340 - val_loss: 0.0424 - val_accuracy: 0.7293\n",
            "Epoch 117/200\n",
            "469/469 [==============================] - 1s 3ms/step - loss: 0.0418 - accuracy: 0.7350 - val_loss: 0.0423 - val_accuracy: 0.7298\n",
            "Epoch 118/200\n",
            "469/469 [==============================] - 1s 3ms/step - loss: 0.0416 - accuracy: 0.7352 - val_loss: 0.0421 - val_accuracy: 0.7299\n",
            "Epoch 119/200\n",
            "469/469 [==============================] - 1s 3ms/step - loss: 0.0415 - accuracy: 0.7357 - val_loss: 0.0420 - val_accuracy: 0.7305\n",
            "Epoch 120/200\n",
            "469/469 [==============================] - 2s 3ms/step - loss: 0.0414 - accuracy: 0.7365 - val_loss: 0.0419 - val_accuracy: 0.7306\n",
            "Epoch 121/200\n",
            "469/469 [==============================] - 2s 4ms/step - loss: 0.0412 - accuracy: 0.7370 - val_loss: 0.0417 - val_accuracy: 0.7312\n",
            "Epoch 122/200\n",
            "469/469 [==============================] - 1s 3ms/step - loss: 0.0411 - accuracy: 0.7375 - val_loss: 0.0416 - val_accuracy: 0.7319\n",
            "Epoch 123/200\n",
            "469/469 [==============================] - 1s 3ms/step - loss: 0.0410 - accuracy: 0.7380 - val_loss: 0.0415 - val_accuracy: 0.7328\n",
            "Epoch 124/200\n",
            "469/469 [==============================] - 1s 3ms/step - loss: 0.0408 - accuracy: 0.7390 - val_loss: 0.0413 - val_accuracy: 0.7331\n",
            "Epoch 125/200\n",
            "469/469 [==============================] - 1s 3ms/step - loss: 0.0407 - accuracy: 0.7392 - val_loss: 0.0412 - val_accuracy: 0.7336\n",
            "Epoch 126/200\n",
            "469/469 [==============================] - 1s 3ms/step - loss: 0.0406 - accuracy: 0.7399 - val_loss: 0.0411 - val_accuracy: 0.7342\n",
            "Epoch 127/200\n",
            "469/469 [==============================] - 1s 3ms/step - loss: 0.0405 - accuracy: 0.7411 - val_loss: 0.0410 - val_accuracy: 0.7346\n",
            "Epoch 128/200\n",
            "469/469 [==============================] - 1s 3ms/step - loss: 0.0403 - accuracy: 0.7412 - val_loss: 0.0409 - val_accuracy: 0.7352\n",
            "Epoch 129/200\n",
            "469/469 [==============================] - 2s 4ms/step - loss: 0.0402 - accuracy: 0.7420 - val_loss: 0.0407 - val_accuracy: 0.7358\n",
            "Epoch 130/200\n",
            "469/469 [==============================] - 2s 3ms/step - loss: 0.0401 - accuracy: 0.7424 - val_loss: 0.0406 - val_accuracy: 0.7363\n",
            "Epoch 131/200\n",
            "469/469 [==============================] - 1s 3ms/step - loss: 0.0400 - accuracy: 0.7429 - val_loss: 0.0405 - val_accuracy: 0.7367\n",
            "Epoch 132/200\n",
            "469/469 [==============================] - 1s 3ms/step - loss: 0.0399 - accuracy: 0.7434 - val_loss: 0.0404 - val_accuracy: 0.7371\n",
            "Epoch 133/200\n",
            "469/469 [==============================] - 1s 3ms/step - loss: 0.0397 - accuracy: 0.7441 - val_loss: 0.0403 - val_accuracy: 0.7373\n",
            "Epoch 134/200\n",
            "469/469 [==============================] - 2s 3ms/step - loss: 0.0396 - accuracy: 0.7448 - val_loss: 0.0402 - val_accuracy: 0.7383\n",
            "Epoch 135/200\n",
            "469/469 [==============================] - 1s 3ms/step - loss: 0.0395 - accuracy: 0.7453 - val_loss: 0.0401 - val_accuracy: 0.7384\n",
            "Epoch 136/200\n",
            "469/469 [==============================] - 1s 3ms/step - loss: 0.0394 - accuracy: 0.7461 - val_loss: 0.0400 - val_accuracy: 0.7391\n",
            "Epoch 137/200\n",
            "469/469 [==============================] - 2s 4ms/step - loss: 0.0393 - accuracy: 0.7463 - val_loss: 0.0399 - val_accuracy: 0.7399\n",
            "Epoch 138/200\n",
            "469/469 [==============================] - 2s 4ms/step - loss: 0.0392 - accuracy: 0.7469 - val_loss: 0.0398 - val_accuracy: 0.7407\n",
            "Epoch 139/200\n",
            "469/469 [==============================] - 1s 3ms/step - loss: 0.0391 - accuracy: 0.7474 - val_loss: 0.0397 - val_accuracy: 0.7408\n",
            "Epoch 140/200\n",
            "469/469 [==============================] - 1s 3ms/step - loss: 0.0390 - accuracy: 0.7479 - val_loss: 0.0396 - val_accuracy: 0.7415\n",
            "Epoch 141/200\n",
            "469/469 [==============================] - 1s 3ms/step - loss: 0.0389 - accuracy: 0.7483 - val_loss: 0.0395 - val_accuracy: 0.7422\n",
            "Epoch 142/200\n",
            "469/469 [==============================] - 1s 3ms/step - loss: 0.0388 - accuracy: 0.7489 - val_loss: 0.0394 - val_accuracy: 0.7427\n",
            "Epoch 143/200\n",
            "469/469 [==============================] - 1s 3ms/step - loss: 0.0387 - accuracy: 0.7493 - val_loss: 0.0393 - val_accuracy: 0.7433\n",
            "Epoch 144/200\n",
            "469/469 [==============================] - 1s 3ms/step - loss: 0.0386 - accuracy: 0.7501 - val_loss: 0.0392 - val_accuracy: 0.7442\n",
            "Epoch 145/200\n",
            "469/469 [==============================] - 1s 3ms/step - loss: 0.0385 - accuracy: 0.7507 - val_loss: 0.0391 - val_accuracy: 0.7448\n",
            "Epoch 146/200\n",
            "469/469 [==============================] - 2s 4ms/step - loss: 0.0384 - accuracy: 0.7514 - val_loss: 0.0390 - val_accuracy: 0.7450\n",
            "Epoch 147/200\n",
            "469/469 [==============================] - 1s 3ms/step - loss: 0.0383 - accuracy: 0.7516 - val_loss: 0.0389 - val_accuracy: 0.7454\n",
            "Epoch 148/200\n",
            "469/469 [==============================] - 1s 3ms/step - loss: 0.0382 - accuracy: 0.7524 - val_loss: 0.0388 - val_accuracy: 0.7459\n",
            "Epoch 149/200\n",
            "469/469 [==============================] - 1s 3ms/step - loss: 0.0381 - accuracy: 0.7529 - val_loss: 0.0387 - val_accuracy: 0.7465\n",
            "Epoch 150/200\n",
            "469/469 [==============================] - 1s 3ms/step - loss: 0.0380 - accuracy: 0.7534 - val_loss: 0.0386 - val_accuracy: 0.7464\n",
            "Epoch 151/200\n",
            "469/469 [==============================] - 1s 3ms/step - loss: 0.0379 - accuracy: 0.7540 - val_loss: 0.0385 - val_accuracy: 0.7463\n",
            "Epoch 152/200\n",
            "469/469 [==============================] - 1s 3ms/step - loss: 0.0378 - accuracy: 0.7542 - val_loss: 0.0385 - val_accuracy: 0.7466\n",
            "Epoch 153/200\n",
            "469/469 [==============================] - 1s 3ms/step - loss: 0.0378 - accuracy: 0.7546 - val_loss: 0.0384 - val_accuracy: 0.7469\n",
            "Epoch 154/200\n",
            "469/469 [==============================] - 2s 4ms/step - loss: 0.0377 - accuracy: 0.7552 - val_loss: 0.0383 - val_accuracy: 0.7478\n",
            "Epoch 155/200\n",
            "469/469 [==============================] - 2s 4ms/step - loss: 0.0376 - accuracy: 0.7556 - val_loss: 0.0382 - val_accuracy: 0.7482\n",
            "Epoch 156/200\n",
            "469/469 [==============================] - 1s 3ms/step - loss: 0.0375 - accuracy: 0.7560 - val_loss: 0.0381 - val_accuracy: 0.7488\n",
            "Epoch 157/200\n",
            "469/469 [==============================] - 1s 3ms/step - loss: 0.0374 - accuracy: 0.7566 - val_loss: 0.0380 - val_accuracy: 0.7496\n",
            "Epoch 158/200\n",
            "469/469 [==============================] - 1s 3ms/step - loss: 0.0373 - accuracy: 0.7570 - val_loss: 0.0380 - val_accuracy: 0.7501\n",
            "Epoch 159/200\n",
            "469/469 [==============================] - 1s 3ms/step - loss: 0.0372 - accuracy: 0.7574 - val_loss: 0.0379 - val_accuracy: 0.7507\n",
            "Epoch 160/200\n",
            "469/469 [==============================] - 1s 3ms/step - loss: 0.0372 - accuracy: 0.7581 - val_loss: 0.0378 - val_accuracy: 0.7512\n",
            "Epoch 161/200\n",
            "469/469 [==============================] - 1s 3ms/step - loss: 0.0371 - accuracy: 0.7586 - val_loss: 0.0377 - val_accuracy: 0.7512\n",
            "Epoch 162/200\n",
            "469/469 [==============================] - 1s 3ms/step - loss: 0.0370 - accuracy: 0.7589 - val_loss: 0.0376 - val_accuracy: 0.7519\n",
            "Epoch 163/200\n",
            "469/469 [==============================] - 2s 4ms/step - loss: 0.0369 - accuracy: 0.7594 - val_loss: 0.0376 - val_accuracy: 0.7522\n",
            "Epoch 164/200\n",
            "469/469 [==============================] - 2s 3ms/step - loss: 0.0368 - accuracy: 0.7600 - val_loss: 0.0375 - val_accuracy: 0.7529\n",
            "Epoch 165/200\n",
            "469/469 [==============================] - 2s 3ms/step - loss: 0.0368 - accuracy: 0.7601 - val_loss: 0.0374 - val_accuracy: 0.7532\n",
            "Epoch 166/200\n",
            "469/469 [==============================] - 1s 3ms/step - loss: 0.0367 - accuracy: 0.7607 - val_loss: 0.0373 - val_accuracy: 0.7531\n",
            "Epoch 167/200\n",
            "469/469 [==============================] - 1s 3ms/step - loss: 0.0366 - accuracy: 0.7612 - val_loss: 0.0373 - val_accuracy: 0.7536\n",
            "Epoch 168/200\n",
            "469/469 [==============================] - 1s 3ms/step - loss: 0.0365 - accuracy: 0.7615 - val_loss: 0.0372 - val_accuracy: 0.7534\n",
            "Epoch 169/200\n",
            "469/469 [==============================] - 1s 3ms/step - loss: 0.0365 - accuracy: 0.7620 - val_loss: 0.0371 - val_accuracy: 0.7535\n",
            "Epoch 170/200\n",
            "469/469 [==============================] - 1s 3ms/step - loss: 0.0364 - accuracy: 0.7622 - val_loss: 0.0371 - val_accuracy: 0.7542\n",
            "Epoch 171/200\n",
            "469/469 [==============================] - 2s 3ms/step - loss: 0.0363 - accuracy: 0.7625 - val_loss: 0.0370 - val_accuracy: 0.7545\n",
            "Epoch 172/200\n",
            "469/469 [==============================] - 2s 4ms/step - loss: 0.0362 - accuracy: 0.7627 - val_loss: 0.0369 - val_accuracy: 0.7548\n",
            "Epoch 173/200\n",
            "469/469 [==============================] - 1s 3ms/step - loss: 0.0362 - accuracy: 0.7634 - val_loss: 0.0369 - val_accuracy: 0.7550\n",
            "Epoch 174/200\n",
            "469/469 [==============================] - 1s 3ms/step - loss: 0.0361 - accuracy: 0.7637 - val_loss: 0.0368 - val_accuracy: 0.7551\n",
            "Epoch 175/200\n",
            "469/469 [==============================] - 1s 3ms/step - loss: 0.0360 - accuracy: 0.7641 - val_loss: 0.0367 - val_accuracy: 0.7554\n",
            "Epoch 176/200\n",
            "469/469 [==============================] - 1s 3ms/step - loss: 0.0360 - accuracy: 0.7649 - val_loss: 0.0367 - val_accuracy: 0.7555\n",
            "Epoch 177/200\n",
            "469/469 [==============================] - 1s 3ms/step - loss: 0.0359 - accuracy: 0.7651 - val_loss: 0.0366 - val_accuracy: 0.7564\n",
            "Epoch 178/200\n",
            "469/469 [==============================] - 1s 3ms/step - loss: 0.0358 - accuracy: 0.7656 - val_loss: 0.0365 - val_accuracy: 0.7563\n",
            "Epoch 179/200\n",
            "469/469 [==============================] - 1s 3ms/step - loss: 0.0358 - accuracy: 0.7662 - val_loss: 0.0365 - val_accuracy: 0.7563\n",
            "Epoch 180/200\n",
            "469/469 [==============================] - 2s 4ms/step - loss: 0.0357 - accuracy: 0.7667 - val_loss: 0.0364 - val_accuracy: 0.7566\n",
            "Epoch 181/200\n",
            "469/469 [==============================] - 1s 3ms/step - loss: 0.0356 - accuracy: 0.7670 - val_loss: 0.0363 - val_accuracy: 0.7572\n",
            "Epoch 182/200\n",
            "469/469 [==============================] - 1s 3ms/step - loss: 0.0356 - accuracy: 0.7672 - val_loss: 0.0363 - val_accuracy: 0.7583\n",
            "Epoch 183/200\n",
            "469/469 [==============================] - 1s 3ms/step - loss: 0.0355 - accuracy: 0.7676 - val_loss: 0.0362 - val_accuracy: 0.7588\n",
            "Epoch 184/200\n",
            "469/469 [==============================] - 1s 3ms/step - loss: 0.0354 - accuracy: 0.7679 - val_loss: 0.0362 - val_accuracy: 0.7591\n",
            "Epoch 185/200\n",
            "469/469 [==============================] - 1s 3ms/step - loss: 0.0354 - accuracy: 0.7686 - val_loss: 0.0361 - val_accuracy: 0.7596\n",
            "Epoch 186/200\n",
            "469/469 [==============================] - 1s 3ms/step - loss: 0.0353 - accuracy: 0.7688 - val_loss: 0.0360 - val_accuracy: 0.7599\n",
            "Epoch 187/200\n",
            "469/469 [==============================] - 1s 3ms/step - loss: 0.0353 - accuracy: 0.7690 - val_loss: 0.0360 - val_accuracy: 0.7601\n",
            "Epoch 188/200\n",
            "469/469 [==============================] - 2s 4ms/step - loss: 0.0352 - accuracy: 0.7696 - val_loss: 0.0359 - val_accuracy: 0.7603\n",
            "Epoch 189/200\n",
            "469/469 [==============================] - 2s 4ms/step - loss: 0.0351 - accuracy: 0.7699 - val_loss: 0.0359 - val_accuracy: 0.7602\n",
            "Epoch 190/200\n",
            "469/469 [==============================] - 1s 3ms/step - loss: 0.0351 - accuracy: 0.7700 - val_loss: 0.0358 - val_accuracy: 0.7605\n",
            "Epoch 191/200\n",
            "469/469 [==============================] - 1s 3ms/step - loss: 0.0350 - accuracy: 0.7704 - val_loss: 0.0357 - val_accuracy: 0.7608\n",
            "Epoch 192/200\n",
            "469/469 [==============================] - 1s 3ms/step - loss: 0.0349 - accuracy: 0.7709 - val_loss: 0.0357 - val_accuracy: 0.7609\n",
            "Epoch 193/200\n",
            "469/469 [==============================] - 1s 3ms/step - loss: 0.0349 - accuracy: 0.7713 - val_loss: 0.0356 - val_accuracy: 0.7615\n",
            "Epoch 194/200\n",
            "469/469 [==============================] - 1s 3ms/step - loss: 0.0348 - accuracy: 0.7715 - val_loss: 0.0356 - val_accuracy: 0.7621\n",
            "Epoch 195/200\n",
            "469/469 [==============================] - 1s 3ms/step - loss: 0.0348 - accuracy: 0.7717 - val_loss: 0.0355 - val_accuracy: 0.7622\n",
            "Epoch 196/200\n",
            "469/469 [==============================] - 2s 3ms/step - loss: 0.0347 - accuracy: 0.7721 - val_loss: 0.0355 - val_accuracy: 0.7624\n",
            "Epoch 197/200\n",
            "469/469 [==============================] - 2s 4ms/step - loss: 0.0347 - accuracy: 0.7725 - val_loss: 0.0354 - val_accuracy: 0.7625\n",
            "Epoch 198/200\n",
            "469/469 [==============================] - 2s 3ms/step - loss: 0.0346 - accuracy: 0.7728 - val_loss: 0.0354 - val_accuracy: 0.7630\n",
            "Epoch 199/200\n",
            "469/469 [==============================] - 1s 3ms/step - loss: 0.0345 - accuracy: 0.7731 - val_loss: 0.0353 - val_accuracy: 0.7634\n",
            "Epoch 200/200\n",
            "469/469 [==============================] - 1s 3ms/step - loss: 0.0345 - accuracy: 0.7737 - val_loss: 0.0352 - val_accuracy: 0.7631\n"
          ]
        }
      ]
    },
    {
      "cell_type": "markdown",
      "source": [
        "#### Plot learning curves *(10 pts)*"
      ],
      "metadata": {
        "id": "4WJQiEh4RXEH"
      }
    },
    {
      "cell_type": "code",
      "source": [
        "# Your Plot learning curves code here and in additional code cells as needed\n",
        "# list all data in history\n",
        "print(history.history.keys())\n",
        "\n",
        "# summarize history for accuracy\n",
        "plt.plot(history.history['accuracy'])\n",
        "plt.plot(history.history['val_accuracy'])\n",
        "plt.title('model accuracy')\n",
        "plt.ylabel('accuracy')\n",
        "plt.xlabel('epoch')\n",
        "plt.legend(['train', 'validation'], loc='upper left')\n",
        "plt.show()\n",
        "\n",
        "# summarize history for loss\n",
        "plt.plot(history.history['loss'])\n",
        "plt.plot(history.history['val_loss'])\n",
        "plt.title('model loss')\n",
        "plt.ylabel('loss')\n",
        "plt.xlabel('epoch')\n",
        "plt.legend(['train', 'validation'], loc='upper left')\n",
        "plt.show()"
      ],
      "metadata": {
        "id": "M-TWkVPHRXEl",
        "colab": {
          "base_uri": "https://localhost:8080/",
          "height": 945
        },
        "outputId": "66e2a9a8-8ad1-4893-90f2-545da7446d8f"
      },
      "execution_count": 81,
      "outputs": [
        {
          "output_type": "stream",
          "name": "stdout",
          "text": [
            "dict_keys(['loss', 'accuracy', 'val_loss', 'val_accuracy'])\n"
          ]
        },
        {
          "output_type": "display_data",
          "data": {
            "text/plain": [
              "<Figure size 640x480 with 1 Axes>"
            ],
            "image/png": "[encoded data removed]"
          },
          "metadata": {}
        },
        {
          "output_type": "display_data",
          "data": {
            "text/plain": [
              "<Figure size 640x480 with 1 Axes>"
            ],
            "image/png": "[encoded data removed]"
          },
          "metadata": {}
        }
      ]
    },
    {
      "cell_type": "markdown",
      "source": [
        "#### Display the confusion matrix for your classifier *(10 pts)*"
      ],
      "metadata": {
        "id": "CGjUQY-oRXlX"
      }
    },
    {
      "cell_type": "code",
      "source": [
        "# Your Confusion Matrix code here and in additional cells as needed\n",
        "y_validation_predictions = model.predict(X_validation)\n",
        "\n",
        "\n",
        "y_pred=np.argmax(y_validation_predictions, axis=1)\n",
        "y_test=np.argmax(y_validation, axis=1)\n",
        "cm = confusion_matrix(y_test, y_pred)\n"
      ],
      "metadata": {
        "colab": {
          "base_uri": "https://localhost:8080/",
          "height": 0
        },
        "id": "cdPUun_a64n5",
        "outputId": "d16a71a8-19ef-4636-d2d1-8828b9b99350"
      },
      "execution_count": 83,
      "outputs": [
        {
          "output_type": "stream",
          "name": "stdout",
          "text": [
            "313/313 [==============================] - 0s 1ms/step\n"
          ]
        }
      ]
    },
    {
      "cell_type": "code",
      "source": [
        "# Creating a dataframe for a array-formatted Confusion matrix,so it will be easy for plotting.\n",
        "cm_df = pd.DataFrame(cm,\n",
        "                     index =classes_names, \n",
        "                     columns =classes_names)\n",
        "\n",
        "\n",
        "#Plotting the confusion matrix\n",
        "plt.figure(figsize=(10,8))\n",
        "sns.heatmap(cm_df, annot=True, fmt='d',  cmap=\"Greens\",  linecolor=\"gray\" )\n",
        "plt.title('Confusion Matrix')\n",
        "plt.ylabel('Actal Values')\n",
        "plt.xlabel('Predicted Values')\n",
        "plt.show()"
      ],
      "metadata": {
        "id": "8aP5hROyhtFr",
        "colab": {
          "base_uri": "https://localhost:8080/",
          "height": 718
        },
        "outputId": "a923184f-72f2-47a5-dd92-8c02b985d506"
      },
      "execution_count": 84,
      "outputs": [
        {
          "output_type": "display_data",
          "data": {
            "text/plain": [
              "<Figure size 1000x800 with 2 Axes>"
            ],
            "image/png": "[encoded data removed]"
          },
          "metadata": {}
        }
      ]
    },
    {
      "cell_type": "markdown",
      "source": [
        "#### Evaluate the model, identify accuracy, etc. *(10 pts)*"
      ],
      "metadata": {
        "id": "4__FfaTFRlNh"
      }
    },
    {
      "cell_type": "code",
      "source": [
        "# Your Evaluate the model code here and in additional code cells as needed\n",
        "# Evaluate the model on the test set\n",
        "test_loss, test_accuracy = model.evaluate(X_validation, y_validation)\n",
        "\n",
        "# Calculate other evaluation metrics\n",
        "classification = classification_report(y_test, y_pred)\n",
        "\n",
        "# Calculate precision, recall, and F1 score\n",
        "precision = precision_score(y_test, y_pred, average='weighted')\n",
        "recall = recall_score(y_test, y_pred, average='weighted')\n",
        "f1 = f1_score(y_test, y_pred, average='weighted')\n",
        "\n",
        "# Display the metrics\n",
        "print(f\"Test Loss: {test_loss:.4f}\")\n",
        "print(f\"Test Accuracy: {test_accuracy:.4f}\")\n",
        "print(\"Precision:\", precision)\n",
        "print(\"Recall:\", recall)\n",
        "print(\"F1 Score:\", f1)\n",
        "\n",
        "print(f\"\\nClassification Report:\\n{classification}\")\n",
        "\n"
      ],
      "metadata": {
        "id": "PZCY7q7ORlN4",
        "colab": {
          "base_uri": "https://localhost:8080/",
          "height": 0
        },
        "outputId": "07566e10-a383-46a8-f257-08fe96ffe25b"
      },
      "execution_count": 89,
      "outputs": [
        {
          "output_type": "stream",
          "name": "stdout",
          "text": [
            "313/313 [==============================] - 1s 2ms/step - loss: 0.0352 - accuracy: 0.7631\n",
            "Test Loss: 0.0352\n",
            "Test Accuracy: 0.7631\n",
            "Precision: 0.75365292529142\n",
            "Recall: 0.7631\n",
            "F1 Score: 0.7498517077385308\n",
            "\n",
            "Classification Report:\n",
            "              precision    recall  f1-score   support\n",
            "\n",
            "           0       0.70      0.80      0.75      1000\n",
            "           1       0.97      0.91      0.94      1000\n",
            "           2       0.64      0.65      0.64      1000\n",
            "           3       0.75      0.84      0.79      1000\n",
            "           4       0.58      0.74      0.65      1000\n",
            "           5       0.82      0.81      0.82      1000\n",
            "           6       0.50      0.20      0.28      1000\n",
            "           7       0.82      0.84      0.83      1000\n",
            "           8       0.88      0.92      0.90      1000\n",
            "           9       0.87      0.93      0.90      1000\n",
            "\n",
            "    accuracy                           0.76     10000\n",
            "   macro avg       0.75      0.76      0.75     10000\n",
            "weighted avg       0.75      0.76      0.75     10000\n",
            "\n"
          ]
        }
      ]
    },
    {
      "cell_type": "markdown",
      "source": [
        "#### Discuss why the results are not as good. \n",
        "\n",
        "If you had more time what would you do to improve the results? *(10 pts)*"
      ],
      "metadata": {
        "id": "Os2Av7zxRmFF"
      }
    },
    {
      "cell_type": "markdown",
      "source": [
        "Here are a few potential reasons for the suboptimal results:\n",
        "<br>\n",
        ">**Complex Class Relationships**: The classes in the dataset might have \n",
        "intricate relationships that are difficult to learn. For example, differentiating between similar classes like T-shirt/top and Shirt, or distinguishing between different types of dresses and pullovers can be challenging. In such cases, the model might struggle to capture the subtle differences, leading to lower accuracy and F1 scores.\n",
        "<br>\n",
        "\n",
        ">**Limited Model Capacity**: The model architecture or complexity might not be sufficient to capture the underlying patterns in the data. If the model lacks the capacity to learn intricate features or relationships, it can result in reduced performance. Consider using more complex models or increasing the model's capacity by adding more layers or neurons.\n",
        "<br>\n",
        "\n",
        ">**Insufficient Training**: The model might not have been trained for a sufficient number of epochs or with enough training data. Deep learning models often require extensive training on diverse data to generalize well. If the model was trained for a limited duration or with a small dataset, it might not have converged to an optimal solution, leading to lower accuracy and performance.\n",
        "<br>\n",
        "\n",
        ">**Hyperparameter Tuning**: The model's hyperparameters, such as learning rate, batch size, or optimizer, might not have been appropriately tuned. Improper hyperparameter settings can hinder the model's learning process and result in suboptimal performance. Conducting a thorough hyperparameter search or employing techniques like grid search or random search might help improve the model's performance.\n",
        "<br>\n",
        "\n"
      ],
      "metadata": {
        "id": "dmNB2iVJRuXx"
      }
    },
    {
      "cell_type": "code",
      "source": [
        "# (OPTIONAL) Additional code to demonstrate possible improvements to the model in Part 2.\n",
        "model = Sequential()\n",
        "model.add(Dense(128, activation='relu', input_shape=(784,)))  # Increase number of neurons\n",
        "model.add(Dense(64, activation='relu'))  # Additional dense layer\n",
        "model.add(Dense(32, activation='relu'))  # Additional dense layer\n",
        "model.add(Dense(10, activation='softmax'))\n",
        "\n",
        "model.compile(\n",
        "    loss='mean_squared_error', \n",
        "    optimizer=SGD(learning_rate=0.01), \n",
        "    metrics=['accuracy']\n",
        ")\n"
      ],
      "metadata": {
        "id": "8vbWpIQPP7_b"
      },
      "execution_count": 91,
      "outputs": []
    },
    {
      "cell_type": "code",
      "source": [
        "batch_size = 128\n",
        "epochs = 200\n",
        "\n",
        "history = model.fit(\n",
        "    X_training,  # training data\n",
        "    y_training,  # training targets\n",
        "    epochs=epochs,\n",
        "    batch_size=batch_size,\n",
        "    verbose=1,\n",
        "    validation_data=(X_validation, y_validation)\n",
        ")\n"
      ],
      "metadata": {
        "colab": {
          "base_uri": "https://localhost:8080/",
          "height": 0
        },
        "id": "ZX_8G1QXDxNo",
        "outputId": "3d126b1f-468e-41db-fc62-d0b96412c921"
      },
      "execution_count": 92,
      "outputs": [
        {
          "output_type": "stream",
          "name": "stdout",
          "text": [
            "Epoch 1/200\n",
            "469/469 [==============================] - 2s 4ms/step - loss: 0.0888 - accuracy: 0.2195 - val_loss: 0.0880 - val_accuracy: 0.2692\n",
            "Epoch 2/200\n",
            "469/469 [==============================] - 1s 3ms/step - loss: 0.0873 - accuracy: 0.2986 - val_loss: 0.0866 - val_accuracy: 0.3230\n",
            "Epoch 3/200\n",
            "469/469 [==============================] - 1s 3ms/step - loss: 0.0858 - accuracy: 0.3447 - val_loss: 0.0851 - val_accuracy: 0.3610\n",
            "Epoch 4/200\n",
            "469/469 [==============================] - 1s 3ms/step - loss: 0.0841 - accuracy: 0.3824 - val_loss: 0.0833 - val_accuracy: 0.3995\n",
            "Epoch 5/200\n",
            "469/469 [==============================] - 2s 4ms/step - loss: 0.0821 - accuracy: 0.4167 - val_loss: 0.0811 - val_accuracy: 0.4273\n",
            "Epoch 6/200\n",
            "469/469 [==============================] - 2s 4ms/step - loss: 0.0797 - accuracy: 0.4385 - val_loss: 0.0785 - val_accuracy: 0.4483\n",
            "Epoch 7/200\n",
            "469/469 [==============================] - 3s 6ms/step - loss: 0.0768 - accuracy: 0.4605 - val_loss: 0.0753 - val_accuracy: 0.4749\n",
            "Epoch 8/200\n",
            "469/469 [==============================] - 2s 5ms/step - loss: 0.0731 - accuracy: 0.4994 - val_loss: 0.0711 - val_accuracy: 0.5257\n",
            "Epoch 9/200\n",
            "469/469 [==============================] - 1s 3ms/step - loss: 0.0684 - accuracy: 0.5580 - val_loss: 0.0661 - val_accuracy: 0.5839\n",
            "Epoch 10/200\n",
            "469/469 [==============================] - 2s 5ms/step - loss: 0.0632 - accuracy: 0.5930 - val_loss: 0.0612 - val_accuracy: 0.6001\n",
            "Epoch 11/200\n",
            "469/469 [==============================] - 4s 8ms/step - loss: 0.0588 - accuracy: 0.6057 - val_loss: 0.0574 - val_accuracy: 0.6105\n",
            "Epoch 12/200\n",
            "469/469 [==============================] - 1s 3ms/step - loss: 0.0555 - accuracy: 0.6135 - val_loss: 0.0545 - val_accuracy: 0.6145\n",
            "Epoch 13/200\n",
            "469/469 [==============================] - 1s 3ms/step - loss: 0.0528 - accuracy: 0.6212 - val_loss: 0.0520 - val_accuracy: 0.6263\n",
            "Epoch 14/200\n",
            "469/469 [==============================] - 1s 3ms/step - loss: 0.0506 - accuracy: 0.6341 - val_loss: 0.0501 - val_accuracy: 0.6385\n",
            "Epoch 15/200\n",
            "469/469 [==============================] - 1s 3ms/step - loss: 0.0489 - accuracy: 0.6431 - val_loss: 0.0486 - val_accuracy: 0.6453\n",
            "Epoch 16/200\n",
            "469/469 [==============================] - 2s 3ms/step - loss: 0.0475 - accuracy: 0.6499 - val_loss: 0.0474 - val_accuracy: 0.6529\n",
            "Epoch 17/200\n",
            "469/469 [==============================] - 1s 3ms/step - loss: 0.0464 - accuracy: 0.6552 - val_loss: 0.0463 - val_accuracy: 0.6558\n",
            "Epoch 18/200\n",
            "469/469 [==============================] - 2s 4ms/step - loss: 0.0453 - accuracy: 0.6599 - val_loss: 0.0453 - val_accuracy: 0.6613\n",
            "Epoch 19/200\n",
            "469/469 [==============================] - 3s 6ms/step - loss: 0.0444 - accuracy: 0.6654 - val_loss: 0.0445 - val_accuracy: 0.6635\n",
            "Epoch 20/200\n",
            "469/469 [==============================] - 2s 3ms/step - loss: 0.0435 - accuracy: 0.6710 - val_loss: 0.0437 - val_accuracy: 0.6708\n",
            "Epoch 21/200\n",
            "469/469 [==============================] - 2s 3ms/step - loss: 0.0427 - accuracy: 0.6770 - val_loss: 0.0429 - val_accuracy: 0.6746\n",
            "Epoch 22/200\n",
            "469/469 [==============================] - 2s 4ms/step - loss: 0.0420 - accuracy: 0.6833 - val_loss: 0.0423 - val_accuracy: 0.6794\n",
            "Epoch 23/200\n",
            "469/469 [==============================] - 1s 3ms/step - loss: 0.0413 - accuracy: 0.6906 - val_loss: 0.0416 - val_accuracy: 0.6842\n",
            "Epoch 24/200\n",
            "469/469 [==============================] - 1s 3ms/step - loss: 0.0407 - accuracy: 0.6967 - val_loss: 0.0410 - val_accuracy: 0.6908\n",
            "Epoch 25/200\n",
            "469/469 [==============================] - 2s 4ms/step - loss: 0.0401 - accuracy: 0.7041 - val_loss: 0.0404 - val_accuracy: 0.6981\n",
            "Epoch 26/200\n",
            "469/469 [==============================] - 2s 3ms/step - loss: 0.0395 - accuracy: 0.7113 - val_loss: 0.0399 - val_accuracy: 0.7042\n",
            "Epoch 27/200\n",
            "469/469 [==============================] - 2s 3ms/step - loss: 0.0389 - accuracy: 0.7188 - val_loss: 0.0394 - val_accuracy: 0.7133\n",
            "Epoch 28/200\n",
            "469/469 [==============================] - 1s 3ms/step - loss: 0.0384 - accuracy: 0.7258 - val_loss: 0.0389 - val_accuracy: 0.7219\n",
            "Epoch 29/200\n",
            "469/469 [==============================] - 1s 3ms/step - loss: 0.0378 - accuracy: 0.7333 - val_loss: 0.0384 - val_accuracy: 0.7244\n",
            "Epoch 30/200\n",
            "469/469 [==============================] - 1s 3ms/step - loss: 0.0373 - accuracy: 0.7398 - val_loss: 0.0379 - val_accuracy: 0.7313\n",
            "Epoch 31/200\n",
            "469/469 [==============================] - 1s 3ms/step - loss: 0.0368 - accuracy: 0.7463 - val_loss: 0.0374 - val_accuracy: 0.7393\n",
            "Epoch 32/200\n",
            "469/469 [==============================] - 1s 3ms/step - loss: 0.0363 - accuracy: 0.7533 - val_loss: 0.0370 - val_accuracy: 0.7459\n",
            "Epoch 33/200\n",
            "469/469 [==============================] - 2s 4ms/step - loss: 0.0359 - accuracy: 0.7578 - val_loss: 0.0365 - val_accuracy: 0.7510\n",
            "Epoch 34/200\n",
            "469/469 [==============================] - 2s 3ms/step - loss: 0.0354 - accuracy: 0.7631 - val_loss: 0.0360 - val_accuracy: 0.7547\n",
            "Epoch 35/200\n",
            "469/469 [==============================] - 1s 3ms/step - loss: 0.0349 - accuracy: 0.7676 - val_loss: 0.0356 - val_accuracy: 0.7602\n",
            "Epoch 36/200\n",
            "469/469 [==============================] - 1s 3ms/step - loss: 0.0345 - accuracy: 0.7717 - val_loss: 0.0352 - val_accuracy: 0.7615\n",
            "Epoch 37/200\n",
            "469/469 [==============================] - 1s 3ms/step - loss: 0.0341 - accuracy: 0.7750 - val_loss: 0.0348 - val_accuracy: 0.7687\n",
            "Epoch 38/200\n",
            "469/469 [==============================] - 1s 3ms/step - loss: 0.0336 - accuracy: 0.7794 - val_loss: 0.0344 - val_accuracy: 0.7703\n",
            "Epoch 39/200\n",
            "469/469 [==============================] - 1s 3ms/step - loss: 0.0332 - accuracy: 0.7821 - val_loss: 0.0340 - val_accuracy: 0.7751\n",
            "Epoch 40/200\n",
            "469/469 [==============================] - 1s 3ms/step - loss: 0.0328 - accuracy: 0.7857 - val_loss: 0.0336 - val_accuracy: 0.7763\n",
            "Epoch 41/200\n",
            "469/469 [==============================] - 2s 4ms/step - loss: 0.0324 - accuracy: 0.7887 - val_loss: 0.0332 - val_accuracy: 0.7795\n",
            "Epoch 42/200\n",
            "469/469 [==============================] - 2s 3ms/step - loss: 0.0320 - accuracy: 0.7916 - val_loss: 0.0328 - val_accuracy: 0.7824\n",
            "Epoch 43/200\n",
            "469/469 [==============================] - 1s 3ms/step - loss: 0.0316 - accuracy: 0.7935 - val_loss: 0.0325 - val_accuracy: 0.7852\n",
            "Epoch 44/200\n",
            "469/469 [==============================] - 2s 3ms/step - loss: 0.0313 - accuracy: 0.7962 - val_loss: 0.0321 - val_accuracy: 0.7875\n",
            "Epoch 45/200\n",
            "469/469 [==============================] - 1s 3ms/step - loss: 0.0310 - accuracy: 0.7975 - val_loss: 0.0318 - val_accuracy: 0.7875\n",
            "Epoch 46/200\n",
            "469/469 [==============================] - 1s 3ms/step - loss: 0.0306 - accuracy: 0.7993 - val_loss: 0.0315 - val_accuracy: 0.7930\n",
            "Epoch 47/200\n",
            "469/469 [==============================] - 1s 3ms/step - loss: 0.0303 - accuracy: 0.8016 - val_loss: 0.0312 - val_accuracy: 0.7938\n",
            "Epoch 48/200\n",
            "469/469 [==============================] - 1s 3ms/step - loss: 0.0300 - accuracy: 0.8038 - val_loss: 0.0310 - val_accuracy: 0.7955\n",
            "Epoch 49/200\n",
            "469/469 [==============================] - 2s 4ms/step - loss: 0.0298 - accuracy: 0.8053 - val_loss: 0.0307 - val_accuracy: 0.7971\n",
            "Epoch 50/200\n",
            "469/469 [==============================] - 2s 4ms/step - loss: 0.0295 - accuracy: 0.8062 - val_loss: 0.0304 - val_accuracy: 0.7973\n",
            "Epoch 51/200\n",
            "469/469 [==============================] - 1s 3ms/step - loss: 0.0292 - accuracy: 0.8080 - val_loss: 0.0303 - val_accuracy: 0.8000\n",
            "Epoch 52/200\n",
            "469/469 [==============================] - 1s 3ms/step - loss: 0.0290 - accuracy: 0.8092 - val_loss: 0.0300 - val_accuracy: 0.8019\n",
            "Epoch 53/200\n",
            "469/469 [==============================] - 1s 3ms/step - loss: 0.0288 - accuracy: 0.8109 - val_loss: 0.0298 - val_accuracy: 0.8028\n",
            "Epoch 54/200\n",
            "469/469 [==============================] - 1s 3ms/step - loss: 0.0285 - accuracy: 0.8116 - val_loss: 0.0296 - val_accuracy: 0.8037\n",
            "Epoch 55/200\n",
            "469/469 [==============================] - 1s 3ms/step - loss: 0.0283 - accuracy: 0.8130 - val_loss: 0.0294 - val_accuracy: 0.8054\n",
            "Epoch 56/200\n",
            "469/469 [==============================] - 1s 3ms/step - loss: 0.0281 - accuracy: 0.8136 - val_loss: 0.0292 - val_accuracy: 0.8059\n",
            "Epoch 57/200\n",
            "469/469 [==============================] - 2s 4ms/step - loss: 0.0279 - accuracy: 0.8150 - val_loss: 0.0290 - val_accuracy: 0.8070\n",
            "Epoch 58/200\n",
            "469/469 [==============================] - 2s 4ms/step - loss: 0.0277 - accuracy: 0.8151 - val_loss: 0.0288 - val_accuracy: 0.8079\n",
            "Epoch 59/200\n",
            "469/469 [==============================] - 1s 3ms/step - loss: 0.0276 - accuracy: 0.8163 - val_loss: 0.0286 - val_accuracy: 0.8076\n",
            "Epoch 60/200\n",
            "469/469 [==============================] - 1s 3ms/step - loss: 0.0274 - accuracy: 0.8172 - val_loss: 0.0285 - val_accuracy: 0.8097\n",
            "Epoch 61/200\n",
            "469/469 [==============================] - 1s 3ms/step - loss: 0.0272 - accuracy: 0.8184 - val_loss: 0.0284 - val_accuracy: 0.8090\n",
            "Epoch 62/200\n",
            "469/469 [==============================] - 1s 3ms/step - loss: 0.0270 - accuracy: 0.8196 - val_loss: 0.0282 - val_accuracy: 0.8105\n",
            "Epoch 63/200\n",
            "469/469 [==============================] - 1s 3ms/step - loss: 0.0269 - accuracy: 0.8210 - val_loss: 0.0280 - val_accuracy: 0.8107\n",
            "Epoch 64/200\n",
            "469/469 [==============================] - 1s 3ms/step - loss: 0.0267 - accuracy: 0.8214 - val_loss: 0.0279 - val_accuracy: 0.8126\n",
            "Epoch 65/200\n",
            "469/469 [==============================] - 2s 4ms/step - loss: 0.0266 - accuracy: 0.8222 - val_loss: 0.0277 - val_accuracy: 0.8136\n",
            "Epoch 66/200\n",
            "469/469 [==============================] - 2s 4ms/step - loss: 0.0264 - accuracy: 0.8231 - val_loss: 0.0276 - val_accuracy: 0.8135\n",
            "Epoch 67/200\n",
            "469/469 [==============================] - 1s 3ms/step - loss: 0.0263 - accuracy: 0.8231 - val_loss: 0.0275 - val_accuracy: 0.8133\n",
            "Epoch 68/200\n",
            "469/469 [==============================] - 1s 3ms/step - loss: 0.0262 - accuracy: 0.8243 - val_loss: 0.0273 - val_accuracy: 0.8161\n",
            "Epoch 69/200\n",
            "469/469 [==============================] - 1s 3ms/step - loss: 0.0260 - accuracy: 0.8253 - val_loss: 0.0273 - val_accuracy: 0.8164\n",
            "Epoch 70/200\n",
            "469/469 [==============================] - 1s 3ms/step - loss: 0.0259 - accuracy: 0.8260 - val_loss: 0.0271 - val_accuracy: 0.8169\n",
            "Epoch 71/200\n",
            "469/469 [==============================] - 1s 3ms/step - loss: 0.0258 - accuracy: 0.8266 - val_loss: 0.0270 - val_accuracy: 0.8170\n",
            "Epoch 72/200\n",
            "469/469 [==============================] - 1s 3ms/step - loss: 0.0257 - accuracy: 0.8278 - val_loss: 0.0269 - val_accuracy: 0.8174\n",
            "Epoch 73/200\n",
            "469/469 [==============================] - 2s 4ms/step - loss: 0.0255 - accuracy: 0.8276 - val_loss: 0.0268 - val_accuracy: 0.8176\n",
            "Epoch 74/200\n",
            "469/469 [==============================] - 2s 4ms/step - loss: 0.0254 - accuracy: 0.8286 - val_loss: 0.0267 - val_accuracy: 0.8188\n",
            "Epoch 75/200\n",
            "469/469 [==============================] - 2s 3ms/step - loss: 0.0253 - accuracy: 0.8297 - val_loss: 0.0266 - val_accuracy: 0.8202\n",
            "Epoch 76/200\n",
            "469/469 [==============================] - 1s 3ms/step - loss: 0.0252 - accuracy: 0.8304 - val_loss: 0.0265 - val_accuracy: 0.8202\n",
            "Epoch 77/200\n",
            "469/469 [==============================] - 1s 3ms/step - loss: 0.0251 - accuracy: 0.8306 - val_loss: 0.0264 - val_accuracy: 0.8199\n",
            "Epoch 78/200\n",
            "469/469 [==============================] - 1s 3ms/step - loss: 0.0250 - accuracy: 0.8316 - val_loss: 0.0263 - val_accuracy: 0.8201\n",
            "Epoch 79/200\n",
            "469/469 [==============================] - 1s 3ms/step - loss: 0.0249 - accuracy: 0.8324 - val_loss: 0.0263 - val_accuracy: 0.8211\n",
            "Epoch 80/200\n",
            "469/469 [==============================] - 1s 3ms/step - loss: 0.0248 - accuracy: 0.8334 - val_loss: 0.0262 - val_accuracy: 0.8218\n",
            "Epoch 81/200\n",
            "469/469 [==============================] - 2s 4ms/step - loss: 0.0247 - accuracy: 0.8335 - val_loss: 0.0261 - val_accuracy: 0.8221\n",
            "Epoch 82/200\n",
            "469/469 [==============================] - 2s 4ms/step - loss: 0.0246 - accuracy: 0.8347 - val_loss: 0.0260 - val_accuracy: 0.8226\n",
            "Epoch 83/200\n",
            "469/469 [==============================] - 1s 3ms/step - loss: 0.0246 - accuracy: 0.8351 - val_loss: 0.0259 - val_accuracy: 0.8229\n",
            "Epoch 84/200\n",
            "469/469 [==============================] - 1s 3ms/step - loss: 0.0245 - accuracy: 0.8356 - val_loss: 0.0259 - val_accuracy: 0.8245\n",
            "Epoch 85/200\n",
            "469/469 [==============================] - 1s 3ms/step - loss: 0.0244 - accuracy: 0.8358 - val_loss: 0.0258 - val_accuracy: 0.8253\n",
            "Epoch 86/200\n",
            "469/469 [==============================] - 1s 3ms/step - loss: 0.0243 - accuracy: 0.8366 - val_loss: 0.0257 - val_accuracy: 0.8249\n",
            "Epoch 87/200\n",
            "469/469 [==============================] - 1s 3ms/step - loss: 0.0242 - accuracy: 0.8376 - val_loss: 0.0257 - val_accuracy: 0.8247\n",
            "Epoch 88/200\n",
            "469/469 [==============================] - 1s 3ms/step - loss: 0.0242 - accuracy: 0.8379 - val_loss: 0.0256 - val_accuracy: 0.8251\n",
            "Epoch 89/200\n",
            "469/469 [==============================] - 2s 4ms/step - loss: 0.0241 - accuracy: 0.8380 - val_loss: 0.0256 - val_accuracy: 0.8263\n",
            "Epoch 90/200\n",
            "469/469 [==============================] - 2s 3ms/step - loss: 0.0240 - accuracy: 0.8388 - val_loss: 0.0255 - val_accuracy: 0.8260\n",
            "Epoch 91/200\n",
            "469/469 [==============================] - 1s 3ms/step - loss: 0.0239 - accuracy: 0.8388 - val_loss: 0.0254 - val_accuracy: 0.8273\n",
            "Epoch 92/200\n",
            "469/469 [==============================] - 1s 3ms/step - loss: 0.0239 - accuracy: 0.8390 - val_loss: 0.0253 - val_accuracy: 0.8259\n",
            "Epoch 93/200\n",
            "469/469 [==============================] - 2s 3ms/step - loss: 0.0238 - accuracy: 0.8402 - val_loss: 0.0252 - val_accuracy: 0.8275\n",
            "Epoch 94/200\n",
            "469/469 [==============================] - 1s 3ms/step - loss: 0.0237 - accuracy: 0.8407 - val_loss: 0.0252 - val_accuracy: 0.8266\n",
            "Epoch 95/200\n",
            "469/469 [==============================] - 2s 3ms/step - loss: 0.0237 - accuracy: 0.8411 - val_loss: 0.0252 - val_accuracy: 0.8280\n",
            "Epoch 96/200\n",
            "469/469 [==============================] - 2s 3ms/step - loss: 0.0236 - accuracy: 0.8411 - val_loss: 0.0251 - val_accuracy: 0.8280\n",
            "Epoch 97/200\n",
            "469/469 [==============================] - 2s 4ms/step - loss: 0.0235 - accuracy: 0.8414 - val_loss: 0.0251 - val_accuracy: 0.8276\n",
            "Epoch 98/200\n",
            "469/469 [==============================] - 2s 3ms/step - loss: 0.0235 - accuracy: 0.8418 - val_loss: 0.0250 - val_accuracy: 0.8303\n",
            "Epoch 99/200\n",
            "469/469 [==============================] - 1s 3ms/step - loss: 0.0234 - accuracy: 0.8424 - val_loss: 0.0249 - val_accuracy: 0.8293\n",
            "Epoch 100/200\n",
            "469/469 [==============================] - 1s 3ms/step - loss: 0.0234 - accuracy: 0.8431 - val_loss: 0.0249 - val_accuracy: 0.8289\n",
            "Epoch 101/200\n",
            "469/469 [==============================] - 1s 3ms/step - loss: 0.0233 - accuracy: 0.8439 - val_loss: 0.0248 - val_accuracy: 0.8308\n",
            "Epoch 102/200\n",
            "469/469 [==============================] - 1s 3ms/step - loss: 0.0232 - accuracy: 0.8432 - val_loss: 0.0248 - val_accuracy: 0.8300\n",
            "Epoch 103/200\n",
            "469/469 [==============================] - 1s 3ms/step - loss: 0.0232 - accuracy: 0.8444 - val_loss: 0.0248 - val_accuracy: 0.8297\n",
            "Epoch 104/200\n",
            "469/469 [==============================] - 2s 3ms/step - loss: 0.0231 - accuracy: 0.8446 - val_loss: 0.0247 - val_accuracy: 0.8313\n",
            "Epoch 105/200\n",
            "469/469 [==============================] - 2s 4ms/step - loss: 0.0231 - accuracy: 0.8451 - val_loss: 0.0246 - val_accuracy: 0.8317\n",
            "Epoch 106/200\n",
            "469/469 [==============================] - 1s 3ms/step - loss: 0.0230 - accuracy: 0.8456 - val_loss: 0.0247 - val_accuracy: 0.8311\n",
            "Epoch 107/200\n",
            "469/469 [==============================] - 2s 3ms/step - loss: 0.0230 - accuracy: 0.8454 - val_loss: 0.0246 - val_accuracy: 0.8315\n",
            "Epoch 108/200\n",
            "469/469 [==============================] - 1s 3ms/step - loss: 0.0229 - accuracy: 0.8458 - val_loss: 0.0245 - val_accuracy: 0.8321\n",
            "Epoch 109/200\n",
            "469/469 [==============================] - 2s 3ms/step - loss: 0.0229 - accuracy: 0.8460 - val_loss: 0.0245 - val_accuracy: 0.8330\n",
            "Epoch 110/200\n",
            "469/469 [==============================] - 1s 3ms/step - loss: 0.0228 - accuracy: 0.8466 - val_loss: 0.0244 - val_accuracy: 0.8329\n",
            "Epoch 111/200\n",
            "469/469 [==============================] - 1s 3ms/step - loss: 0.0228 - accuracy: 0.8472 - val_loss: 0.0244 - val_accuracy: 0.8345\n",
            "Epoch 112/200\n",
            "469/469 [==============================] - 2s 4ms/step - loss: 0.0227 - accuracy: 0.8478 - val_loss: 0.0243 - val_accuracy: 0.8348\n",
            "Epoch 113/200\n",
            "469/469 [==============================] - 2s 4ms/step - loss: 0.0227 - accuracy: 0.8474 - val_loss: 0.0243 - val_accuracy: 0.8333\n",
            "Epoch 114/200\n",
            "469/469 [==============================] - 1s 3ms/step - loss: 0.0226 - accuracy: 0.8481 - val_loss: 0.0243 - val_accuracy: 0.8337\n",
            "Epoch 115/200\n",
            "469/469 [==============================] - 1s 3ms/step - loss: 0.0226 - accuracy: 0.8481 - val_loss: 0.0242 - val_accuracy: 0.8343\n",
            "Epoch 116/200\n",
            "469/469 [==============================] - 1s 3ms/step - loss: 0.0225 - accuracy: 0.8491 - val_loss: 0.0243 - val_accuracy: 0.8332\n",
            "Epoch 117/200\n",
            "469/469 [==============================] - 1s 3ms/step - loss: 0.0225 - accuracy: 0.8490 - val_loss: 0.0241 - val_accuracy: 0.8353\n",
            "Epoch 118/200\n",
            "469/469 [==============================] - 1s 3ms/step - loss: 0.0224 - accuracy: 0.8494 - val_loss: 0.0242 - val_accuracy: 0.8343\n",
            "Epoch 119/200\n",
            "469/469 [==============================] - 1s 3ms/step - loss: 0.0224 - accuracy: 0.8491 - val_loss: 0.0241 - val_accuracy: 0.8350\n",
            "Epoch 120/200\n",
            "469/469 [==============================] - 2s 4ms/step - loss: 0.0224 - accuracy: 0.8499 - val_loss: 0.0240 - val_accuracy: 0.8366\n",
            "Epoch 121/200\n",
            "469/469 [==============================] - 2s 4ms/step - loss: 0.0223 - accuracy: 0.8499 - val_loss: 0.0240 - val_accuracy: 0.8353\n",
            "Epoch 122/200\n",
            "469/469 [==============================] - 1s 3ms/step - loss: 0.0223 - accuracy: 0.8505 - val_loss: 0.0240 - val_accuracy: 0.8345\n",
            "Epoch 123/200\n",
            "469/469 [==============================] - 1s 3ms/step - loss: 0.0222 - accuracy: 0.8507 - val_loss: 0.0239 - val_accuracy: 0.8371\n",
            "Epoch 124/200\n",
            "469/469 [==============================] - 1s 3ms/step - loss: 0.0222 - accuracy: 0.8508 - val_loss: 0.0239 - val_accuracy: 0.8368\n",
            "Epoch 125/200\n",
            "469/469 [==============================] - 2s 3ms/step - loss: 0.0221 - accuracy: 0.8516 - val_loss: 0.0238 - val_accuracy: 0.8369\n",
            "Epoch 126/200\n",
            "469/469 [==============================] - 1s 3ms/step - loss: 0.0221 - accuracy: 0.8512 - val_loss: 0.0238 - val_accuracy: 0.8361\n",
            "Epoch 127/200\n",
            "469/469 [==============================] - 1s 3ms/step - loss: 0.0221 - accuracy: 0.8515 - val_loss: 0.0238 - val_accuracy: 0.8374\n",
            "Epoch 128/200\n",
            "469/469 [==============================] - 2s 4ms/step - loss: 0.0220 - accuracy: 0.8512 - val_loss: 0.0237 - val_accuracy: 0.8372\n",
            "Epoch 129/200\n",
            "469/469 [==============================] - 2s 4ms/step - loss: 0.0220 - accuracy: 0.8520 - val_loss: 0.0238 - val_accuracy: 0.8367\n",
            "Epoch 130/200\n",
            "469/469 [==============================] - 2s 3ms/step - loss: 0.0220 - accuracy: 0.8527 - val_loss: 0.0238 - val_accuracy: 0.8368\n",
            "Epoch 131/200\n",
            "469/469 [==============================] - 1s 3ms/step - loss: 0.0219 - accuracy: 0.8528 - val_loss: 0.0236 - val_accuracy: 0.8369\n",
            "Epoch 132/200\n",
            "469/469 [==============================] - 1s 3ms/step - loss: 0.0219 - accuracy: 0.8528 - val_loss: 0.0237 - val_accuracy: 0.8377\n",
            "Epoch 133/200\n",
            "469/469 [==============================] - 1s 3ms/step - loss: 0.0218 - accuracy: 0.8534 - val_loss: 0.0236 - val_accuracy: 0.8381\n",
            "Epoch 134/200\n",
            "469/469 [==============================] - 2s 4ms/step - loss: 0.0218 - accuracy: 0.8533 - val_loss: 0.0236 - val_accuracy: 0.8379\n",
            "Epoch 135/200\n",
            "469/469 [==============================] - 1s 3ms/step - loss: 0.0218 - accuracy: 0.8537 - val_loss: 0.0235 - val_accuracy: 0.8383\n",
            "Epoch 136/200\n",
            "469/469 [==============================] - 2s 4ms/step - loss: 0.0217 - accuracy: 0.8536 - val_loss: 0.0235 - val_accuracy: 0.8391\n",
            "Epoch 137/200\n",
            "469/469 [==============================] - 2s 3ms/step - loss: 0.0217 - accuracy: 0.8542 - val_loss: 0.0235 - val_accuracy: 0.8381\n",
            "Epoch 138/200\n",
            "469/469 [==============================] - 1s 3ms/step - loss: 0.0217 - accuracy: 0.8546 - val_loss: 0.0235 - val_accuracy: 0.8377\n",
            "Epoch 139/200\n",
            "469/469 [==============================] - 2s 3ms/step - loss: 0.0216 - accuracy: 0.8544 - val_loss: 0.0234 - val_accuracy: 0.8391\n",
            "Epoch 140/200\n",
            "469/469 [==============================] - 1s 3ms/step - loss: 0.0216 - accuracy: 0.8551 - val_loss: 0.0234 - val_accuracy: 0.8399\n",
            "Epoch 141/200\n",
            "469/469 [==============================] - 1s 3ms/step - loss: 0.0216 - accuracy: 0.8551 - val_loss: 0.0234 - val_accuracy: 0.8399\n",
            "Epoch 142/200\n",
            "469/469 [==============================] - 2s 3ms/step - loss: 0.0215 - accuracy: 0.8554 - val_loss: 0.0233 - val_accuracy: 0.8393\n",
            "Epoch 143/200\n",
            "469/469 [==============================] - 2s 3ms/step - loss: 0.0215 - accuracy: 0.8556 - val_loss: 0.0233 - val_accuracy: 0.8402\n",
            "Epoch 144/200\n",
            "469/469 [==============================] - 2s 4ms/step - loss: 0.0215 - accuracy: 0.8564 - val_loss: 0.0233 - val_accuracy: 0.8406\n",
            "Epoch 145/200\n",
            "469/469 [==============================] - 1s 3ms/step - loss: 0.0214 - accuracy: 0.8561 - val_loss: 0.0233 - val_accuracy: 0.8382\n",
            "Epoch 146/200\n",
            "469/469 [==============================] - 1s 3ms/step - loss: 0.0214 - accuracy: 0.8562 - val_loss: 0.0232 - val_accuracy: 0.8407\n",
            "Epoch 147/200\n",
            "469/469 [==============================] - 1s 3ms/step - loss: 0.0214 - accuracy: 0.8564 - val_loss: 0.0233 - val_accuracy: 0.8387\n",
            "Epoch 148/200\n",
            "469/469 [==============================] - 2s 3ms/step - loss: 0.0213 - accuracy: 0.8564 - val_loss: 0.0232 - val_accuracy: 0.8409\n",
            "Epoch 149/200\n",
            "469/469 [==============================] - 2s 3ms/step - loss: 0.0213 - accuracy: 0.8571 - val_loss: 0.0231 - val_accuracy: 0.8420\n",
            "Epoch 150/200\n",
            "469/469 [==============================] - 2s 3ms/step - loss: 0.0213 - accuracy: 0.8573 - val_loss: 0.0231 - val_accuracy: 0.8400\n",
            "Epoch 151/200\n",
            "469/469 [==============================] - 2s 4ms/step - loss: 0.0212 - accuracy: 0.8577 - val_loss: 0.0232 - val_accuracy: 0.8415\n",
            "Epoch 152/200\n",
            "469/469 [==============================] - 2s 4ms/step - loss: 0.0212 - accuracy: 0.8578 - val_loss: 0.0231 - val_accuracy: 0.8400\n",
            "Epoch 153/200\n",
            "469/469 [==============================] - 2s 3ms/step - loss: 0.0212 - accuracy: 0.8579 - val_loss: 0.0231 - val_accuracy: 0.8416\n",
            "Epoch 154/200\n",
            "469/469 [==============================] - 2s 3ms/step - loss: 0.0211 - accuracy: 0.8580 - val_loss: 0.0230 - val_accuracy: 0.8412\n",
            "Epoch 155/200\n",
            "469/469 [==============================] - 2s 3ms/step - loss: 0.0211 - accuracy: 0.8581 - val_loss: 0.0230 - val_accuracy: 0.8419\n",
            "Epoch 156/200\n",
            "469/469 [==============================] - 1s 3ms/step - loss: 0.0211 - accuracy: 0.8588 - val_loss: 0.0230 - val_accuracy: 0.8429\n",
            "Epoch 157/200\n",
            "469/469 [==============================] - 2s 3ms/step - loss: 0.0211 - accuracy: 0.8583 - val_loss: 0.0230 - val_accuracy: 0.8422\n",
            "Epoch 158/200\n",
            "469/469 [==============================] - 2s 3ms/step - loss: 0.0210 - accuracy: 0.8585 - val_loss: 0.0231 - val_accuracy: 0.8409\n",
            "Epoch 159/200\n",
            "469/469 [==============================] - 2s 4ms/step - loss: 0.0210 - accuracy: 0.8594 - val_loss: 0.0229 - val_accuracy: 0.8440\n",
            "Epoch 160/200\n",
            "469/469 [==============================] - 2s 3ms/step - loss: 0.0210 - accuracy: 0.8596 - val_loss: 0.0229 - val_accuracy: 0.8429\n",
            "Epoch 161/200\n",
            "469/469 [==============================] - 1s 3ms/step - loss: 0.0210 - accuracy: 0.8592 - val_loss: 0.0228 - val_accuracy: 0.8428\n",
            "Epoch 162/200\n",
            "469/469 [==============================] - 1s 3ms/step - loss: 0.0209 - accuracy: 0.8595 - val_loss: 0.0228 - val_accuracy: 0.8423\n",
            "Epoch 163/200\n",
            "469/469 [==============================] - 1s 3ms/step - loss: 0.0209 - accuracy: 0.8599 - val_loss: 0.0228 - val_accuracy: 0.8432\n",
            "Epoch 164/200\n",
            "469/469 [==============================] - 1s 3ms/step - loss: 0.0209 - accuracy: 0.8604 - val_loss: 0.0228 - val_accuracy: 0.8433\n",
            "Epoch 165/200\n",
            "469/469 [==============================] - 2s 3ms/step - loss: 0.0208 - accuracy: 0.8602 - val_loss: 0.0228 - val_accuracy: 0.8439\n",
            "Epoch 166/200\n",
            "469/469 [==============================] - 1s 3ms/step - loss: 0.0208 - accuracy: 0.8605 - val_loss: 0.0227 - val_accuracy: 0.8438\n",
            "Epoch 167/200\n",
            "469/469 [==============================] - 2s 4ms/step - loss: 0.0208 - accuracy: 0.8603 - val_loss: 0.0228 - val_accuracy: 0.8434\n",
            "Epoch 168/200\n",
            "469/469 [==============================] - 2s 4ms/step - loss: 0.0208 - accuracy: 0.8607 - val_loss: 0.0227 - val_accuracy: 0.8439\n",
            "Epoch 169/200\n",
            "469/469 [==============================] - 2s 3ms/step - loss: 0.0207 - accuracy: 0.8605 - val_loss: 0.0227 - val_accuracy: 0.8440\n",
            "Epoch 170/200\n",
            "469/469 [==============================] - 1s 3ms/step - loss: 0.0207 - accuracy: 0.8607 - val_loss: 0.0226 - val_accuracy: 0.8454\n",
            "Epoch 171/200\n",
            "469/469 [==============================] - 1s 3ms/step - loss: 0.0207 - accuracy: 0.8611 - val_loss: 0.0227 - val_accuracy: 0.8452\n",
            "Epoch 172/200\n",
            "469/469 [==============================] - 2s 3ms/step - loss: 0.0206 - accuracy: 0.8614 - val_loss: 0.0226 - val_accuracy: 0.8452\n",
            "Epoch 173/200\n",
            "469/469 [==============================] - 1s 3ms/step - loss: 0.0206 - accuracy: 0.8616 - val_loss: 0.0226 - val_accuracy: 0.8453\n",
            "Epoch 174/200\n",
            "469/469 [==============================] - 2s 4ms/step - loss: 0.0206 - accuracy: 0.8616 - val_loss: 0.0225 - val_accuracy: 0.8455\n",
            "Epoch 175/200\n",
            "469/469 [==============================] - 2s 4ms/step - loss: 0.0206 - accuracy: 0.8619 - val_loss: 0.0225 - val_accuracy: 0.8469\n",
            "Epoch 176/200\n",
            "469/469 [==============================] - 1s 3ms/step - loss: 0.0205 - accuracy: 0.8619 - val_loss: 0.0225 - val_accuracy: 0.8451\n",
            "Epoch 177/200\n",
            "469/469 [==============================] - 1s 3ms/step - loss: 0.0205 - accuracy: 0.8623 - val_loss: 0.0225 - val_accuracy: 0.8451\n",
            "Epoch 178/200\n",
            "469/469 [==============================] - 2s 3ms/step - loss: 0.0205 - accuracy: 0.8624 - val_loss: 0.0225 - val_accuracy: 0.8468\n",
            "Epoch 179/200\n",
            "469/469 [==============================] - 1s 3ms/step - loss: 0.0205 - accuracy: 0.8626 - val_loss: 0.0225 - val_accuracy: 0.8469\n",
            "Epoch 180/200\n",
            "469/469 [==============================] - 1s 3ms/step - loss: 0.0204 - accuracy: 0.8627 - val_loss: 0.0225 - val_accuracy: 0.8474\n",
            "Epoch 181/200\n",
            "469/469 [==============================] - 1s 3ms/step - loss: 0.0204 - accuracy: 0.8632 - val_loss: 0.0224 - val_accuracy: 0.8464\n",
            "Epoch 182/200\n",
            "469/469 [==============================] - 2s 4ms/step - loss: 0.0204 - accuracy: 0.8631 - val_loss: 0.0224 - val_accuracy: 0.8460\n",
            "Epoch 183/200\n",
            "469/469 [==============================] - 2s 4ms/step - loss: 0.0204 - accuracy: 0.8632 - val_loss: 0.0224 - val_accuracy: 0.8473\n",
            "Epoch 184/200\n",
            "469/469 [==============================] - 1s 3ms/step - loss: 0.0203 - accuracy: 0.8633 - val_loss: 0.0224 - val_accuracy: 0.8468\n",
            "Epoch 185/200\n",
            "469/469 [==============================] - 1s 3ms/step - loss: 0.0203 - accuracy: 0.8637 - val_loss: 0.0223 - val_accuracy: 0.8477\n",
            "Epoch 186/200\n",
            "469/469 [==============================] - 1s 3ms/step - loss: 0.0203 - accuracy: 0.8633 - val_loss: 0.0223 - val_accuracy: 0.8479\n",
            "Epoch 187/200\n",
            "469/469 [==============================] - 2s 3ms/step - loss: 0.0203 - accuracy: 0.8639 - val_loss: 0.0223 - val_accuracy: 0.8482\n",
            "Epoch 188/200\n",
            "469/469 [==============================] - 1s 3ms/step - loss: 0.0202 - accuracy: 0.8639 - val_loss: 0.0223 - val_accuracy: 0.8479\n",
            "Epoch 189/200\n",
            "469/469 [==============================] - 1s 3ms/step - loss: 0.0202 - accuracy: 0.8640 - val_loss: 0.0223 - val_accuracy: 0.8468\n",
            "Epoch 190/200\n",
            "469/469 [==============================] - 2s 4ms/step - loss: 0.0202 - accuracy: 0.8641 - val_loss: 0.0223 - val_accuracy: 0.8481\n",
            "Epoch 191/200\n",
            "469/469 [==============================] - 2s 4ms/step - loss: 0.0202 - accuracy: 0.8643 - val_loss: 0.0222 - val_accuracy: 0.8485\n",
            "Epoch 192/200\n",
            "469/469 [==============================] - 1s 3ms/step - loss: 0.0202 - accuracy: 0.8643 - val_loss: 0.0223 - val_accuracy: 0.8485\n",
            "Epoch 193/200\n",
            "469/469 [==============================] - 1s 3ms/step - loss: 0.0201 - accuracy: 0.8652 - val_loss: 0.0222 - val_accuracy: 0.8483\n",
            "Epoch 194/200\n",
            "469/469 [==============================] - 2s 3ms/step - loss: 0.0201 - accuracy: 0.8653 - val_loss: 0.0222 - val_accuracy: 0.8486\n",
            "Epoch 195/200\n",
            "469/469 [==============================] - 2s 3ms/step - loss: 0.0201 - accuracy: 0.8650 - val_loss: 0.0221 - val_accuracy: 0.8489\n",
            "Epoch 196/200\n",
            "469/469 [==============================] - 1s 3ms/step - loss: 0.0201 - accuracy: 0.8647 - val_loss: 0.0221 - val_accuracy: 0.8493\n",
            "Epoch 197/200\n",
            "469/469 [==============================] - 1s 3ms/step - loss: 0.0200 - accuracy: 0.8648 - val_loss: 0.0221 - val_accuracy: 0.8493\n",
            "Epoch 198/200\n",
            "469/469 [==============================] - 2s 4ms/step - loss: 0.0200 - accuracy: 0.8649 - val_loss: 0.0221 - val_accuracy: 0.8492\n",
            "Epoch 199/200\n",
            "469/469 [==============================] - 2s 4ms/step - loss: 0.0200 - accuracy: 0.8656 - val_loss: 0.0221 - val_accuracy: 0.8498\n",
            "Epoch 200/200\n",
            "469/469 [==============================] - 1s 3ms/step - loss: 0.0200 - accuracy: 0.8652 - val_loss: 0.0221 - val_accuracy: 0.8495\n"
          ]
        }
      ]
    },
    {
      "cell_type": "code",
      "source": [
        "# Evaluate the model on the test set\n",
        "test_loss, test_accuracy = model.evaluate(X_validation, y_validation)\n",
        "\n",
        "# Calculate other evaluation metrics\n",
        "classification = classification_report(y_test, y_pred)\n",
        "\n",
        "# Calculate precision, recall, and F1 score\n",
        "precision = precision_score(y_test, y_pred, average='weighted')\n",
        "recall = recall_score(y_test, y_pred, average='weighted')\n",
        "f1 = f1_score(y_test, y_pred, average='weighted')\n",
        "\n",
        "# Display the metrics\n",
        "print(f\"Test Loss: {test_loss:.4f}\")\n",
        "print(f\"Test Accuracy: {test_accuracy:.4f}\")\n",
        "print(\"Precision:\", precision)\n",
        "print(\"Recall:\", recall)\n",
        "print(\"F1 Score:\", f1)\n",
        "\n",
        "print(f\"\\nClassification Report:\\n{classification}\")"
      ],
      "metadata": {
        "colab": {
          "base_uri": "https://localhost:8080/",
          "height": 0
        },
        "id": "0YDMeZarD1Uy",
        "outputId": "35fe9bc3-eecf-4b6e-ab6f-8e77164812f3"
      },
      "execution_count": 94,
      "outputs": [
        {
          "output_type": "stream",
          "name": "stdout",
          "text": [
            "313/313 [==============================] - 1s 2ms/step - loss: 0.0221 - accuracy: 0.8495\n",
            "Test Loss: 0.0221\n",
            "Test Accuracy: 0.8495\n",
            "Precision: 0.75365292529142\n",
            "Recall: 0.7631\n",
            "F1 Score: 0.7498517077385308\n",
            "\n",
            "Classification Report:\n",
            "              precision    recall  f1-score   support\n",
            "\n",
            "           0       0.70      0.80      0.75      1000\n",
            "           1       0.97      0.91      0.94      1000\n",
            "           2       0.64      0.65      0.64      1000\n",
            "           3       0.75      0.84      0.79      1000\n",
            "           4       0.58      0.74      0.65      1000\n",
            "           5       0.82      0.81      0.82      1000\n",
            "           6       0.50      0.20      0.28      1000\n",
            "           7       0.82      0.84      0.83      1000\n",
            "           8       0.88      0.92      0.90      1000\n",
            "           9       0.87      0.93      0.90      1000\n",
            "\n",
            "    accuracy                           0.76     10000\n",
            "   macro avg       0.75      0.76      0.75     10000\n",
            "weighted avg       0.75      0.76      0.75     10000\n",
            "\n"
          ]
        }
      ]
    },
    {
      "cell_type": "code",
      "source": [
        "# Your Plot learning curves code here and in additional code cells as needed\n",
        "# list all data in history\n",
        "print(history.history.keys())\n",
        "\n",
        "# summarize history for accuracy\n",
        "plt.plot(history.history['accuracy'])\n",
        "plt.plot(history.history['val_accuracy'])\n",
        "plt.title('model accuracy')\n",
        "plt.ylabel('accuracy')\n",
        "plt.xlabel('epoch')\n",
        "plt.legend(['train', 'validation'], loc='upper left')\n",
        "plt.show()\n",
        "\n",
        "# summarize history for loss\n",
        "plt.plot(history.history['loss'])\n",
        "plt.plot(history.history['val_loss'])\n",
        "plt.title('model loss')\n",
        "plt.ylabel('loss')\n",
        "plt.xlabel('epoch')\n",
        "plt.legend(['train', 'validation'], loc='upper left')\n",
        "plt.show()"
      ],
      "metadata": {
        "colab": {
          "base_uri": "https://localhost:8080/",
          "height": 945
        },
        "id": "B3jEGnmCLe7X",
        "outputId": "f17b94fd-aea4-4f4b-d6bb-ab3c04d23fb4"
      },
      "execution_count": 96,
      "outputs": [
        {
          "output_type": "stream",
          "name": "stdout",
          "text": [
            "dict_keys(['loss', 'accuracy', 'val_loss', 'val_accuracy'])\n"
          ]
        },
        {
          "output_type": "display_data",
          "data": {
            "text/plain": [
              "<Figure size 640x480 with 1 Axes>"
            ],
            "image/png": "[encoded data removed]"
          },
          "metadata": {}
        },
        {
          "output_type": "display_data",
          "data": {
            "text/plain": [
              "<Figure size 640x480 with 1 Axes>"
            ],
            "image/png": "[encoded data removed]"
          },
          "metadata": {}
        }
      ]
    },
    {
      "cell_type": "markdown",
      "source": [
        "Conversion of colab notebook file to HTML file as report"
      ],
      "metadata": {
        "id": "v2BcsXD_Gpis"
      }
    },
    {
      "cell_type": "code",
      "source": [
        "%%shell\n",
        "jupyter nbconvert --to html /content/Copy_of_Copy_of_P1_starter.ipynb"
      ],
      "metadata": {
        "colab": {
          "base_uri": "https://localhost:8080/"
        },
        "id": "IlmF0nZkGomj",
        "outputId": "c34e348e-1d13-450a-a8b6-0205b54561ac"
      },
      "execution_count": 99,
      "outputs": [
        {
          "output_type": "stream",
          "name": "stdout",
          "text": [
            "[NbConvertApp] Converting notebook /content/Copy_of_Copy_of_P1_starter.ipynb to html\n",
            "[NbConvertApp] Writing 1237046 bytes to /content/Copy_of_Copy_of_P1_starter.html\n"
          ]
        },
        {
          "output_type": "execute_result",
          "data": {
            "text/plain": []
          },
          "metadata": {},
          "execution_count": 99
        }
      ]
    },
    {
      "cell_type": "code",
      "source": [],
      "metadata": {
        "id": "CqkMS0cHGokD"
      },
      "execution_count": null,
      "outputs": []
    }
  ]
}